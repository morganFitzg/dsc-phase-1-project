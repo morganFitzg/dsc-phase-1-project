{
 "cells": [
  {
   "cell_type": "markdown",
   "metadata": {},
   "source": [
    "# Phase 1 Project API Calls #"
   ]
  },
  {
   "cell_type": "code",
   "execution_count": 1,
   "metadata": {},
   "outputs": [],
   "source": [
    "# Import standard packages\n",
    "import pandas as pd\n",
    "import numpy as np\n",
    "import matplotlib.pyplot as plt\n",
    "import seaborn as sns\n",
    "import requests\n",
    "\n",
    "%matplotlib inline"
   ]
  },
  {
   "cell_type": "code",
   "execution_count": 2,
   "metadata": {
    "scrolled": true
   },
   "outputs": [
    {
     "data": {
      "text/html": [
       "<div>\n",
       "<style scoped>\n",
       "    .dataframe tbody tr th:only-of-type {\n",
       "        vertical-align: middle;\n",
       "    }\n",
       "\n",
       "    .dataframe tbody tr th {\n",
       "        vertical-align: top;\n",
       "    }\n",
       "\n",
       "    .dataframe thead th {\n",
       "        text-align: right;\n",
       "    }\n",
       "</style>\n",
       "<table border=\"1\" class=\"dataframe\">\n",
       "  <thead>\n",
       "    <tr style=\"text-align: right;\">\n",
       "      <th></th>\n",
       "      <th>tconst</th>\n",
       "      <th>primary_title</th>\n",
       "      <th>original_title</th>\n",
       "      <th>start_year</th>\n",
       "      <th>runtime_minutes</th>\n",
       "      <th>genres</th>\n",
       "    </tr>\n",
       "  </thead>\n",
       "  <tbody>\n",
       "    <tr>\n",
       "      <th>0</th>\n",
       "      <td>tt0063540</td>\n",
       "      <td>Sunghursh</td>\n",
       "      <td>Sunghursh</td>\n",
       "      <td>2013</td>\n",
       "      <td>175.0</td>\n",
       "      <td>Action,Crime,Drama</td>\n",
       "    </tr>\n",
       "    <tr>\n",
       "      <th>1</th>\n",
       "      <td>tt0066787</td>\n",
       "      <td>One Day Before the Rainy Season</td>\n",
       "      <td>Ashad Ka Ek Din</td>\n",
       "      <td>2019</td>\n",
       "      <td>114.0</td>\n",
       "      <td>Biography,Drama</td>\n",
       "    </tr>\n",
       "    <tr>\n",
       "      <th>2</th>\n",
       "      <td>tt0069049</td>\n",
       "      <td>The Other Side of the Wind</td>\n",
       "      <td>The Other Side of the Wind</td>\n",
       "      <td>2018</td>\n",
       "      <td>122.0</td>\n",
       "      <td>Drama</td>\n",
       "    </tr>\n",
       "    <tr>\n",
       "      <th>3</th>\n",
       "      <td>tt0069204</td>\n",
       "      <td>Sabse Bada Sukh</td>\n",
       "      <td>Sabse Bada Sukh</td>\n",
       "      <td>2018</td>\n",
       "      <td>NaN</td>\n",
       "      <td>Comedy,Drama</td>\n",
       "    </tr>\n",
       "    <tr>\n",
       "      <th>4</th>\n",
       "      <td>tt0100275</td>\n",
       "      <td>The Wandering Soap Opera</td>\n",
       "      <td>La Telenovela Errante</td>\n",
       "      <td>2017</td>\n",
       "      <td>80.0</td>\n",
       "      <td>Comedy,Drama,Fantasy</td>\n",
       "    </tr>\n",
       "  </tbody>\n",
       "</table>\n",
       "</div>"
      ],
      "text/plain": [
       "      tconst                    primary_title              original_title  \\\n",
       "0  tt0063540                        Sunghursh                   Sunghursh   \n",
       "1  tt0066787  One Day Before the Rainy Season             Ashad Ka Ek Din   \n",
       "2  tt0069049       The Other Side of the Wind  The Other Side of the Wind   \n",
       "3  tt0069204                  Sabse Bada Sukh             Sabse Bada Sukh   \n",
       "4  tt0100275         The Wandering Soap Opera       La Telenovela Errante   \n",
       "\n",
       "   start_year  runtime_minutes                genres  \n",
       "0        2013            175.0    Action,Crime,Drama  \n",
       "1        2019            114.0       Biography,Drama  \n",
       "2        2018            122.0                 Drama  \n",
       "3        2018              NaN          Comedy,Drama  \n",
       "4        2017             80.0  Comedy,Drama,Fantasy  "
      ]
     },
     "execution_count": 2,
     "metadata": {},
     "output_type": "execute_result"
    }
   ],
   "source": [
    "#import imdb title basics into df\n",
    "file='zippedData/imdb.title.basics.csv.gz'\n",
    "imdb_df=pd.read_csv(file)\n",
    "imdb_df.head()"
   ]
  },
  {
   "cell_type": "code",
   "execution_count": 3,
   "metadata": {},
   "outputs": [
    {
     "data": {
      "text/plain": [
       "2017    17504\n",
       "2016    17272\n",
       "2018    16849\n",
       "2015    16243\n",
       "2014    15589\n",
       "2013    14709\n",
       "2012    13787\n",
       "2011    12900\n",
       "2010    11849\n",
       "2019     8379\n",
       "2020      937\n",
       "2021       83\n",
       "2022       32\n",
       "2023        5\n",
       "2024        2\n",
       "2027        1\n",
       "2026        1\n",
       "2025        1\n",
       "2115        1\n",
       "Name: start_year, dtype: int64"
      ]
     },
     "execution_count": 3,
     "metadata": {},
     "output_type": "execute_result"
    }
   ],
   "source": [
    "imdb_df['start_year'].value_counts()"
   ]
  },
  {
   "cell_type": "code",
   "execution_count": 10,
   "metadata": {},
   "outputs": [
    {
     "data": {
      "text/plain": [
       "(146018, 6)"
      ]
     },
     "execution_count": 10,
     "metadata": {},
     "output_type": "execute_result"
    }
   ],
   "source": [
    "imdb_10yr=imdb_df[imdb_df['start_year']<2021]\n",
    "imdb_10yr.shape"
   ]
  },
  {
   "cell_type": "code",
   "execution_count": 11,
   "metadata": {},
   "outputs": [],
   "source": [
    "import json"
   ]
  },
  {
   "cell_type": "code",
   "execution_count": 13,
   "metadata": {},
   "outputs": [],
   "source": [
    "#load key for IMDB API\n",
    "def get_keys(path):\n",
    "    with open(path) as f:\n",
    "        return json.load(f)\n",
    "    \n",
    "keys = get_keys(\"/Users/morgandj/.secret/imdb_creds.json\")\n",
    "host=keys['host']\n",
    "key=keys['key']"
   ]
  },
  {
   "cell_type": "code",
   "execution_count": 25,
   "metadata": {},
   "outputs": [],
   "source": [
    "#function that calls data on a list of movie ids from a specific endpoint in imdb\n",
    "#returns a list of responses\n",
    "def imdb_requests_byid(list_ids,url):\n",
    "    responses=[]\n",
    "    for count,i in enumerate(list_ids):\n",
    "        imdb_id=i\n",
    "        #if (count%1000)==0:\n",
    "         #   print(count)\n",
    "        params={'tconst': imdb_id}\n",
    "        response=requests.get(url,headers=headers, params=params)\n",
    "        responses.append(response)\n",
    "    return responses"
   ]
  },
  {
   "cell_type": "code",
   "execution_count": 15,
   "metadata": {},
   "outputs": [
    {
     "data": {
      "text/plain": [
       "146018"
      ]
     },
     "execution_count": 15,
     "metadata": {},
     "output_type": "execute_result"
    }
   ],
   "source": [
    "#make list of all ids for movies from last 10 years\n",
    "imdb_10_ids=imdb_10yr['tconst']\n",
    "id_list=imdb_10_ids.tolist()\n",
    "len(id_list)"
   ]
  },
  {
   "cell_type": "code",
   "execution_count": 24,
   "metadata": {},
   "outputs": [
    {
     "data": {
      "text/plain": [
       "293"
      ]
     },
     "execution_count": 24,
     "metadata": {},
     "output_type": "execute_result"
    }
   ],
   "source": [
    "#break the longer list into 500 id chunks \n",
    "id_list_of_lists=[id_list[(i-500):i] for i in list(range(500,147000,500))]\n",
    "len(id_list_of_lists[-1])\n",
    "len(id_list_of_lists)"
   ]
  },
  {
   "cell_type": "code",
   "execution_count": 26,
   "metadata": {},
   "outputs": [
    {
     "name": "stdout",
     "output_type": "stream",
     "text": [
      "0\n",
      "1\n",
      "2\n",
      "3\n",
      "4\n",
      "5\n",
      "6\n",
      "7\n",
      "8\n",
      "9\n",
      "10\n",
      "11\n",
      "12\n",
      "13\n",
      "14\n",
      "15\n",
      "16\n",
      "17\n",
      "18\n",
      "19\n",
      "20\n",
      "21\n",
      "22\n",
      "23\n",
      "24\n",
      "25\n",
      "26\n",
      "27\n",
      "28\n",
      "29\n",
      "30\n",
      "31\n",
      "32\n",
      "33\n",
      "34\n",
      "35\n",
      "36\n",
      "37\n",
      "38\n",
      "39\n",
      "40\n",
      "41\n",
      "42\n",
      "43\n",
      "44\n",
      "45\n",
      "46\n",
      "47\n",
      "48\n",
      "49\n",
      "50\n",
      "51\n",
      "52\n",
      "53\n",
      "54\n",
      "55\n",
      "56\n",
      "57\n",
      "58\n",
      "59\n",
      "60\n",
      "61\n",
      "62\n",
      "63\n",
      "64\n",
      "65\n",
      "66\n",
      "67\n",
      "68\n",
      "69\n",
      "70\n",
      "71\n",
      "72\n",
      "73\n",
      "74\n",
      "75\n",
      "76\n",
      "77\n",
      "78\n",
      "79\n",
      "80\n",
      "81\n",
      "82\n",
      "83\n",
      "84\n",
      "85\n",
      "86\n",
      "87\n",
      "88\n",
      "89\n",
      "90\n",
      "91\n",
      "92\n",
      "93\n",
      "94\n",
      "95\n",
      "96\n",
      "97\n",
      "98\n",
      "99\n",
      "100\n",
      "101\n",
      "102\n",
      "103\n",
      "104\n",
      "105\n",
      "106\n",
      "107\n",
      "108\n",
      "109\n",
      "110\n",
      "111\n",
      "112\n",
      "113\n",
      "114\n",
      "115\n",
      "116\n",
      "117\n",
      "118\n",
      "119\n",
      "120\n",
      "121\n",
      "122\n",
      "123\n",
      "124\n",
      "125\n",
      "126\n",
      "127\n",
      "128\n",
      "129\n",
      "130\n",
      "131\n",
      "132\n",
      "133\n",
      "134\n",
      "135\n",
      "136\n",
      "137\n",
      "138\n",
      "139\n",
      "140\n",
      "141\n",
      "142\n",
      "143\n",
      "144\n",
      "145\n",
      "146\n",
      "147\n",
      "148\n",
      "149\n",
      "150\n",
      "151\n",
      "152\n",
      "153\n",
      "154\n",
      "155\n",
      "156\n",
      "157\n",
      "158\n",
      "159\n",
      "160\n",
      "161\n",
      "162\n",
      "163\n",
      "164\n",
      "165\n",
      "166\n",
      "167\n",
      "168\n",
      "169\n",
      "170\n",
      "171\n",
      "172\n",
      "173\n",
      "174\n",
      "175\n",
      "176\n",
      "177\n",
      "178\n",
      "179\n",
      "180\n",
      "181\n",
      "182\n",
      "183\n",
      "184\n",
      "185\n",
      "186\n",
      "187\n",
      "188\n",
      "189\n",
      "190\n",
      "191\n",
      "192\n",
      "193\n",
      "194\n",
      "195\n",
      "196\n",
      "197\n",
      "198\n",
      "199\n",
      "200\n",
      "201\n",
      "202\n",
      "203\n",
      "204\n",
      "205\n",
      "206\n",
      "207\n",
      "208\n",
      "209\n",
      "210\n",
      "211\n",
      "212\n",
      "213\n",
      "214\n",
      "215\n",
      "216\n",
      "217\n",
      "218\n",
      "219\n",
      "220\n",
      "221\n",
      "222\n",
      "223\n",
      "224\n",
      "225\n",
      "226\n",
      "227\n",
      "228\n",
      "229\n",
      "230\n",
      "231\n",
      "232\n",
      "233\n",
      "234\n",
      "235\n",
      "236\n",
      "237\n",
      "238\n",
      "239\n",
      "240\n",
      "241\n",
      "242\n",
      "243\n",
      "244\n",
      "245\n",
      "246\n",
      "247\n",
      "248\n",
      "249\n",
      "250\n",
      "251\n",
      "252\n",
      "253\n",
      "254\n",
      "255\n",
      "256\n",
      "257\n",
      "258\n",
      "259\n",
      "260\n",
      "261\n",
      "262\n",
      "263\n",
      "264\n",
      "265\n",
      "266\n",
      "267\n",
      "268\n",
      "269\n",
      "270\n",
      "271\n",
      "272\n",
      "273\n",
      "274\n",
      "275\n",
      "276\n",
      "277\n",
      "278\n",
      "279\n",
      "280\n",
      "281\n",
      "282\n",
      "283\n",
      "284\n",
      "285\n",
      "286\n",
      "287\n",
      "288\n",
      "289\n",
      "290\n",
      "291\n",
      "292\n"
     ]
    }
   ],
   "source": [
    "#query versions url to get country data\n",
    "get_versions_url='https://imdb8.p.rapidapi.com/title/get-versions'\n",
    "headers={'x-rapidapi-host': host, \n",
    "         'x-rapidapi-key': key}\n",
    "all_version_responses=[]\n",
    "\n",
    "for count, id_list_ in enumerate(id_list_of_lists):\n",
    "    print(count)\n",
    "    version_responses=imdb_requests_byid(id_list_,get_versions_url)\n",
    "    all_version_responses.extend(version_responses)\n",
    "    "
   ]
  },
  {
   "cell_type": "code",
   "execution_count": 32,
   "metadata": {},
   "outputs": [],
   "source": [
    "all_version_json=[x.json() for x in all_version_responses if x.status_code==200]"
   ]
  },
  {
   "cell_type": "code",
   "execution_count": 33,
   "metadata": {},
   "outputs": [
    {
     "data": {
      "text/plain": [
       "145917"
      ]
     },
     "execution_count": 33,
     "metadata": {},
     "output_type": "execute_result"
    }
   ],
   "source": [
    "len(all_version_json)"
   ]
  },
  {
   "cell_type": "code",
   "execution_count": 37,
   "metadata": {},
   "outputs": [],
   "source": [
    "jsonString=json.dumps(all_version_json)\n",
    "jsonFile=open('imdb_versions.json','w')\n",
    "jsonFile.write(jsonString)\n",
    "jsonFile.close()"
   ]
  },
  {
   "cell_type": "code",
   "execution_count": 38,
   "metadata": {},
   "outputs": [
    {
     "data": {
      "text/plain": [
       "[{'@type': 'imdb.api.title.versions',\n",
       "  'alternateTitles': [{'language': 'en',\n",
       "    'region': 'IN',\n",
       "    'title': 'Sunghursh',\n",
       "    'types': ['imdbDisplay']},\n",
       "   {'attributes': ['alternative transliteration'],\n",
       "    'language': 'hi',\n",
       "    'region': 'IN',\n",
       "    'title': 'Sangharsh'},\n",
       "   {'title': 'Sunghursh', 'types': ['original']},\n",
       "   {'attributes': ['alternative transliteration'],\n",
       "    'language': 'hi',\n",
       "    'region': 'IN',\n",
       "    'title': 'Sunghursh'},\n",
       "   {'attributes': ['alternative spelling'],\n",
       "    'language': 'hi',\n",
       "    'region': 'IN',\n",
       "    'title': 'Sungharsh'}],\n",
       "  'colorations': ['color'],\n",
       "  'defaultTitle': 'Sunghursh',\n",
       "  'silent': False,\n",
       "  'spokenLanguages': ['hi'],\n",
       "  'originalTitle': 'Sunghursh',\n",
       "  'origins': ['IN'],\n",
       "  'runningTimes': [{'timeMinutes': 175}],\n",
       "  'id': '/title/tt0063540/',\n",
       "  'title': 'Sunghursh',\n",
       "  'titleType': 'movie',\n",
       "  'year': 1968},\n",
       " {'@type': 'imdb.api.title.versions',\n",
       "  'alternateTitles': [{'language': 'en',\n",
       "    'region': 'IN',\n",
       "    'title': 'Ashad Ka Ek Din',\n",
       "    'types': ['imdbDisplay']},\n",
       "   {'language': 'en',\n",
       "    'region': 'XWW',\n",
       "    'title': 'One Day Before the Rainy Season'},\n",
       "   {'title': 'One Monsoon Day'},\n",
       "   {'title': 'Ashad Ka Ek Din', 'types': ['original']}],\n",
       "  'colorations': ['monochrome'],\n",
       "  'defaultTitle': 'Ashad Ka Ek Din',\n",
       "  'silent': False,\n",
       "  'spokenLanguages': ['hi'],\n",
       "  'originalTitle': 'Ashad Ka Ek Din',\n",
       "  'origins': ['IN'],\n",
       "  'runningTimes': [{'timeMinutes': 114}],\n",
       "  'id': '/title/tt0066787/',\n",
       "  'title': 'One Day Before the Rainy Season',\n",
       "  'titleType': 'movie',\n",
       "  'year': 1971},\n",
       " {'@type': 'imdb.api.title.versions',\n",
       "  'alternateTitles': [{'region': 'VN',\n",
       "    'title': 'Phía Bên Kia Cơn Gió',\n",
       "    'types': ['imdbDisplay']},\n",
       "   {'region': 'BR',\n",
       "    'title': 'O Outro Lado do Vento',\n",
       "    'types': ['imdbDisplay']},\n",
       "   {'region': 'US',\n",
       "    'title': 'The Other Side of the Wind',\n",
       "    'types': ['imdbDisplay']},\n",
       "   {'region': 'TW', 'title': '風的另一頭', 'types': ['imdbDisplay']},\n",
       "   {'region': 'GB',\n",
       "    'title': 'The Other Side of the Wind',\n",
       "    'types': ['imdbDisplay']},\n",
       "   {'region': 'GR',\n",
       "    'title': 'Η Άλλη Πλευρά του Ανέμου',\n",
       "    'types': ['imdbDisplay']},\n",
       "   {'region': 'IT', 'title': \"L'altra faccia del vento\"},\n",
       "   {'region': 'RU', 'title': 'Другая сторона ветра', 'types': ['imdbDisplay']},\n",
       "   {'region': 'AU',\n",
       "    'title': 'The Other Side of the Wind',\n",
       "    'types': ['imdbDisplay']},\n",
       "   {'region': 'AR',\n",
       "    'title': 'Al otro lado del viento',\n",
       "    'types': ['imdbDisplay']},\n",
       "   {'region': 'ES',\n",
       "    'title': 'Al otro lado del viento',\n",
       "    'types': ['imdbDisplay']},\n",
       "   {'title': 'The Other Side of the Wind', 'types': ['original']},\n",
       "   {'region': 'FR',\n",
       "    'title': \"De l'autre côté du vent\",\n",
       "    'types': ['imdbDisplay']},\n",
       "   {'region': 'VE', 'title': 'La otra cara del viento'},\n",
       "   {'language': 'en',\n",
       "    'region': 'CA',\n",
       "    'title': 'The Other Side of the Wind',\n",
       "    'types': ['imdbDisplay']},\n",
       "   {'language': 'ja',\n",
       "    'region': 'JP',\n",
       "    'title': '風の向こうへ',\n",
       "    'types': ['imdbDisplay']},\n",
       "   {'region': 'PL', 'title': 'Druga strona wiatru', 'types': ['imdbDisplay']},\n",
       "   {'region': 'DE',\n",
       "    'title': 'The Other Side of the Wind',\n",
       "    'types': ['imdbDisplay']},\n",
       "   {'region': 'HU', 'title': 'A szél másik oldala', 'types': ['imdbDisplay']},\n",
       "   {'region': 'PT',\n",
       "    'title': 'O Outro Lado do Vento',\n",
       "    'types': ['imdbDisplay']},\n",
       "   {'language': 'fr',\n",
       "    'region': 'CA',\n",
       "    'title': 'The Other Side of the Wind',\n",
       "    'types': ['imdbDisplay']}],\n",
       "  'colorations': ['color', 'monochrome'],\n",
       "  'defaultTitle': 'The Other Side of the Wind',\n",
       "  'silent': False,\n",
       "  'spokenLanguages': ['en', 'de'],\n",
       "  'originalTitle': 'The Other Side of the Wind',\n",
       "  'origins': ['FR', 'IR', 'US'],\n",
       "  'runningTimes': [{'timeMinutes': 122}],\n",
       "  'id': '/title/tt0069049/',\n",
       "  'title': 'The Other Side of the Wind',\n",
       "  'titleType': 'movie',\n",
       "  'year': 2018},\n",
       " {'@type': 'imdb.api.title.versions',\n",
       "  'alternateTitles': [{'language': 'bn',\n",
       "    'region': 'IN',\n",
       "    'title': 'Subse Bada Sukh'},\n",
       "   {'language': 'en', 'region': 'IN', 'title': 'The Greatest Happiness'},\n",
       "   {'title': 'Sabse Bada Sukh', 'types': ['original']}],\n",
       "  'defaultTitle': 'Sabse Bada Sukh',\n",
       "  'silent': False,\n",
       "  'spokenLanguages': ['hi'],\n",
       "  'originalTitle': 'Sabse Bada Sukh',\n",
       "  'origins': ['IN'],\n",
       "  'runningTimes': [],\n",
       "  'id': '/title/tt0069204/',\n",
       "  'title': 'Sabse Bada Sukh',\n",
       "  'titleType': 'movie',\n",
       "  'year': 1972},\n",
       " {'@type': 'imdb.api.title.versions',\n",
       "  'alternateTitles': [{'title': 'La telenovela errante',\n",
       "    'types': ['original']},\n",
       "   {'region': 'ES',\n",
       "    'title': 'La Telenovela Errante',\n",
       "    'types': ['imdbDisplay']},\n",
       "   {'language': 'en',\n",
       "    'region': 'XWW',\n",
       "    'title': 'The Wandering Soap Opera',\n",
       "    'types': ['imdbDisplay']},\n",
       "   {'region': 'CL',\n",
       "    'title': 'La Telenovela Errante',\n",
       "    'types': ['imdbDisplay']},\n",
       "   {'attributes': ['informal alternative title'],\n",
       "    'region': 'CL',\n",
       "    'title': 'La novela errante'},\n",
       "   {'region': 'US',\n",
       "    'title': 'The Wandering Soap Opera',\n",
       "    'types': ['imdbDisplay']},\n",
       "   {'region': 'PL',\n",
       "    'title': 'Objazdowa opera mydlana',\n",
       "    'types': ['imdbDisplay']},\n",
       "   {'region': 'GB',\n",
       "    'title': 'The Wandering Soap Opera',\n",
       "    'types': ['imdbDisplay']}],\n",
       "  'colorations': ['color'],\n",
       "  'defaultTitle': 'La telenovela errante',\n",
       "  'silent': False,\n",
       "  'spokenLanguages': ['es'],\n",
       "  'originalTitle': 'La telenovela errante',\n",
       "  'origins': ['CL'],\n",
       "  'runningTimes': [{'timeMinutes': 80}],\n",
       "  'id': '/title/tt0100275/',\n",
       "  'title': 'The Wandering Soap Opera',\n",
       "  'titleType': 'movie',\n",
       "  'year': 2017}]"
      ]
     },
     "execution_count": 38,
     "metadata": {},
     "output_type": "execute_result"
    }
   ],
   "source": [
    "all_version_json[:5]"
   ]
  },
  {
   "cell_type": "code",
   "execution_count": 39,
   "metadata": {},
   "outputs": [
    {
     "ename": "AttributeError",
     "evalue": "'NoneType' object has no attribute 'keys'",
     "output_type": "error",
     "traceback": [
      "\u001b[0;31m---------------------------------------------------------------------------\u001b[0m",
      "\u001b[0;31mAttributeError\u001b[0m                            Traceback (most recent call last)",
      "\u001b[0;32m<ipython-input-39-b755da2d4479>\u001b[0m in \u001b[0;36m<module>\u001b[0;34m\u001b[0m\n\u001b[0;32m----> 1\u001b[0;31m \u001b[0mpd\u001b[0m\u001b[0;34m.\u001b[0m\u001b[0mDataFrame\u001b[0m\u001b[0;34m.\u001b[0m\u001b[0mfrom_records\u001b[0m\u001b[0;34m(\u001b[0m\u001b[0mall_version_json\u001b[0m\u001b[0;34m)\u001b[0m\u001b[0;34m\u001b[0m\u001b[0;34m\u001b[0m\u001b[0m\n\u001b[0m",
      "\u001b[0;32m/opt/anaconda3/envs/learn-env/lib/python3.8/site-packages/pandas/core/frame.py\u001b[0m in \u001b[0;36mfrom_records\u001b[0;34m(cls, data, index, exclude, columns, coerce_float, nrows)\u001b[0m\n\u001b[1;32m   1789\u001b[0m             \u001b[0marr_columns\u001b[0m \u001b[0;34m=\u001b[0m \u001b[0mcolumns\u001b[0m\u001b[0;34m\u001b[0m\u001b[0;34m\u001b[0m\u001b[0m\n\u001b[1;32m   1790\u001b[0m         \u001b[0;32melse\u001b[0m\u001b[0;34m:\u001b[0m\u001b[0;34m\u001b[0m\u001b[0;34m\u001b[0m\u001b[0m\n\u001b[0;32m-> 1791\u001b[0;31m             \u001b[0marrays\u001b[0m\u001b[0;34m,\u001b[0m \u001b[0marr_columns\u001b[0m \u001b[0;34m=\u001b[0m \u001b[0mto_arrays\u001b[0m\u001b[0;34m(\u001b[0m\u001b[0mdata\u001b[0m\u001b[0;34m,\u001b[0m \u001b[0mcolumns\u001b[0m\u001b[0;34m,\u001b[0m \u001b[0mcoerce_float\u001b[0m\u001b[0;34m=\u001b[0m\u001b[0mcoerce_float\u001b[0m\u001b[0;34m)\u001b[0m\u001b[0;34m\u001b[0m\u001b[0;34m\u001b[0m\u001b[0m\n\u001b[0m\u001b[1;32m   1792\u001b[0m \u001b[0;34m\u001b[0m\u001b[0m\n\u001b[1;32m   1793\u001b[0m             \u001b[0marr_columns\u001b[0m \u001b[0;34m=\u001b[0m \u001b[0mensure_index\u001b[0m\u001b[0;34m(\u001b[0m\u001b[0marr_columns\u001b[0m\u001b[0;34m)\u001b[0m\u001b[0;34m\u001b[0m\u001b[0;34m\u001b[0m\u001b[0m\n",
      "\u001b[0;32m/opt/anaconda3/envs/learn-env/lib/python3.8/site-packages/pandas/core/internals/construction.py\u001b[0m in \u001b[0;36mto_arrays\u001b[0;34m(data, columns, coerce_float, dtype)\u001b[0m\n\u001b[1;32m    524\u001b[0m         \u001b[0;32mreturn\u001b[0m \u001b[0m_list_to_arrays\u001b[0m\u001b[0;34m(\u001b[0m\u001b[0mdata\u001b[0m\u001b[0;34m,\u001b[0m \u001b[0mcolumns\u001b[0m\u001b[0;34m,\u001b[0m \u001b[0mcoerce_float\u001b[0m\u001b[0;34m=\u001b[0m\u001b[0mcoerce_float\u001b[0m\u001b[0;34m,\u001b[0m \u001b[0mdtype\u001b[0m\u001b[0;34m=\u001b[0m\u001b[0mdtype\u001b[0m\u001b[0;34m)\u001b[0m\u001b[0;34m\u001b[0m\u001b[0;34m\u001b[0m\u001b[0m\n\u001b[1;32m    525\u001b[0m     \u001b[0;32melif\u001b[0m \u001b[0misinstance\u001b[0m\u001b[0;34m(\u001b[0m\u001b[0mdata\u001b[0m\u001b[0;34m[\u001b[0m\u001b[0;36m0\u001b[0m\u001b[0;34m]\u001b[0m\u001b[0;34m,\u001b[0m \u001b[0mabc\u001b[0m\u001b[0;34m.\u001b[0m\u001b[0mMapping\u001b[0m\u001b[0;34m)\u001b[0m\u001b[0;34m:\u001b[0m\u001b[0;34m\u001b[0m\u001b[0;34m\u001b[0m\u001b[0m\n\u001b[0;32m--> 526\u001b[0;31m         return _list_of_dict_to_arrays(\n\u001b[0m\u001b[1;32m    527\u001b[0m             \u001b[0mdata\u001b[0m\u001b[0;34m,\u001b[0m \u001b[0mcolumns\u001b[0m\u001b[0;34m,\u001b[0m \u001b[0mcoerce_float\u001b[0m\u001b[0;34m=\u001b[0m\u001b[0mcoerce_float\u001b[0m\u001b[0;34m,\u001b[0m \u001b[0mdtype\u001b[0m\u001b[0;34m=\u001b[0m\u001b[0mdtype\u001b[0m\u001b[0;34m\u001b[0m\u001b[0;34m\u001b[0m\u001b[0m\n\u001b[1;32m    528\u001b[0m         )\n",
      "\u001b[0;32m/opt/anaconda3/envs/learn-env/lib/python3.8/site-packages/pandas/core/internals/construction.py\u001b[0m in \u001b[0;36m_list_of_dict_to_arrays\u001b[0;34m(data, columns, coerce_float, dtype)\u001b[0m\n\u001b[1;32m    637\u001b[0m         \u001b[0mgen\u001b[0m \u001b[0;34m=\u001b[0m \u001b[0;34m(\u001b[0m\u001b[0mlist\u001b[0m\u001b[0;34m(\u001b[0m\u001b[0mx\u001b[0m\u001b[0;34m.\u001b[0m\u001b[0mkeys\u001b[0m\u001b[0;34m(\u001b[0m\u001b[0;34m)\u001b[0m\u001b[0;34m)\u001b[0m \u001b[0;32mfor\u001b[0m \u001b[0mx\u001b[0m \u001b[0;32min\u001b[0m \u001b[0mdata\u001b[0m\u001b[0;34m)\u001b[0m\u001b[0;34m\u001b[0m\u001b[0;34m\u001b[0m\u001b[0m\n\u001b[1;32m    638\u001b[0m         \u001b[0msort\u001b[0m \u001b[0;34m=\u001b[0m \u001b[0;32mnot\u001b[0m \u001b[0many\u001b[0m\u001b[0;34m(\u001b[0m\u001b[0misinstance\u001b[0m\u001b[0;34m(\u001b[0m\u001b[0md\u001b[0m\u001b[0;34m,\u001b[0m \u001b[0mdict\u001b[0m\u001b[0;34m)\u001b[0m \u001b[0;32mfor\u001b[0m \u001b[0md\u001b[0m \u001b[0;32min\u001b[0m \u001b[0mdata\u001b[0m\u001b[0;34m)\u001b[0m\u001b[0;34m\u001b[0m\u001b[0;34m\u001b[0m\u001b[0m\n\u001b[0;32m--> 639\u001b[0;31m         \u001b[0mcolumns\u001b[0m \u001b[0;34m=\u001b[0m \u001b[0mlib\u001b[0m\u001b[0;34m.\u001b[0m\u001b[0mfast_unique_multiple_list_gen\u001b[0m\u001b[0;34m(\u001b[0m\u001b[0mgen\u001b[0m\u001b[0;34m,\u001b[0m \u001b[0msort\u001b[0m\u001b[0;34m=\u001b[0m\u001b[0msort\u001b[0m\u001b[0;34m)\u001b[0m\u001b[0;34m\u001b[0m\u001b[0;34m\u001b[0m\u001b[0m\n\u001b[0m\u001b[1;32m    640\u001b[0m \u001b[0;34m\u001b[0m\u001b[0m\n\u001b[1;32m    641\u001b[0m     \u001b[0;31m# assure that they are of the base dict class and not of derived\u001b[0m\u001b[0;34m\u001b[0m\u001b[0;34m\u001b[0m\u001b[0;34m\u001b[0m\u001b[0m\n",
      "\u001b[0;32mpandas/_libs/lib.pyx\u001b[0m in \u001b[0;36mpandas._libs.lib.fast_unique_multiple_list_gen\u001b[0;34m()\u001b[0m\n",
      "\u001b[0;32m/opt/anaconda3/envs/learn-env/lib/python3.8/site-packages/pandas/core/internals/construction.py\u001b[0m in \u001b[0;36m<genexpr>\u001b[0;34m(.0)\u001b[0m\n\u001b[1;32m    635\u001b[0m     \"\"\"\n\u001b[1;32m    636\u001b[0m     \u001b[0;32mif\u001b[0m \u001b[0mcolumns\u001b[0m \u001b[0;32mis\u001b[0m \u001b[0;32mNone\u001b[0m\u001b[0;34m:\u001b[0m\u001b[0;34m\u001b[0m\u001b[0;34m\u001b[0m\u001b[0m\n\u001b[0;32m--> 637\u001b[0;31m         \u001b[0mgen\u001b[0m \u001b[0;34m=\u001b[0m \u001b[0;34m(\u001b[0m\u001b[0mlist\u001b[0m\u001b[0;34m(\u001b[0m\u001b[0mx\u001b[0m\u001b[0;34m.\u001b[0m\u001b[0mkeys\u001b[0m\u001b[0;34m(\u001b[0m\u001b[0;34m)\u001b[0m\u001b[0;34m)\u001b[0m \u001b[0;32mfor\u001b[0m \u001b[0mx\u001b[0m \u001b[0;32min\u001b[0m \u001b[0mdata\u001b[0m\u001b[0;34m)\u001b[0m\u001b[0;34m\u001b[0m\u001b[0;34m\u001b[0m\u001b[0m\n\u001b[0m\u001b[1;32m    638\u001b[0m         \u001b[0msort\u001b[0m \u001b[0;34m=\u001b[0m \u001b[0;32mnot\u001b[0m \u001b[0many\u001b[0m\u001b[0;34m(\u001b[0m\u001b[0misinstance\u001b[0m\u001b[0;34m(\u001b[0m\u001b[0md\u001b[0m\u001b[0;34m,\u001b[0m \u001b[0mdict\u001b[0m\u001b[0;34m)\u001b[0m \u001b[0;32mfor\u001b[0m \u001b[0md\u001b[0m \u001b[0;32min\u001b[0m \u001b[0mdata\u001b[0m\u001b[0;34m)\u001b[0m\u001b[0;34m\u001b[0m\u001b[0;34m\u001b[0m\u001b[0m\n\u001b[1;32m    639\u001b[0m         \u001b[0mcolumns\u001b[0m \u001b[0;34m=\u001b[0m \u001b[0mlib\u001b[0m\u001b[0;34m.\u001b[0m\u001b[0mfast_unique_multiple_list_gen\u001b[0m\u001b[0;34m(\u001b[0m\u001b[0mgen\u001b[0m\u001b[0;34m,\u001b[0m \u001b[0msort\u001b[0m\u001b[0;34m=\u001b[0m\u001b[0msort\u001b[0m\u001b[0;34m)\u001b[0m\u001b[0;34m\u001b[0m\u001b[0;34m\u001b[0m\u001b[0m\n",
      "\u001b[0;31mAttributeError\u001b[0m: 'NoneType' object has no attribute 'keys'"
     ]
    }
   ],
   "source": [
    "pd.DataFrame.from_records(all_version_json)"
   ]
  },
  {
   "cell_type": "code",
   "execution_count": 40,
   "metadata": {},
   "outputs": [
    {
     "name": "stdout",
     "output_type": "stream",
     "text": [
      "<class 'pandas.core.frame.DataFrame'>\n",
      "RangeIndex: 142928 entries, 0 to 142927\n",
      "Data columns (total 2 columns):\n",
      " #   Column   Non-Null Count   Dtype \n",
      "---  ------   --------------   ----- \n",
      " 0   tconst   142928 non-null  object\n",
      " 1   country  142928 non-null  object\n",
      "dtypes: object(2)\n",
      "memory usage: 2.2+ MB\n"
     ]
    }
   ],
   "source": [
    "#create a list of dictionaries with keys tconst and country\n",
    "#convert into df\n",
    "\n",
    "country_dictionaries=[]\n",
    "\n",
    "for v in all_version_json:\n",
    "    if (v != None) and ('origins' in v.keys()) and ('id' in v.keys()):\n",
    "        country_dict={}\n",
    "        tconst=v['id']\n",
    "        if tconst != None:\n",
    "            country_dict['tconst']=tconst[7:16]\n",
    "        else:\n",
    "            country_dict['tconst']=None\n",
    "        country=v['origins']\n",
    "        if country != None:\n",
    "            country_dict['country']=country[0]\n",
    "        else:\n",
    "            country_dict['country']=None\n",
    "        country_dictionaries.append(country_dict)\n",
    "    \n",
    "country_df=pd.DataFrame(country_dictionaries)\n",
    "country_df.info()"
   ]
  },
  {
   "cell_type": "code",
   "execution_count": 41,
   "metadata": {},
   "outputs": [],
   "source": [
    "country_df.to_csv('imdb_countries.csv')"
   ]
  },
  {
   "cell_type": "code",
   "execution_count": 44,
   "metadata": {},
   "outputs": [],
   "source": [
    "us_movies=country_df[country_df['country']=='US']"
   ]
  },
  {
   "cell_type": "code",
   "execution_count": 65,
   "metadata": {},
   "outputs": [
    {
     "data": {
      "text/plain": [
       "(49608, 2)"
      ]
     },
     "execution_count": 65,
     "metadata": {},
     "output_type": "execute_result"
    }
   ],
   "source": [
    "us_movies.shape"
   ]
  },
  {
   "cell_type": "code",
   "execution_count": 46,
   "metadata": {
    "scrolled": true
   },
   "outputs": [
    {
     "data": {
      "text/plain": [
       "['tt0112502',\n",
       " 'tt0159369',\n",
       " 'tt0192528',\n",
       " 'tt0230212',\n",
       " 'tt0249516',\n",
       " 'tt0255820',\n",
       " 'tt0285252',\n",
       " 'tt0293069',\n",
       " 'tt0297400',\n",
       " 'tt0306058']"
      ]
     },
     "execution_count": 46,
     "metadata": {},
     "output_type": "execute_result"
    }
   ],
   "source": [
    "us_id_list=us_movies['tconst'].tolist()\n",
    "us_id_list[:10]"
   ]
  },
  {
   "cell_type": "code",
   "execution_count": 50,
   "metadata": {},
   "outputs": [
    {
     "data": {
      "text/plain": [
       "108"
      ]
     },
     "execution_count": 50,
     "metadata": {},
     "output_type": "execute_result"
    }
   ],
   "source": [
    "#break the longer list into 500 id chunks to help me see where the errors are\n",
    "#wasn't able to run query on everything at once\n",
    "us_id_lists=[us_id_list[(i-500):i] for i in list(range(500,50500,500))]\n",
    "len(us_id_lists[-1])"
   ]
  },
  {
   "cell_type": "code",
   "execution_count": 51,
   "metadata": {},
   "outputs": [
    {
     "data": {
      "text/plain": [
       "100"
      ]
     },
     "execution_count": 51,
     "metadata": {},
     "output_type": "execute_result"
    }
   ],
   "source": [
    "len(us_id_lists)"
   ]
  },
  {
   "cell_type": "code",
   "execution_count": 52,
   "metadata": {},
   "outputs": [
    {
     "name": "stdout",
     "output_type": "stream",
     "text": [
      "0\n",
      "1\n",
      "2\n",
      "3\n",
      "4\n",
      "5\n",
      "6\n",
      "7\n",
      "8\n",
      "9\n",
      "10\n",
      "11\n",
      "12\n",
      "13\n",
      "14\n",
      "15\n",
      "16\n",
      "17\n",
      "18\n",
      "19\n",
      "20\n",
      "21\n",
      "22\n",
      "23\n",
      "24\n",
      "25\n",
      "26\n",
      "27\n",
      "28\n",
      "29\n",
      "30\n",
      "31\n",
      "32\n",
      "33\n",
      "34\n",
      "35\n",
      "36\n",
      "37\n",
      "38\n",
      "39\n",
      "40\n",
      "41\n",
      "42\n",
      "43\n",
      "44\n",
      "45\n",
      "46\n",
      "47\n",
      "48\n",
      "49\n",
      "50\n",
      "51\n",
      "52\n",
      "53\n",
      "54\n",
      "55\n",
      "56\n",
      "57\n",
      "58\n",
      "59\n",
      "60\n",
      "61\n",
      "62\n",
      "63\n",
      "64\n",
      "65\n",
      "66\n",
      "67\n",
      "68\n",
      "69\n",
      "70\n",
      "71\n",
      "72\n",
      "73\n",
      "74\n",
      "75\n",
      "76\n",
      "77\n",
      "78\n",
      "79\n",
      "80\n",
      "81\n",
      "82\n",
      "83\n",
      "84\n",
      "85\n",
      "86\n",
      "87\n",
      "88\n",
      "89\n",
      "90\n",
      "91\n",
      "92\n",
      "93\n",
      "94\n",
      "95\n",
      "96\n",
      "97\n",
      "98\n",
      "99\n"
     ]
    }
   ],
   "source": [
    "#query versions url to get country data\n",
    "imdb_business_url='https://imdb8.p.rapidapi.com/title/get-business'\n",
    "headers={'x-rapidapi-host': host, \n",
    "         'x-rapidapi-key': key}\n",
    "all_business_responses=[]\n",
    "\n",
    "for count, id_list_ in enumerate(us_id_lists):\n",
    "    print(count)\n",
    "    business_responses=imdb_requests_byid(id_list_,imdb_business_url)\n",
    "    all_business_responses.extend(business_responses)"
   ]
  },
  {
   "cell_type": "code",
   "execution_count": 54,
   "metadata": {},
   "outputs": [
    {
     "data": {
      "text/plain": [
       "b'{\"@meta\":{\"operation\":\"TitleBusinessV2\",\"requestId\":\"e5a4940a-5b32-46dc-b776-5fd0ecd3818f\",\"serviceTimeMs\":23.360727},\"resource\":{\"@type\":\"imdb.api.title.v2.business\",\"id\":\"/title/tt0255820/\",\"title\":\"Return to Babylon\",\"titleType\":\"movie\",\"year\":2013,\"budget\":{\"amount\":2000000.0,\"currency\":\"USD\"}}}'"
      ]
     },
     "execution_count": 54,
     "metadata": {},
     "output_type": "execute_result"
    }
   ],
   "source": [
    "all_business_responses[5].content"
   ]
  },
  {
   "cell_type": "code",
   "execution_count": 55,
   "metadata": {},
   "outputs": [],
   "source": [
    "#write function that takes a business reponse and returns dictionary of values\n",
    "def prepare_bus_response(response):\n",
    "    resp_json=response.json()\n",
    "    if 'resource' in resp_json.keys():\n",
    "        budg_dict={}\n",
    "        resp_json=resp_json['resource']\n",
    "        if 'id' in resp_json.keys():\n",
    "            budg_dict['tconst']=resp_json['id'][7:16]\n",
    "        if 'budget' in resp_json.keys():\n",
    "            budg_dict['budget']=resp_json['budget']\n",
    "        if 'gross' in resp_json.keys():\n",
    "            if 'aggregations' in resp_json['gross'].keys():\n",
    "                gross_agg=resp_json['gross']['aggregations']\n",
    "                for area in gross_agg:\n",
    "                    if area['area']=='XWW':\n",
    "                        budg_dict['ww_gross']=area['total']['amount']\n",
    "                        budg_dict['ww_currency']=area['total']['currency']\n",
    "                    if area['area']=='XNDOM':\n",
    "                        budg_dict['int_gross']=area['total']['amount']\n",
    "                        budg_dict['int_currency']=area['total']['currency']\n",
    "            if 'regional' in resp_json['gross']:\n",
    "                gross_region=resp_json['gross']['regional']\n",
    "                for region in gross_region:\n",
    "                    if region['region']=='XDOM':\n",
    "                        budg_dict['domestic_gross']=region['total']['amount']\n",
    "                        budg_dict['domestic_currency']=region['total']['currency']\n",
    "        return budg_dict"
   ]
  },
  {
   "cell_type": "code",
   "execution_count": 56,
   "metadata": {},
   "outputs": [],
   "source": [
    "business_dicts=[]\n",
    "for r in all_business_responses:\n",
    "    if r.status_code==200:\n",
    "        dictionary=prepare_bus_response(r)\n",
    "        business_dicts.append(dictionary)\n"
   ]
  },
  {
   "cell_type": "code",
   "execution_count": 61,
   "metadata": {},
   "outputs": [
    {
     "data": {
      "text/plain": [
       "49564"
      ]
     },
     "execution_count": 61,
     "metadata": {},
     "output_type": "execute_result"
    }
   ],
   "source": [
    "len(business_dicts)"
   ]
  },
  {
   "cell_type": "code",
   "execution_count": 59,
   "metadata": {},
   "outputs": [
    {
     "data": {
      "text/plain": [
       "18967"
      ]
     },
     "execution_count": 59,
     "metadata": {},
     "output_type": "execute_result"
    }
   ],
   "source": [
    "business_dicts_notNa=[x for x in business_dicts if x != None]\n",
    "len(business_dicts_notNa)"
   ]
  },
  {
   "cell_type": "code",
   "execution_count": 60,
   "metadata": {},
   "outputs": [],
   "source": [
    "imdb_business=pd.DataFrame(business_dicts_notNa)"
   ]
  },
  {
   "cell_type": "code",
   "execution_count": 62,
   "metadata": {},
   "outputs": [
    {
     "name": "stdout",
     "output_type": "stream",
     "text": [
      "<class 'pandas.core.frame.DataFrame'>\n",
      "RangeIndex: 18967 entries, 0 to 18966\n",
      "Data columns (total 8 columns):\n",
      " #   Column             Non-Null Count  Dtype  \n",
      "---  ------             --------------  -----  \n",
      " 0   tconst             18967 non-null  object \n",
      " 1   budget             16717 non-null  object \n",
      " 2   int_gross          2742 non-null   float64\n",
      " 3   int_currency       2742 non-null   object \n",
      " 4   ww_gross           4205 non-null   float64\n",
      " 5   ww_currency        4205 non-null   object \n",
      " 6   domestic_gross     3473 non-null   float64\n",
      " 7   domestic_currency  3473 non-null   object \n",
      "dtypes: float64(3), object(5)\n",
      "memory usage: 1.2+ MB\n"
     ]
    }
   ],
   "source": [
    "imdb_business.info()"
   ]
  },
  {
   "cell_type": "code",
   "execution_count": 63,
   "metadata": {},
   "outputs": [],
   "source": [
    "imdb_business.to_csv('imdb_business.csv')"
   ]
  },
  {
   "cell_type": "code",
   "execution_count": 64,
   "metadata": {
    "scrolled": true
   },
   "outputs": [
    {
     "name": "stdout",
     "output_type": "stream",
     "text": [
      "<class 'pandas.core.frame.DataFrame'>\n",
      "Int64Index: 48305 entries, 0 to 48304\n",
      "Data columns (total 7 columns):\n",
      " #   Column           Non-Null Count  Dtype  \n",
      "---  ------           --------------  -----  \n",
      " 0   tconst           48305 non-null  object \n",
      " 1   primary_title    48305 non-null  object \n",
      " 2   original_title   48305 non-null  object \n",
      " 3   start_year       48305 non-null  int64  \n",
      " 4   runtime_minutes  39168 non-null  float64\n",
      " 5   genres           47628 non-null  object \n",
      " 6   country          48305 non-null  object \n",
      "dtypes: float64(1), int64(1), object(5)\n",
      "memory usage: 2.9+ MB\n"
     ]
    }
   ],
   "source": [
    "#inner join all the US titles with imdb 10_yr to get all movies made in US in last 10yrs\n",
    "imdb=imdb_10yr.merge(us_movies, on='tconst')\n",
    "imdb.info()"
   ]
  },
  {
   "cell_type": "code",
   "execution_count": 72,
   "metadata": {},
   "outputs": [
    {
     "data": {
      "text/plain": [
       "(48203, 7)"
      ]
     },
     "execution_count": 72,
     "metadata": {},
     "output_type": "execute_result"
    }
   ],
   "source": [
    "#drop duplicates\n",
    "imdb=imdb.drop_duplicates(subset='tconst')\n",
    "imdb.shape"
   ]
  },
  {
   "cell_type": "code",
   "execution_count": 73,
   "metadata": {},
   "outputs": [
    {
     "name": "stdout",
     "output_type": "stream",
     "text": [
      "<class 'pandas.core.frame.DataFrame'>\n",
      "Int64Index: 48246 entries, 0 to 48245\n",
      "Data columns (total 14 columns):\n",
      " #   Column             Non-Null Count  Dtype  \n",
      "---  ------             --------------  -----  \n",
      " 0   tconst             48246 non-null  object \n",
      " 1   primary_title      48246 non-null  object \n",
      " 2   original_title     48246 non-null  object \n",
      " 3   start_year         48246 non-null  int64  \n",
      " 4   runtime_minutes    39126 non-null  float64\n",
      " 5   genres             47570 non-null  object \n",
      " 6   country            48246 non-null  object \n",
      " 7   budget             16661 non-null  object \n",
      " 8   int_gross          2728 non-null   float64\n",
      " 9   int_currency       2728 non-null   object \n",
      " 10  ww_gross           4188 non-null   float64\n",
      " 11  ww_currency        4188 non-null   object \n",
      " 12  domestic_gross     3467 non-null   float64\n",
      " 13  domestic_currency  3467 non-null   object \n",
      "dtypes: float64(4), int64(1), object(9)\n",
      "memory usage: 5.5+ MB\n"
     ]
    }
   ],
   "source": [
    "imdb=imdb.merge(imdb_business,on='tconst',how='left')\n",
    "imdb.info()"
   ]
  },
  {
   "cell_type": "code",
   "execution_count": 76,
   "metadata": {},
   "outputs": [
    {
     "data": {
      "text/plain": [
       "(48203, 14)"
      ]
     },
     "execution_count": 76,
     "metadata": {},
     "output_type": "execute_result"
    }
   ],
   "source": [
    "imdb=imdb.drop_duplicates(subset='tconst')\n",
    "imdb.shape"
   ]
  },
  {
   "cell_type": "markdown",
   "metadata": {},
   "source": [
    "### Merge data with provided boxoffice gross datasets ###"
   ]
  },
  {
   "cell_type": "code",
   "execution_count": 77,
   "metadata": {},
   "outputs": [
    {
     "name": "stdout",
     "output_type": "stream",
     "text": [
      "<class 'pandas.core.frame.DataFrame'>\n",
      "RangeIndex: 3387 entries, 0 to 3386\n",
      "Data columns (total 5 columns):\n",
      " #   Column          Non-Null Count  Dtype  \n",
      "---  ------          --------------  -----  \n",
      " 0   title           3387 non-null   object \n",
      " 1   studio          3382 non-null   object \n",
      " 2   domestic_gross  3359 non-null   float64\n",
      " 3   foreign_gross   2037 non-null   object \n",
      " 4   year            3387 non-null   int64  \n",
      "dtypes: float64(1), int64(1), object(3)\n",
      "memory usage: 132.4+ KB\n"
     ]
    }
   ],
   "source": [
    "bom_df=pd.read_csv('zippedData/bom.movie_gross.csv.gz')\n",
    "bom_df.info()"
   ]
  },
  {
   "cell_type": "code",
   "execution_count": 79,
   "metadata": {},
   "outputs": [
    {
     "data": {
      "text/plain": [
       "Index(['title', 'studio', 'dom_gross_bom', 'foreign_gross', 'year'], dtype='object')"
      ]
     },
     "execution_count": 79,
     "metadata": {},
     "output_type": "execute_result"
    }
   ],
   "source": [
    "bom_df.rename(columns={'domestic_gross':'dom_gross_bom'},inplace=True)\n",
    "bom_df.columns"
   ]
  },
  {
   "cell_type": "code",
   "execution_count": 80,
   "metadata": {},
   "outputs": [
    {
     "name": "stdout",
     "output_type": "stream",
     "text": [
      "<class 'pandas.core.frame.DataFrame'>\n",
      "Int64Index: 48203 entries, 0 to 48202\n",
      "Data columns (total 19 columns):\n",
      " #   Column             Non-Null Count  Dtype  \n",
      "---  ------             --------------  -----  \n",
      " 0   tconst             48203 non-null  object \n",
      " 1   primary_title      48203 non-null  object \n",
      " 2   original_title     48203 non-null  object \n",
      " 3   start_year         48203 non-null  int64  \n",
      " 4   runtime_minutes    39092 non-null  float64\n",
      " 5   genres             47527 non-null  object \n",
      " 6   country            48203 non-null  object \n",
      " 7   budget             16622 non-null  object \n",
      " 8   int_gross          2723 non-null   float64\n",
      " 9   int_currency       2723 non-null   object \n",
      " 10  ww_gross           4182 non-null   float64\n",
      " 11  ww_currency        4182 non-null   object \n",
      " 12  domestic_gross     3465 non-null   float64\n",
      " 13  domestic_currency  3465 non-null   object \n",
      " 14  title              1526 non-null   object \n",
      " 15  studio             1526 non-null   object \n",
      " 16  dom_gross_bom      1519 non-null   float64\n",
      " 17  foreign_gross      1112 non-null   object \n",
      " 18  year               1526 non-null   float64\n",
      "dtypes: float64(6), int64(1), object(12)\n",
      "memory usage: 7.4+ MB\n"
     ]
    }
   ],
   "source": [
    "#merge with imdb on original title\n",
    "imdb=imdb.merge(bom_df,left_on='original_title',right_on='title',how='left')\n",
    "imdb.info()"
   ]
  },
  {
   "cell_type": "code",
   "execution_count": 82,
   "metadata": {},
   "outputs": [
    {
     "data": {
      "text/plain": [
       "USD    4181\n",
       "INR       1\n",
       "Name: ww_currency, dtype: int64"
      ]
     },
     "execution_count": 82,
     "metadata": {},
     "output_type": "execute_result"
    }
   ],
   "source": [
    "imdb['ww_currency'].value_counts()"
   ]
  },
  {
   "cell_type": "code",
   "execution_count": 83,
   "metadata": {
    "scrolled": true
   },
   "outputs": [
    {
     "data": {
      "text/html": [
       "<div>\n",
       "<style scoped>\n",
       "    .dataframe tbody tr th:only-of-type {\n",
       "        vertical-align: middle;\n",
       "    }\n",
       "\n",
       "    .dataframe tbody tr th {\n",
       "        vertical-align: top;\n",
       "    }\n",
       "\n",
       "    .dataframe thead th {\n",
       "        text-align: right;\n",
       "    }\n",
       "</style>\n",
       "<table border=\"1\" class=\"dataframe\">\n",
       "  <thead>\n",
       "    <tr style=\"text-align: right;\">\n",
       "      <th></th>\n",
       "      <th>tconst</th>\n",
       "      <th>primary_title</th>\n",
       "      <th>original_title</th>\n",
       "      <th>start_year</th>\n",
       "      <th>runtime_minutes</th>\n",
       "      <th>genres</th>\n",
       "      <th>country</th>\n",
       "      <th>budget</th>\n",
       "      <th>int_gross</th>\n",
       "      <th>int_currency</th>\n",
       "      <th>ww_gross</th>\n",
       "      <th>ww_currency</th>\n",
       "      <th>domestic_gross</th>\n",
       "      <th>domestic_currency</th>\n",
       "      <th>title</th>\n",
       "      <th>studio</th>\n",
       "      <th>dom_gross_bom</th>\n",
       "      <th>foreign_gross</th>\n",
       "      <th>year</th>\n",
       "    </tr>\n",
       "  </thead>\n",
       "  <tbody>\n",
       "    <tr>\n",
       "      <th>32275</th>\n",
       "      <td>tt5119108</td>\n",
       "      <td>Highway 5</td>\n",
       "      <td>Highway 5</td>\n",
       "      <td>2016</td>\n",
       "      <td>116.0</td>\n",
       "      <td>Comedy,Drama</td>\n",
       "      <td>US</td>\n",
       "      <td>NaN</td>\n",
       "      <td>NaN</td>\n",
       "      <td>NaN</td>\n",
       "      <td>150000000.0</td>\n",
       "      <td>INR</td>\n",
       "      <td>NaN</td>\n",
       "      <td>NaN</td>\n",
       "      <td>NaN</td>\n",
       "      <td>NaN</td>\n",
       "      <td>NaN</td>\n",
       "      <td>NaN</td>\n",
       "      <td>NaN</td>\n",
       "    </tr>\n",
       "  </tbody>\n",
       "</table>\n",
       "</div>"
      ],
      "text/plain": [
       "          tconst primary_title original_title  start_year  runtime_minutes  \\\n",
       "32275  tt5119108     Highway 5      Highway 5        2016            116.0   \n",
       "\n",
       "             genres country budget  int_gross int_currency     ww_gross  \\\n",
       "32275  Comedy,Drama      US    NaN        NaN          NaN  150000000.0   \n",
       "\n",
       "      ww_currency  domestic_gross domestic_currency title studio  \\\n",
       "32275         INR             NaN               NaN   NaN    NaN   \n",
       "\n",
       "       dom_gross_bom foreign_gross  year  \n",
       "32275            NaN           NaN   NaN  "
      ]
     },
     "execution_count": 83,
     "metadata": {},
     "output_type": "execute_result"
    }
   ],
   "source": [
    "imdb[imdb['ww_currency']=='INR']"
   ]
  },
  {
   "cell_type": "code",
   "execution_count": 84,
   "metadata": {},
   "outputs": [],
   "source": [
    "#drop movie not in USD currency\n",
    "imdb=imdb[imdb['ww_currency']!='INR']"
   ]
  },
  {
   "cell_type": "code",
   "execution_count": 85,
   "metadata": {},
   "outputs": [
    {
     "data": {
      "text/plain": [
       "USD    3465\n",
       "Name: domestic_currency, dtype: int64"
      ]
     },
     "execution_count": 85,
     "metadata": {},
     "output_type": "execute_result"
    }
   ],
   "source": [
    "imdb['domestic_currency'].value_counts()"
   ]
  },
  {
   "cell_type": "code",
   "execution_count": 88,
   "metadata": {},
   "outputs": [
    {
     "name": "stdout",
     "output_type": "stream",
     "text": [
      "<class 'pandas.core.frame.DataFrame'>\n",
      "Int64Index: 48202 entries, 0 to 48202\n",
      "Data columns (total 17 columns):\n",
      " #   Column           Non-Null Count  Dtype  \n",
      "---  ------           --------------  -----  \n",
      " 0   tconst           48202 non-null  object \n",
      " 1   primary_title    48202 non-null  object \n",
      " 2   original_title   48202 non-null  object \n",
      " 3   start_year       48202 non-null  int64  \n",
      " 4   runtime_minutes  39091 non-null  float64\n",
      " 5   genres           47526 non-null  object \n",
      " 6   country          48202 non-null  object \n",
      " 7   budget           16622 non-null  object \n",
      " 8   int_gross        2723 non-null   float64\n",
      " 9   int_currency     2723 non-null   object \n",
      " 10  ww_gross         4181 non-null   float64\n",
      " 11  domestic_gross   3465 non-null   float64\n",
      " 12  title            1526 non-null   object \n",
      " 13  studio           1526 non-null   object \n",
      " 14  dom_gross_bom    1519 non-null   float64\n",
      " 15  foreign_gross    1112 non-null   object \n",
      " 16  year             1526 non-null   float64\n",
      "dtypes: float64(6), int64(1), object(10)\n",
      "memory usage: 6.6+ MB\n"
     ]
    }
   ],
   "source": [
    "#drop currency columns\n",
    "imdb=imdb.drop(['ww_currency','domestic_currency'],axis=1)\n",
    "imdb.info()"
   ]
  },
  {
   "cell_type": "code",
   "execution_count": 90,
   "metadata": {},
   "outputs": [],
   "source": [
    "imdb=imdb.drop(['int_currency'],axis=1)"
   ]
  },
  {
   "cell_type": "code",
   "execution_count": 91,
   "metadata": {},
   "outputs": [
    {
     "name": "stdout",
     "output_type": "stream",
     "text": [
      "<class 'pandas.core.frame.DataFrame'>\n",
      "Int64Index: 48202 entries, 0 to 48202\n",
      "Data columns (total 16 columns):\n",
      " #   Column           Non-Null Count  Dtype  \n",
      "---  ------           --------------  -----  \n",
      " 0   tconst           48202 non-null  object \n",
      " 1   primary_title    48202 non-null  object \n",
      " 2   original_title   48202 non-null  object \n",
      " 3   start_year       48202 non-null  int64  \n",
      " 4   runtime_minutes  39091 non-null  float64\n",
      " 5   genres           47526 non-null  object \n",
      " 6   country          48202 non-null  object \n",
      " 7   budget           16622 non-null  object \n",
      " 8   int_gross        2888 non-null   object \n",
      " 9   ww_gross         4181 non-null   float64\n",
      " 10  domestic_gross   3728 non-null   float64\n",
      " 11  title            1526 non-null   object \n",
      " 12  studio           1526 non-null   object \n",
      " 13  dom_gross_bom    1519 non-null   float64\n",
      " 14  foreign_gross    1112 non-null   object \n",
      " 15  year             1526 non-null   float64\n",
      "dtypes: float64(5), int64(1), object(10)\n",
      "memory usage: 6.3+ MB\n"
     ]
    }
   ],
   "source": [
    "imdb['domestic_gross']=imdb['domestic_gross'].fillna(imdb['dom_gross_bom'])\n",
    "imdb['int_gross']=imdb['int_gross'].fillna(imdb['foreign_gross'])\n",
    "imdb.info()"
   ]
  },
  {
   "cell_type": "code",
   "execution_count": 94,
   "metadata": {},
   "outputs": [
    {
     "data": {
      "text/html": [
       "<div>\n",
       "<style scoped>\n",
       "    .dataframe tbody tr th:only-of-type {\n",
       "        vertical-align: middle;\n",
       "    }\n",
       "\n",
       "    .dataframe tbody tr th {\n",
       "        vertical-align: top;\n",
       "    }\n",
       "\n",
       "    .dataframe thead th {\n",
       "        text-align: right;\n",
       "    }\n",
       "</style>\n",
       "<table border=\"1\" class=\"dataframe\">\n",
       "  <thead>\n",
       "    <tr style=\"text-align: right;\">\n",
       "      <th></th>\n",
       "      <th>tconst</th>\n",
       "      <th>primary_title</th>\n",
       "      <th>original_title</th>\n",
       "      <th>start_year</th>\n",
       "      <th>runtime_minutes</th>\n",
       "      <th>genres</th>\n",
       "      <th>country</th>\n",
       "      <th>budget</th>\n",
       "      <th>int_gross</th>\n",
       "      <th>ww_gross</th>\n",
       "      <th>domestic_gross</th>\n",
       "      <th>title</th>\n",
       "      <th>studio</th>\n",
       "      <th>dom_gross_bom</th>\n",
       "      <th>foreign_gross</th>\n",
       "      <th>year</th>\n",
       "    </tr>\n",
       "  </thead>\n",
       "  <tbody>\n",
       "    <tr>\n",
       "      <th>0</th>\n",
       "      <td>tt0112502</td>\n",
       "      <td>Bigfoot</td>\n",
       "      <td>Bigfoot</td>\n",
       "      <td>2017</td>\n",
       "      <td>NaN</td>\n",
       "      <td>Horror,Thriller</td>\n",
       "      <td>US</td>\n",
       "      <td>{'amount': 1300000.0, 'currency': 'USD'}</td>\n",
       "      <td>NaN</td>\n",
       "      <td>NaN</td>\n",
       "      <td>NaN</td>\n",
       "      <td>NaN</td>\n",
       "      <td>NaN</td>\n",
       "      <td>NaN</td>\n",
       "      <td>NaN</td>\n",
       "      <td>NaN</td>\n",
       "    </tr>\n",
       "    <tr>\n",
       "      <th>1</th>\n",
       "      <td>tt0159369</td>\n",
       "      <td>Cooper and Hemingway: The True Gen</td>\n",
       "      <td>Cooper and Hemingway: The True Gen</td>\n",
       "      <td>2013</td>\n",
       "      <td>180.0</td>\n",
       "      <td>Documentary</td>\n",
       "      <td>US</td>\n",
       "      <td>NaN</td>\n",
       "      <td>NaN</td>\n",
       "      <td>NaN</td>\n",
       "      <td>NaN</td>\n",
       "      <td>NaN</td>\n",
       "      <td>NaN</td>\n",
       "      <td>NaN</td>\n",
       "      <td>NaN</td>\n",
       "      <td>NaN</td>\n",
       "    </tr>\n",
       "    <tr>\n",
       "      <th>2</th>\n",
       "      <td>tt0192528</td>\n",
       "      <td>Heaven &amp; Hell</td>\n",
       "      <td>Reverse Heaven</td>\n",
       "      <td>2018</td>\n",
       "      <td>104.0</td>\n",
       "      <td>Drama</td>\n",
       "      <td>US</td>\n",
       "      <td>{'amount': 5000000.0, 'currency': 'USD'}</td>\n",
       "      <td>NaN</td>\n",
       "      <td>NaN</td>\n",
       "      <td>NaN</td>\n",
       "      <td>NaN</td>\n",
       "      <td>NaN</td>\n",
       "      <td>NaN</td>\n",
       "      <td>NaN</td>\n",
       "      <td>NaN</td>\n",
       "    </tr>\n",
       "    <tr>\n",
       "      <th>3</th>\n",
       "      <td>tt0230212</td>\n",
       "      <td>The Final Journey</td>\n",
       "      <td>The Final Journey</td>\n",
       "      <td>2010</td>\n",
       "      <td>120.0</td>\n",
       "      <td>Drama</td>\n",
       "      <td>US</td>\n",
       "      <td>NaN</td>\n",
       "      <td>NaN</td>\n",
       "      <td>NaN</td>\n",
       "      <td>NaN</td>\n",
       "      <td>NaN</td>\n",
       "      <td>NaN</td>\n",
       "      <td>NaN</td>\n",
       "      <td>NaN</td>\n",
       "      <td>NaN</td>\n",
       "    </tr>\n",
       "    <tr>\n",
       "      <th>4</th>\n",
       "      <td>tt0249516</td>\n",
       "      <td>Foodfight!</td>\n",
       "      <td>Foodfight!</td>\n",
       "      <td>2012</td>\n",
       "      <td>91.0</td>\n",
       "      <td>Action,Animation,Comedy</td>\n",
       "      <td>US</td>\n",
       "      <td>{'amount': 65000000.0, 'currency': 'USD'}</td>\n",
       "      <td>120141.0</td>\n",
       "      <td>120141.0</td>\n",
       "      <td>NaN</td>\n",
       "      <td>NaN</td>\n",
       "      <td>NaN</td>\n",
       "      <td>NaN</td>\n",
       "      <td>NaN</td>\n",
       "      <td>NaN</td>\n",
       "    </tr>\n",
       "    <tr>\n",
       "      <th>5</th>\n",
       "      <td>tt0255820</td>\n",
       "      <td>Return to Babylon</td>\n",
       "      <td>Return to Babylon</td>\n",
       "      <td>2013</td>\n",
       "      <td>75.0</td>\n",
       "      <td>Biography,Comedy,Drama</td>\n",
       "      <td>US</td>\n",
       "      <td>{'amount': 2000000.0, 'currency': 'USD'}</td>\n",
       "      <td>NaN</td>\n",
       "      <td>NaN</td>\n",
       "      <td>NaN</td>\n",
       "      <td>NaN</td>\n",
       "      <td>NaN</td>\n",
       "      <td>NaN</td>\n",
       "      <td>NaN</td>\n",
       "      <td>NaN</td>\n",
       "    </tr>\n",
       "    <tr>\n",
       "      <th>6</th>\n",
       "      <td>tt0285252</td>\n",
       "      <td>Life's a Beach</td>\n",
       "      <td>Life's a Beach</td>\n",
       "      <td>2012</td>\n",
       "      <td>100.0</td>\n",
       "      <td>Comedy</td>\n",
       "      <td>US</td>\n",
       "      <td>{'amount': 4000000.0, 'currency': 'USD'}</td>\n",
       "      <td>NaN</td>\n",
       "      <td>NaN</td>\n",
       "      <td>NaN</td>\n",
       "      <td>NaN</td>\n",
       "      <td>NaN</td>\n",
       "      <td>NaN</td>\n",
       "      <td>NaN</td>\n",
       "      <td>NaN</td>\n",
       "    </tr>\n",
       "    <tr>\n",
       "      <th>7</th>\n",
       "      <td>tt0293069</td>\n",
       "      <td>Dark Blood</td>\n",
       "      <td>Dark Blood</td>\n",
       "      <td>2012</td>\n",
       "      <td>86.0</td>\n",
       "      <td>Thriller</td>\n",
       "      <td>US</td>\n",
       "      <td>NaN</td>\n",
       "      <td>NaN</td>\n",
       "      <td>NaN</td>\n",
       "      <td>NaN</td>\n",
       "      <td>NaN</td>\n",
       "      <td>NaN</td>\n",
       "      <td>NaN</td>\n",
       "      <td>NaN</td>\n",
       "      <td>NaN</td>\n",
       "    </tr>\n",
       "    <tr>\n",
       "      <th>8</th>\n",
       "      <td>tt0297400</td>\n",
       "      <td>Snowblind</td>\n",
       "      <td>Snowblind</td>\n",
       "      <td>2015</td>\n",
       "      <td>NaN</td>\n",
       "      <td>Crime,Drama</td>\n",
       "      <td>US</td>\n",
       "      <td>NaN</td>\n",
       "      <td>NaN</td>\n",
       "      <td>NaN</td>\n",
       "      <td>NaN</td>\n",
       "      <td>NaN</td>\n",
       "      <td>NaN</td>\n",
       "      <td>NaN</td>\n",
       "      <td>NaN</td>\n",
       "      <td>NaN</td>\n",
       "    </tr>\n",
       "    <tr>\n",
       "      <th>9</th>\n",
       "      <td>tt0306058</td>\n",
       "      <td>Second Coming</td>\n",
       "      <td>Second Coming</td>\n",
       "      <td>2012</td>\n",
       "      <td>95.0</td>\n",
       "      <td>NaN</td>\n",
       "      <td>US</td>\n",
       "      <td>NaN</td>\n",
       "      <td>NaN</td>\n",
       "      <td>NaN</td>\n",
       "      <td>NaN</td>\n",
       "      <td>NaN</td>\n",
       "      <td>NaN</td>\n",
       "      <td>NaN</td>\n",
       "      <td>NaN</td>\n",
       "      <td>NaN</td>\n",
       "    </tr>\n",
       "  </tbody>\n",
       "</table>\n",
       "</div>"
      ],
      "text/plain": [
       "      tconst                       primary_title  \\\n",
       "0  tt0112502                             Bigfoot   \n",
       "1  tt0159369  Cooper and Hemingway: The True Gen   \n",
       "2  tt0192528                       Heaven & Hell   \n",
       "3  tt0230212                   The Final Journey   \n",
       "4  tt0249516                          Foodfight!   \n",
       "5  tt0255820                   Return to Babylon   \n",
       "6  tt0285252                      Life's a Beach   \n",
       "7  tt0293069                          Dark Blood   \n",
       "8  tt0297400                           Snowblind   \n",
       "9  tt0306058                       Second Coming   \n",
       "\n",
       "                       original_title  start_year  runtime_minutes  \\\n",
       "0                             Bigfoot        2017              NaN   \n",
       "1  Cooper and Hemingway: The True Gen        2013            180.0   \n",
       "2                      Reverse Heaven        2018            104.0   \n",
       "3                   The Final Journey        2010            120.0   \n",
       "4                          Foodfight!        2012             91.0   \n",
       "5                   Return to Babylon        2013             75.0   \n",
       "6                      Life's a Beach        2012            100.0   \n",
       "7                          Dark Blood        2012             86.0   \n",
       "8                           Snowblind        2015              NaN   \n",
       "9                       Second Coming        2012             95.0   \n",
       "\n",
       "                    genres country                                     budget  \\\n",
       "0          Horror,Thriller      US   {'amount': 1300000.0, 'currency': 'USD'}   \n",
       "1              Documentary      US                                        NaN   \n",
       "2                    Drama      US   {'amount': 5000000.0, 'currency': 'USD'}   \n",
       "3                    Drama      US                                        NaN   \n",
       "4  Action,Animation,Comedy      US  {'amount': 65000000.0, 'currency': 'USD'}   \n",
       "5   Biography,Comedy,Drama      US   {'amount': 2000000.0, 'currency': 'USD'}   \n",
       "6                   Comedy      US   {'amount': 4000000.0, 'currency': 'USD'}   \n",
       "7                 Thriller      US                                        NaN   \n",
       "8              Crime,Drama      US                                        NaN   \n",
       "9                      NaN      US                                        NaN   \n",
       "\n",
       "   int_gross  ww_gross  domestic_gross title studio  dom_gross_bom  \\\n",
       "0        NaN       NaN             NaN   NaN    NaN            NaN   \n",
       "1        NaN       NaN             NaN   NaN    NaN            NaN   \n",
       "2        NaN       NaN             NaN   NaN    NaN            NaN   \n",
       "3        NaN       NaN             NaN   NaN    NaN            NaN   \n",
       "4   120141.0  120141.0             NaN   NaN    NaN            NaN   \n",
       "5        NaN       NaN             NaN   NaN    NaN            NaN   \n",
       "6        NaN       NaN             NaN   NaN    NaN            NaN   \n",
       "7        NaN       NaN             NaN   NaN    NaN            NaN   \n",
       "8        NaN       NaN             NaN   NaN    NaN            NaN   \n",
       "9        NaN       NaN             NaN   NaN    NaN            NaN   \n",
       "\n",
       "  foreign_gross  year  \n",
       "0           NaN   NaN  \n",
       "1           NaN   NaN  \n",
       "2           NaN   NaN  \n",
       "3           NaN   NaN  \n",
       "4           NaN   NaN  \n",
       "5           NaN   NaN  \n",
       "6           NaN   NaN  \n",
       "7           NaN   NaN  \n",
       "8           NaN   NaN  \n",
       "9           NaN   NaN  "
      ]
     },
     "execution_count": 94,
     "metadata": {},
     "output_type": "execute_result"
    }
   ],
   "source": [
    "#fix int_gross to float in order to fill ww_gross with sum of int and domestic\n",
    "def clean_string(object):\n",
    "    if type(object)==str:\n",
    "        return float(object.replace('$','').replace(',',''))\n",
    "    else: \n",
    "        return object\n",
    "\n",
    "imdb['int_gross']=imdb['int_gross'].apply(clean_string)\n"
   ]
  },
  {
   "cell_type": "code",
   "execution_count": 96,
   "metadata": {},
   "outputs": [
    {
     "name": "stdout",
     "output_type": "stream",
     "text": [
      "<class 'pandas.core.frame.DataFrame'>\n",
      "Int64Index: 48202 entries, 0 to 48202\n",
      "Data columns (total 16 columns):\n",
      " #   Column           Non-Null Count  Dtype  \n",
      "---  ------           --------------  -----  \n",
      " 0   tconst           48202 non-null  object \n",
      " 1   primary_title    48202 non-null  object \n",
      " 2   original_title   48202 non-null  object \n",
      " 3   start_year       48202 non-null  int64  \n",
      " 4   runtime_minutes  39091 non-null  float64\n",
      " 5   genres           47526 non-null  object \n",
      " 6   country          48202 non-null  object \n",
      " 7   budget           16622 non-null  object \n",
      " 8   int_gross        2888 non-null   float64\n",
      " 9   ww_gross         4343 non-null   float64\n",
      " 10  domestic_gross   3728 non-null   float64\n",
      " 11  title            1526 non-null   object \n",
      " 12  studio           1526 non-null   object \n",
      " 13  dom_gross_bom    1519 non-null   float64\n",
      " 14  foreign_gross    1112 non-null   object \n",
      " 15  year             1526 non-null   float64\n",
      "dtypes: float64(6), int64(1), object(9)\n",
      "memory usage: 6.3+ MB\n"
     ]
    }
   ],
   "source": [
    "#fill ww_gross missing values where int and domestic exist\n",
    "imdb['ww_gross']=np.where(imdb['ww_gross'].isnull() & \n",
    "                                  imdb['domestic_gross'].notnull() & \n",
    "                                  imdb['int_gross'].notnull(),\n",
    "                                  imdb['domestic_gross']+imdb['int_gross'],\n",
    "                                  imdb['ww_gross'])\n",
    "imdb.info()"
   ]
  },
  {
   "cell_type": "code",
   "execution_count": 98,
   "metadata": {},
   "outputs": [],
   "source": [
    "imdb=imdb[imdb['ww_gross'].notnull()]"
   ]
  },
  {
   "cell_type": "code",
   "execution_count": 99,
   "metadata": {},
   "outputs": [],
   "source": [
    "imdb=imdb.drop(['primary_title','country','title','studio','dom_gross_bom',\n",
    "               'foreign_gross','year','int_gross','domestic_gross'],axis=1)"
   ]
  },
  {
   "cell_type": "code",
   "execution_count": 102,
   "metadata": {},
   "outputs": [
    {
     "name": "stdout",
     "output_type": "stream",
     "text": [
      "<class 'pandas.core.frame.DataFrame'>\n",
      "Int64Index: 4065 entries, 4 to 48185\n",
      "Data columns (total 7 columns):\n",
      " #   Column           Non-Null Count  Dtype  \n",
      "---  ------           --------------  -----  \n",
      " 0   tconst           4065 non-null   object \n",
      " 1   original_title   4065 non-null   object \n",
      " 2   start_year       4065 non-null   int64  \n",
      " 3   runtime_minutes  4065 non-null   float64\n",
      " 4   genres           4059 non-null   object \n",
      " 5   budget           1957 non-null   object \n",
      " 6   ww_gross         4065 non-null   float64\n",
      "dtypes: float64(2), int64(1), object(4)\n",
      "memory usage: 254.1+ KB\n"
     ]
    }
   ],
   "source": [
    "#drop runtimes under 45 minutes and over 4 hours\n",
    "\n",
    "imdb=imdb[(imdb['runtime_minutes']>45.0) & (imdb['runtime_minutes']<240.0)]\n",
    "imdb.info()"
   ]
  },
  {
   "cell_type": "markdown",
   "metadata": {},
   "source": [
    "Now we have all the worldwide gross data that we could get from provided data and the IMDB API. I dropped all movies that did not have this data since it is essential to the analysis.  Now we will collect any more budget date can find as well as release date and MPAA rating.  I dropped the other rows first to limit the number of API calls."
   ]
  },
  {
   "cell_type": "code",
   "execution_count": 103,
   "metadata": {},
   "outputs": [
    {
     "data": {
      "text/plain": [
       "4065"
      ]
     },
     "execution_count": 103,
     "metadata": {},
     "output_type": "execute_result"
    }
   ],
   "source": [
    "imdb_ids=imdb['tconst'].to_list()\n",
    "len(imdb_ids)"
   ]
  },
  {
   "cell_type": "code",
   "execution_count": 104,
   "metadata": {},
   "outputs": [],
   "source": [
    "imdb.to_csv('27SEP_imdb.csv')"
   ]
  },
  {
   "cell_type": "code",
   "execution_count": null,
   "metadata": {},
   "outputs": [],
   "source": [
    "#get tmdb id for these movies\n"
   ]
  }
 ],
 "metadata": {
  "kernelspec": {
   "display_name": "Python (learn-env)",
   "language": "python",
   "name": "learn-env"
  },
  "language_info": {
   "codemirror_mode": {
    "name": "ipython",
    "version": 3
   },
   "file_extension": ".py",
   "mimetype": "text/x-python",
   "name": "python",
   "nbconvert_exporter": "python",
   "pygments_lexer": "ipython3",
   "version": "3.8.5"
  },
  "toc": {
   "base_numbering": 1,
   "nav_menu": {},
   "number_sections": true,
   "sideBar": true,
   "skip_h1_title": false,
   "title_cell": "Table of Contents",
   "title_sidebar": "Contents",
   "toc_cell": false,
   "toc_position": {},
   "toc_section_display": true,
   "toc_window_display": false
  }
 },
 "nbformat": 4,
 "nbformat_minor": 4
}
