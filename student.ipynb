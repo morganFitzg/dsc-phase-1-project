{
 "cells": [
  {
   "cell_type": "markdown",
   "metadata": {},
   "source": [
    "![example](images/director_shot.jpeg)"
   ]
  },
  {
   "cell_type": "markdown",
   "metadata": {},
   "source": [
    "# Microsoft Studios Film Profit Analysis\n",
    "\n",
    "**Author:** Morgan Didjurgis\n",
    "***"
   ]
  },
  {
   "cell_type": "markdown",
   "metadata": {},
   "source": [
    "## Overview\n",
    "\n",
    "This project's purpose is to provide recommendations on what type of films perform the best for Microsoft, since they are opening a new movie studio. Analysis of almost 2000 movies made in the US in the last 10 years shows that higher budget films (over $40 million) tend to have higher profits. Among higher budget films, those with certain genres, MPAA ratings, and release months tend to perform better on average. "
   ]
  },
  {
   "cell_type": "markdown",
   "metadata": {},
   "source": [
    "## Business Problem\n",
    "\n",
    "Microsoft is seeking recommendations for which type of films they can make in order to have the best chance at maximizing profit. While films are generally risky business ventures, this risk can be reduced by choosing budget sizes, genres, MPAA ratings, and release months that have been shown to have higher success rates. \n",
    "\n",
    "This project will evaluate:\n",
    "\n",
    "1) Is budget size correlated with profit?\n",
    "\n",
    "2) Which genres tend to perform the best?\n",
    "\n",
    "3) Which MPAA ratings tend to perform the best? I'll also examine which MPAA ratings perform the best within the most profitable genres, since this can be very specific to the type of movie.\n",
    "\n",
    "4) Do certain release months tend to have higher profits? Does this vary by genre?\n"
   ]
  },
  {
   "cell_type": "markdown",
   "metadata": {},
   "source": [
    "## Data Understanding\n",
    "\n",
    "The data for this project came from multiple online movie databases.  The primary source was the IMDB (Internet Movie Database) API with some additional data gathered from Box Office Mojo and TMDB (The Movie Database).\n",
    "\n",
    "The main variables I intend to use for analysis are worldwide gross, budget, MPAA rating, genre, and release month. Worldwide gross and budget will be used to calculate profit. Budget, MPAA rating, genre, and release month will be used to determine which film characteristics tend to lead to higher profit. MPAA rating, genre, and release month are all categorical, which I will have to keep in mind during the analysis.\n",
    "\n",
    "- The code for data collection and filtering is contained in 'api_calls.ipynb'. Below is a summary of my process and major decision points.\n",
    "\n",
    "    1. I started with a list of over 146,000 movies with basic information including IMDB id, title, start year, runtime, and genre. From this list, I filtered out any movies made after 2020 since there were a number of upcoming releases listed.\n",
    "\n",
    "    2. I used the IMDB ids to query the IMDB API versions endpoint and get country data for these movies. I only kept movies made in the US, since Microsoft is a US based company. I had 49,608 movies after filtering for country of origin.\n",
    "\n",
    "    3. I then queried the IMDB business endpoint to get worldwide gross and budget data for as many US movies as possible.\n",
    "\n",
    "    4. Next, I merged the IMDB dataset with data from Box Office Mojo using original titles and filled in budget, domestic gross, and worldwide gross data that was not available on IMDB that this dataset contained.\n",
    "\n",
    "    5. Using domestic gross and international gross, I was able to estimate worldwide gross for a few movies where that information was not provided directly.\n",
    "\n",
    "    6. Before making any further queries for other movie information, I filtered the dataset, removing any films without worldwide gross, since this information is crucial to the analysis.  I also only included films with a runtime between 45 minutes and 4 hours, since anything outside this range would not be the type of movie I am making recommendations to Microsoft about. After this, I had 4065 movies remaining.\n",
    "\n",
    "    7. I then queried the IMDB overview endpoint to get MPAA rating and Release Date data. I extracted the month from the release date since I am mostly interested in what month the movie was released.\n",
    "\n",
    "    8. Lastly, I queried TMDB to find additional information on budget, relase date and MPAA rating for  movies missing those values. To do this I isolated films missing any of these values, queried TMDB using the IMDB id to find the matching TMDB id, then queried the TMDB details and release date endpoints.\n",
    "\n",
    "    9. The data resulting from this process is saved under 'imdb_all_data.csv'"
   ]
  },
  {
   "cell_type": "code",
   "execution_count": 98,
   "metadata": {},
   "outputs": [],
   "source": [
    "# Import standard packages\n",
    "import pandas as pd\n",
    "import numpy as np\n",
    "import matplotlib.pyplot as plt\n",
    "import seaborn as sns\n",
    "\n",
    "%matplotlib inline\n",
    "\n",
    "pd.set_option('display.float_format', lambda x: f'{x: ,.2f}')"
   ]
  },
  {
   "cell_type": "markdown",
   "metadata": {},
   "source": [
    "# Approach #"
   ]
  },
  {
   "cell_type": "markdown",
   "metadata": {},
   "source": [
    "## Data Preparation\n",
    "\n",
    "Describe and justify the process for preparing the data for analysis.\n",
    "\n",
    "***\n",
    "First, I will standardize the formats for all of the variables, since they were collected from three different databases. \n",
    "\n",
    "Genres: I converted the strings containing multiple genres into Python lists so that they could later be exploded for easier analysis of genres.\n",
    "\n",
    "MPAA Rating: I examined all the values in this column and found that a number of the ratings were actually meant for television. Many of these films still had theatrical releases and financial data, so I decided to convert TV ratings to their MPAA equivalent. The maturity content of the film is the most important piece of information from this variable and TV ratings were still a good estimate for this.\n",
    "\n",
    "Month: I had already pulled release month out of the various release date formats, so these did not have to be cleaned any further.\n",
    "***\n",
    "\n",
    "Since I will mainly be using profit to analyze how sucessful a film was, I decided to drop all rows that did not have budget information. While this meant dropping a large portion of the data, I still had approximately 2000 films and it would allow me to provide better recommendations to Microsoft. Using only worldwide gross could be misleading since high grossing films can have extremely large budgets and low grossing films may have extremely small budgets that still make them fairly profitable.\n",
    "\n",
    "I also investigated rows with missing genres, MPAA ratings, and months.  I found that many of the rows missing this data were actually duplicates that I had not previously identified due to slightly different title information and different IMDB ids. These duplicates had other entries with all the data available, so I decided to drop the rows with missing data.\n",
    "\n"
   ]
  },
  {
   "cell_type": "code",
   "execution_count": 99,
   "metadata": {},
   "outputs": [
    {
     "name": "stdout",
     "output_type": "stream",
     "text": [
      "<class 'pandas.core.frame.DataFrame'>\n",
      "RangeIndex: 4065 entries, 0 to 4064\n",
      "Data columns (total 10 columns):\n",
      " #   Column           Non-Null Count  Dtype  \n",
      "---  ------           --------------  -----  \n",
      " 0   Unnamed: 0       4065 non-null   int64  \n",
      " 1   tconst           4065 non-null   object \n",
      " 2   original_title   4065 non-null   object \n",
      " 3   start_year       4065 non-null   int64  \n",
      " 4   runtime_minutes  4065 non-null   float64\n",
      " 5   genres           4063 non-null   object \n",
      " 6   budget           2025 non-null   object \n",
      " 7   ww_gross         4065 non-null   float64\n",
      " 8   mpaa_rating      3700 non-null   object \n",
      " 9   month            4032 non-null   float64\n",
      "dtypes: float64(3), int64(2), object(5)\n",
      "memory usage: 317.7+ KB\n"
     ]
    }
   ],
   "source": [
    "movies=pd.read_csv('student_data/imdb_all_data.csv')\n",
    "movies.info()"
   ]
  },
  {
   "cell_type": "markdown",
   "metadata": {},
   "source": [
    "### genres ###\n",
    "\n",
    "Check for any variable formatting. Split genres into list of strings. For analysis, I will explode the list of genres."
   ]
  },
  {
   "cell_type": "code",
   "execution_count": 100,
   "metadata": {},
   "outputs": [
    {
     "data": {
      "text/plain": [
       "Drama                  1818\n",
       "Comedy                 1131\n",
       "Documentary             886\n",
       "Thriller                600\n",
       "Action                  598\n",
       "Horror                  476\n",
       "Crime                   457\n",
       "Romance                 450\n",
       "Adventure               439\n",
       "Biography               375\n",
       "Mystery                 272\n",
       "Sci-Fi                  201\n",
       "Family                  193\n",
       "Fantasy                 187\n",
       "History                 179\n",
       "Music                   177\n",
       "Animation               154\n",
       "Sport                    98\n",
       "Western                  36\n",
       "War                      36\n",
       "News                     33\n",
       "Musical                  30\n",
       "['Documentary']           3\n",
       "['Science Fiction']       1\n",
       "Name: genres, dtype: int64"
      ]
     },
     "execution_count": 100,
     "metadata": {},
     "output_type": "execute_result"
    }
   ],
   "source": [
    "movies['genres'].str.split(',').explode().value_counts()"
   ]
  },
  {
   "cell_type": "code",
   "execution_count": 101,
   "metadata": {},
   "outputs": [
    {
     "data": {
      "text/html": [
       "<div>\n",
       "<style scoped>\n",
       "    .dataframe tbody tr th:only-of-type {\n",
       "        vertical-align: middle;\n",
       "    }\n",
       "\n",
       "    .dataframe tbody tr th {\n",
       "        vertical-align: top;\n",
       "    }\n",
       "\n",
       "    .dataframe thead th {\n",
       "        text-align: right;\n",
       "    }\n",
       "</style>\n",
       "<table border=\"1\" class=\"dataframe\">\n",
       "  <thead>\n",
       "    <tr style=\"text-align: right;\">\n",
       "      <th></th>\n",
       "      <th>Unnamed: 0</th>\n",
       "      <th>tconst</th>\n",
       "      <th>original_title</th>\n",
       "      <th>start_year</th>\n",
       "      <th>runtime_minutes</th>\n",
       "      <th>genres</th>\n",
       "      <th>budget</th>\n",
       "      <th>ww_gross</th>\n",
       "      <th>mpaa_rating</th>\n",
       "      <th>month</th>\n",
       "    </tr>\n",
       "  </thead>\n",
       "  <tbody>\n",
       "    <tr>\n",
       "      <th>670</th>\n",
       "      <td>670</td>\n",
       "      <td>tt1482889</td>\n",
       "      <td>Jim</td>\n",
       "      <td>2010</td>\n",
       "      <td>101.00</td>\n",
       "      <td>['Science Fiction']</td>\n",
       "      <td>NaN</td>\n",
       "      <td>13,000.00</td>\n",
       "      <td>Unrated</td>\n",
       "      <td>10.00</td>\n",
       "    </tr>\n",
       "    <tr>\n",
       "      <th>3371</th>\n",
       "      <td>3371</td>\n",
       "      <td>tt5515304</td>\n",
       "      <td>Frey: Part I - The Architectural Envoy</td>\n",
       "      <td>2018</td>\n",
       "      <td>65.00</td>\n",
       "      <td>['Documentary']</td>\n",
       "      <td>NaN</td>\n",
       "      <td>2,248.00</td>\n",
       "      <td>NaN</td>\n",
       "      <td>2.00</td>\n",
       "    </tr>\n",
       "    <tr>\n",
       "      <th>3893</th>\n",
       "      <td>3893</td>\n",
       "      <td>tt7689908</td>\n",
       "      <td>Crime + Punishment</td>\n",
       "      <td>2018</td>\n",
       "      <td>112.00</td>\n",
       "      <td>['Documentary']</td>\n",
       "      <td>NaN</td>\n",
       "      <td>18,644.00</td>\n",
       "      <td>NaN</td>\n",
       "      <td>8.00</td>\n",
       "    </tr>\n",
       "    <tr>\n",
       "      <th>3894</th>\n",
       "      <td>3894</td>\n",
       "      <td>tt7689956</td>\n",
       "      <td>Chef Flynn</td>\n",
       "      <td>2018</td>\n",
       "      <td>82.00</td>\n",
       "      <td>['Documentary']</td>\n",
       "      <td>NaN</td>\n",
       "      <td>69,542.00</td>\n",
       "      <td>NaN</td>\n",
       "      <td>11.00</td>\n",
       "    </tr>\n",
       "  </tbody>\n",
       "</table>\n",
       "</div>"
      ],
      "text/plain": [
       "      Unnamed: 0     tconst                          original_title  \\\n",
       "670          670  tt1482889                                     Jim   \n",
       "3371        3371  tt5515304  Frey: Part I - The Architectural Envoy   \n",
       "3893        3893  tt7689908                      Crime + Punishment   \n",
       "3894        3894  tt7689956                              Chef Flynn   \n",
       "\n",
       "      start_year  runtime_minutes               genres budget   ww_gross  \\\n",
       "670         2010           101.00  ['Science Fiction']    NaN  13,000.00   \n",
       "3371        2018            65.00      ['Documentary']    NaN   2,248.00   \n",
       "3893        2018           112.00      ['Documentary']    NaN  18,644.00   \n",
       "3894        2018            82.00      ['Documentary']    NaN  69,542.00   \n",
       "\n",
       "     mpaa_rating  month  \n",
       "670      Unrated  10.00  \n",
       "3371         NaN   2.00  \n",
       "3893         NaN   8.00  \n",
       "3894         NaN  11.00  "
      ]
     },
     "execution_count": 101,
     "metadata": {},
     "output_type": "execute_result"
    }
   ],
   "source": [
    "#fix ['Documentary'] and ['Science Fiction']\n",
    "\n",
    "movies[(movies['genres']==\"['Documentary']\") | \n",
    "       (movies['genres']==\"['Science Fiction']\")]"
   ]
  },
  {
   "cell_type": "code",
   "execution_count": 102,
   "metadata": {},
   "outputs": [],
   "source": [
    "#correct these rows\n",
    "movies.loc[670,'genres']='Sci-Fi'\n",
    "movies.loc[[3371,3893,3894],'genres']='Documentary'"
   ]
  },
  {
   "cell_type": "code",
   "execution_count": 103,
   "metadata": {},
   "outputs": [
    {
     "data": {
      "text/plain": [
       "Drama          1818\n",
       "Comedy         1131\n",
       "Documentary     889\n",
       "Thriller        600\n",
       "Action          598\n",
       "Horror          476\n",
       "Crime           457\n",
       "Romance         450\n",
       "Adventure       439\n",
       "Biography       375\n",
       "Mystery         272\n",
       "Sci-Fi          202\n",
       "Family          193\n",
       "Fantasy         187\n",
       "History         179\n",
       "Music           177\n",
       "Animation       154\n",
       "Sport            98\n",
       "Western          36\n",
       "War              36\n",
       "News             33\n",
       "Musical          30\n",
       "Name: genres, dtype: int64"
      ]
     },
     "execution_count": 103,
     "metadata": {},
     "output_type": "execute_result"
    }
   ],
   "source": [
    "movies['genres'].str.split(',').explode().value_counts()"
   ]
  },
  {
   "cell_type": "code",
   "execution_count": 104,
   "metadata": {},
   "outputs": [
    {
     "data": {
      "text/plain": [
       "0       [Action, Animation, Comedy]\n",
       "1        [Drama, Mystery, Thriller]\n",
       "2    [Adventure, Animation, Comedy]\n",
       "3        [Adventure, Comedy, Drama]\n",
       "4            [Action, Crime, Drama]\n",
       "Name: genres, dtype: object"
      ]
     },
     "execution_count": 104,
     "metadata": {},
     "output_type": "execute_result"
    }
   ],
   "source": [
    "#turn genres into list of strings now that formatting is corrected\n",
    "movies['genres']=movies['genres'].str.split(',')\n",
    "movies['genres'].head()"
   ]
  },
  {
   "cell_type": "markdown",
   "metadata": {},
   "source": [
    "### ratings ###\n",
    "Check for any formatting issues"
   ]
  },
  {
   "cell_type": "code",
   "execution_count": 105,
   "metadata": {},
   "outputs": [
    {
     "data": {
      "text/plain": [
       "R            1360\n",
       "PG-13         850\n",
       "Not Rated     802\n",
       "PG            358\n",
       "Unrated       110\n",
       "TV-MA          74\n",
       "G              38\n",
       "TV-14          37\n",
       "NR             36\n",
       "TV-PG          23\n",
       "TV-G            7\n",
       "TV-Y            3\n",
       "NC-17           1\n",
       "Approved        1\n",
       "Name: mpaa_rating, dtype: int64"
      ]
     },
     "execution_count": 105,
     "metadata": {},
     "output_type": "execute_result"
    }
   ],
   "source": [
    "movies['mpaa_rating'].value_counts()"
   ]
  },
  {
   "cell_type": "markdown",
   "metadata": {},
   "source": [
    "1) 'Not Rated' and 'Unrated' are the same, so I will change these all to 'Unrated'. <br>\n",
    "2) I will explore what 'Approved' means. <br>\n",
    "3) Explore movies with TV ratings. This analysis is meant for theatrical releases, so movies that were made for TV should not be included. <br>\n",
    "4) Investigate whether NC-17 movie should be in dataset"
   ]
  },
  {
   "cell_type": "code",
   "execution_count": 106,
   "metadata": {
    "scrolled": true
   },
   "outputs": [
    {
     "data": {
      "text/plain": [
       "R           1360\n",
       "Unrated      912\n",
       "PG-13        850\n",
       "PG           358\n",
       "TV-MA         74\n",
       "G             38\n",
       "TV-14         37\n",
       "NR            36\n",
       "TV-PG         23\n",
       "TV-G           7\n",
       "TV-Y           3\n",
       "NC-17          1\n",
       "Approved       1\n",
       "Name: mpaa_rating, dtype: int64"
      ]
     },
     "execution_count": 106,
     "metadata": {},
     "output_type": "execute_result"
    }
   ],
   "source": [
    "#Replace 'Not Rated' with 'Unrated'\n",
    "movies['mpaa_rating']=movies['mpaa_rating'].\\\n",
    "                    where(movies['mpaa_rating']!='Not Rated',other='Unrated')\n",
    "movies['mpaa_rating'].value_counts()"
   ]
  },
  {
   "cell_type": "code",
   "execution_count": 107,
   "metadata": {},
   "outputs": [],
   "source": [
    "movies['mpaa_rating']=movies['mpaa_rating'].\\\n",
    "                    where(movies['mpaa_rating']!='NR',other='Unrated')"
   ]
  },
  {
   "cell_type": "code",
   "execution_count": 108,
   "metadata": {},
   "outputs": [
    {
     "data": {
      "text/html": [
       "<div>\n",
       "<style scoped>\n",
       "    .dataframe tbody tr th:only-of-type {\n",
       "        vertical-align: middle;\n",
       "    }\n",
       "\n",
       "    .dataframe tbody tr th {\n",
       "        vertical-align: top;\n",
       "    }\n",
       "\n",
       "    .dataframe thead th {\n",
       "        text-align: right;\n",
       "    }\n",
       "</style>\n",
       "<table border=\"1\" class=\"dataframe\">\n",
       "  <thead>\n",
       "    <tr style=\"text-align: right;\">\n",
       "      <th></th>\n",
       "      <th>Unnamed: 0</th>\n",
       "      <th>tconst</th>\n",
       "      <th>original_title</th>\n",
       "      <th>start_year</th>\n",
       "      <th>runtime_minutes</th>\n",
       "      <th>genres</th>\n",
       "      <th>budget</th>\n",
       "      <th>ww_gross</th>\n",
       "      <th>mpaa_rating</th>\n",
       "      <th>month</th>\n",
       "    </tr>\n",
       "  </thead>\n",
       "  <tbody>\n",
       "    <tr>\n",
       "      <th>3999</th>\n",
       "      <td>3999</td>\n",
       "      <td>tt8803596</td>\n",
       "      <td>Have It All -The Movie</td>\n",
       "      <td>2018</td>\n",
       "      <td>90.00</td>\n",
       "      <td>[Documentary]</td>\n",
       "      <td>{'amount': 250000.0, 'currency': 'USD'}</td>\n",
       "      <td>197,142.00</td>\n",
       "      <td>Approved</td>\n",
       "      <td>8.00</td>\n",
       "    </tr>\n",
       "  </tbody>\n",
       "</table>\n",
       "</div>"
      ],
      "text/plain": [
       "      Unnamed: 0     tconst          original_title  start_year  \\\n",
       "3999        3999  tt8803596  Have It All -The Movie        2018   \n",
       "\n",
       "      runtime_minutes         genres                                   budget  \\\n",
       "3999            90.00  [Documentary]  {'amount': 250000.0, 'currency': 'USD'}   \n",
       "\n",
       "        ww_gross mpaa_rating  month  \n",
       "3999  197,142.00    Approved   8.00  "
      ]
     },
     "execution_count": 108,
     "metadata": {},
     "output_type": "execute_result"
    }
   ],
   "source": [
    "#Investigate 'Approved'\n",
    "movies[movies['mpaa_rating']=='Approved']"
   ]
  },
  {
   "cell_type": "markdown",
   "metadata": {},
   "source": [
    "From filmratings.com/History, films used to be either Approved/Disapproved based on whether they were moral or unmoral under the Hays Code. The current MPAA rating system replaced this in 1968. It does not make sense that a film from 2018 would be rated Approved, so I will change this value to Unrated."
   ]
  },
  {
   "cell_type": "code",
   "execution_count": 109,
   "metadata": {},
   "outputs": [],
   "source": [
    "#Change value to unrated\n",
    "movies.loc[3999,'mpaa_rating']='Unrated'"
   ]
  },
  {
   "cell_type": "code",
   "execution_count": 110,
   "metadata": {},
   "outputs": [
    {
     "data": {
      "text/html": [
       "<div>\n",
       "<style scoped>\n",
       "    .dataframe tbody tr th:only-of-type {\n",
       "        vertical-align: middle;\n",
       "    }\n",
       "\n",
       "    .dataframe tbody tr th {\n",
       "        vertical-align: top;\n",
       "    }\n",
       "\n",
       "    .dataframe thead th {\n",
       "        text-align: right;\n",
       "    }\n",
       "</style>\n",
       "<table border=\"1\" class=\"dataframe\">\n",
       "  <thead>\n",
       "    <tr style=\"text-align: right;\">\n",
       "      <th></th>\n",
       "      <th>Unnamed: 0</th>\n",
       "      <th>tconst</th>\n",
       "      <th>original_title</th>\n",
       "      <th>start_year</th>\n",
       "      <th>runtime_minutes</th>\n",
       "      <th>genres</th>\n",
       "      <th>budget</th>\n",
       "      <th>ww_gross</th>\n",
       "      <th>mpaa_rating</th>\n",
       "      <th>month</th>\n",
       "    </tr>\n",
       "  </thead>\n",
       "  <tbody>\n",
       "    <tr>\n",
       "      <th>672</th>\n",
       "      <td>672</td>\n",
       "      <td>tt1482991</td>\n",
       "      <td>Carbon Nation</td>\n",
       "      <td>2010</td>\n",
       "      <td>86.00</td>\n",
       "      <td>[Documentary, Family]</td>\n",
       "      <td>NaN</td>\n",
       "      <td>16,901.00</td>\n",
       "      <td>TV-PG</td>\n",
       "      <td>10.00</td>\n",
       "    </tr>\n",
       "    <tr>\n",
       "      <th>1420</th>\n",
       "      <td>1420</td>\n",
       "      <td>tt1930322</td>\n",
       "      <td>Destiny Road</td>\n",
       "      <td>2012</td>\n",
       "      <td>100.00</td>\n",
       "      <td>[Drama]</td>\n",
       "      <td>NaN</td>\n",
       "      <td>926,114.00</td>\n",
       "      <td>TV-PG</td>\n",
       "      <td>4.00</td>\n",
       "    </tr>\n",
       "    <tr>\n",
       "      <th>1577</th>\n",
       "      <td>1577</td>\n",
       "      <td>tt2040398</td>\n",
       "      <td>La Camioneta: The Journey of One American Scho...</td>\n",
       "      <td>2012</td>\n",
       "      <td>71.00</td>\n",
       "      <td>[Documentary]</td>\n",
       "      <td>NaN</td>\n",
       "      <td>18,558.00</td>\n",
       "      <td>TV-PG</td>\n",
       "      <td>3.00</td>\n",
       "    </tr>\n",
       "    <tr>\n",
       "      <th>1795</th>\n",
       "      <td>1795</td>\n",
       "      <td>tt2222206</td>\n",
       "      <td>Dear Mr. Watterson</td>\n",
       "      <td>2013</td>\n",
       "      <td>89.00</td>\n",
       "      <td>[Documentary]</td>\n",
       "      <td>NaN</td>\n",
       "      <td>23,899.00</td>\n",
       "      <td>TV-PG</td>\n",
       "      <td>4.00</td>\n",
       "    </tr>\n",
       "    <tr>\n",
       "      <th>2020</th>\n",
       "      <td>2020</td>\n",
       "      <td>tt2402114</td>\n",
       "      <td>Forgive - Don't Forget</td>\n",
       "      <td>2018</td>\n",
       "      <td>69.00</td>\n",
       "      <td>[Documentary, History, War]</td>\n",
       "      <td>NaN</td>\n",
       "      <td>128,000.00</td>\n",
       "      <td>TV-PG</td>\n",
       "      <td>7.00</td>\n",
       "    </tr>\n",
       "  </tbody>\n",
       "</table>\n",
       "</div>"
      ],
      "text/plain": [
       "      Unnamed: 0     tconst  \\\n",
       "672          672  tt1482991   \n",
       "1420        1420  tt1930322   \n",
       "1577        1577  tt2040398   \n",
       "1795        1795  tt2222206   \n",
       "2020        2020  tt2402114   \n",
       "\n",
       "                                         original_title  start_year  \\\n",
       "672                                       Carbon Nation        2010   \n",
       "1420                                       Destiny Road        2012   \n",
       "1577  La Camioneta: The Journey of One American Scho...        2012   \n",
       "1795                                 Dear Mr. Watterson        2013   \n",
       "2020                             Forgive - Don't Forget        2018   \n",
       "\n",
       "      runtime_minutes                       genres budget    ww_gross  \\\n",
       "672             86.00        [Documentary, Family]    NaN   16,901.00   \n",
       "1420           100.00                      [Drama]    NaN  926,114.00   \n",
       "1577            71.00                [Documentary]    NaN   18,558.00   \n",
       "1795            89.00                [Documentary]    NaN   23,899.00   \n",
       "2020            69.00  [Documentary, History, War]    NaN  128,000.00   \n",
       "\n",
       "     mpaa_rating  month  \n",
       "672        TV-PG  10.00  \n",
       "1420       TV-PG   4.00  \n",
       "1577       TV-PG   3.00  \n",
       "1795       TV-PG   4.00  \n",
       "2020       TV-PG   7.00  "
      ]
     },
     "execution_count": 110,
     "metadata": {},
     "output_type": "execute_result"
    }
   ],
   "source": [
    "#Explore movies that are TV-PG\n",
    "movies[movies['mpaa_rating']=='TV-PG'].head()"
   ]
  },
  {
   "cell_type": "markdown",
   "metadata": {},
   "source": [
    "From digging into the movies on the list, it is clear that many of these movies had theatrical releases. The majority of the movies that I checked have TV ratings that coincide with their MPAA ratings, so I will replace the TV ratings with MPAA ratings, so that they are grouped generally in the correct category for maturity of the content."
   ]
  },
  {
   "cell_type": "code",
   "execution_count": 111,
   "metadata": {},
   "outputs": [
    {
     "data": {
      "text/plain": [
       "R          1434\n",
       "Unrated     949\n",
       "PG-13       887\n",
       "PG          381\n",
       "G            48\n",
       "NC-17         1\n",
       "Name: mpaa_rating, dtype: int64"
      ]
     },
     "execution_count": 111,
     "metadata": {},
     "output_type": "execute_result"
    }
   ],
   "source": [
    "#Change TV ratings to their MPAA equivalent\n",
    "new_ratings={'TV-Y':'G','TV-G':'G','TV-PG':'PG','TV-14':'PG-13','TV-MA':'R'}\n",
    "movies['mpaa_rating']=movies['mpaa_rating'].apply(lambda x:\n",
    "                                                 new_ratings[x] if x in \n",
    "                                                 new_ratings else x)\n",
    "movies['mpaa_rating'].value_counts()"
   ]
  },
  {
   "cell_type": "code",
   "execution_count": 112,
   "metadata": {},
   "outputs": [
    {
     "data": {
      "text/html": [
       "<div>\n",
       "<style scoped>\n",
       "    .dataframe tbody tr th:only-of-type {\n",
       "        vertical-align: middle;\n",
       "    }\n",
       "\n",
       "    .dataframe tbody tr th {\n",
       "        vertical-align: top;\n",
       "    }\n",
       "\n",
       "    .dataframe thead th {\n",
       "        text-align: right;\n",
       "    }\n",
       "</style>\n",
       "<table border=\"1\" class=\"dataframe\">\n",
       "  <thead>\n",
       "    <tr style=\"text-align: right;\">\n",
       "      <th></th>\n",
       "      <th>Unnamed: 0</th>\n",
       "      <th>tconst</th>\n",
       "      <th>original_title</th>\n",
       "      <th>start_year</th>\n",
       "      <th>runtime_minutes</th>\n",
       "      <th>genres</th>\n",
       "      <th>budget</th>\n",
       "      <th>ww_gross</th>\n",
       "      <th>mpaa_rating</th>\n",
       "      <th>month</th>\n",
       "    </tr>\n",
       "  </thead>\n",
       "  <tbody>\n",
       "    <tr>\n",
       "      <th>3919</th>\n",
       "      <td>3919</td>\n",
       "      <td>tt7947150</td>\n",
       "      <td>This One's for the Ladies</td>\n",
       "      <td>2018</td>\n",
       "      <td>82.00</td>\n",
       "      <td>[Documentary]</td>\n",
       "      <td>NaN</td>\n",
       "      <td>13,688.00</td>\n",
       "      <td>NC-17</td>\n",
       "      <td>5.00</td>\n",
       "    </tr>\n",
       "  </tbody>\n",
       "</table>\n",
       "</div>"
      ],
      "text/plain": [
       "      Unnamed: 0     tconst             original_title  start_year  \\\n",
       "3919        3919  tt7947150  This One's for the Ladies        2018   \n",
       "\n",
       "      runtime_minutes         genres budget   ww_gross mpaa_rating  month  \n",
       "3919            82.00  [Documentary]    NaN  13,688.00       NC-17   5.00  "
      ]
     },
     "execution_count": 112,
     "metadata": {},
     "output_type": "execute_result"
    }
   ],
   "source": [
    "movies[movies['mpaa_rating']=='NC-17']"
   ]
  },
  {
   "cell_type": "code",
   "execution_count": 113,
   "metadata": {},
   "outputs": [
    {
     "data": {
      "text/plain": [
       "R          1434\n",
       "Unrated     949\n",
       "PG-13       887\n",
       "PG          381\n",
       "G            48\n",
       "Name: mpaa_rating, dtype: int64"
      ]
     },
     "execution_count": 113,
     "metadata": {},
     "output_type": "execute_result"
    }
   ],
   "source": [
    "#remove this movie- not the kind of material discussed in analysis and didn't\n",
    "#make much money\n",
    "movies=movies[movies['mpaa_rating']!='NC-17']\n",
    "movies['mpaa_rating'].value_counts()"
   ]
  },
  {
   "cell_type": "code",
   "execution_count": 114,
   "metadata": {},
   "outputs": [],
   "source": [
    "movies.drop(['Unnamed: 0'],axis=1,inplace=True)\n"
   ]
  },
  {
   "cell_type": "code",
   "execution_count": 115,
   "metadata": {},
   "outputs": [],
   "source": [
    "#movies.to_csv('29SEP_movies.csv')"
   ]
  },
  {
   "cell_type": "code",
   "execution_count": 116,
   "metadata": {},
   "outputs": [],
   "source": [
    "movies=pd.read_csv('student_data/29SEP_movies.csv')\n",
    "movies.drop(['Unnamed: 0'],axis=1,inplace=True)"
   ]
  },
  {
   "cell_type": "markdown",
   "metadata": {},
   "source": [
    "### month ###\n",
    "Look at distribution of month data and determine how to handle missing values"
   ]
  },
  {
   "cell_type": "code",
   "execution_count": 117,
   "metadata": {},
   "outputs": [
    {
     "data": {
      "text/plain": [
       "<AxesSubplot:ylabel='Frequency'>"
      ]
     },
     "execution_count": 117,
     "metadata": {},
     "output_type": "execute_result"
    },
    {
     "data": {
      "image/png": "[encoded data removed]",
      "text/plain": [
       "<Figure size 432x288 with 1 Axes>"
      ]
     },
     "metadata": {
      "needs_background": "light"
     },
     "output_type": "display_data"
    }
   ],
   "source": [
    "movies['month'].plot(kind='hist')"
   ]
  },
  {
   "cell_type": "markdown",
   "metadata": {},
   "source": [
    "I could fill in the missing month data by using random months with the same distribution as the data, but I don't think this would add to the analysis, since there are only 33/4064 missing values. I will consider dropping these rows after I finish looking at other missing values."
   ]
  },
  {
   "cell_type": "markdown",
   "metadata": {},
   "source": [
    "### budget ###\n",
    "\n",
    "Get all budget data in same format as type float"
   ]
  },
  {
   "cell_type": "code",
   "execution_count": 118,
   "metadata": {},
   "outputs": [
    {
     "data": {
      "text/html": [
       "<div>\n",
       "<style scoped>\n",
       "    .dataframe tbody tr th:only-of-type {\n",
       "        vertical-align: middle;\n",
       "    }\n",
       "\n",
       "    .dataframe tbody tr th {\n",
       "        vertical-align: top;\n",
       "    }\n",
       "\n",
       "    .dataframe thead th {\n",
       "        text-align: right;\n",
       "    }\n",
       "</style>\n",
       "<table border=\"1\" class=\"dataframe\">\n",
       "  <thead>\n",
       "    <tr style=\"text-align: right;\">\n",
       "      <th></th>\n",
       "      <th>tconst</th>\n",
       "      <th>original_title</th>\n",
       "      <th>start_year</th>\n",
       "      <th>runtime_minutes</th>\n",
       "      <th>genres</th>\n",
       "      <th>budget</th>\n",
       "      <th>ww_gross</th>\n",
       "      <th>mpaa_rating</th>\n",
       "      <th>month</th>\n",
       "    </tr>\n",
       "  </thead>\n",
       "  <tbody>\n",
       "    <tr>\n",
       "      <th>0</th>\n",
       "      <td>tt0249516</td>\n",
       "      <td>Foodfight!</td>\n",
       "      <td>2012</td>\n",
       "      <td>91.00</td>\n",
       "      <td>['Action', 'Animation', 'Comedy']</td>\n",
       "      <td>{'amount': 65000000.0, 'currency': 'USD'}</td>\n",
       "      <td>120,141.00</td>\n",
       "      <td>PG</td>\n",
       "      <td>2.00</td>\n",
       "    </tr>\n",
       "    <tr>\n",
       "      <th>1</th>\n",
       "      <td>tt0326965</td>\n",
       "      <td>In My Sleep</td>\n",
       "      <td>2010</td>\n",
       "      <td>104.00</td>\n",
       "      <td>['Drama', 'Mystery', 'Thriller']</td>\n",
       "      <td>{'amount': 1000000.0, 'currency': 'USD'}</td>\n",
       "      <td>30,158.00</td>\n",
       "      <td>PG-13</td>\n",
       "      <td>4.00</td>\n",
       "    </tr>\n",
       "    <tr>\n",
       "      <th>3</th>\n",
       "      <td>tt0359950</td>\n",
       "      <td>The Secret Life of Walter Mitty</td>\n",
       "      <td>2013</td>\n",
       "      <td>114.00</td>\n",
       "      <td>['Adventure', 'Comedy', 'Drama']</td>\n",
       "      <td>{'amount': 90000000, 'currency': 'USD'}</td>\n",
       "      <td>188,133,322.00</td>\n",
       "      <td>PG</td>\n",
       "      <td>12.00</td>\n",
       "    </tr>\n",
       "    <tr>\n",
       "      <th>4</th>\n",
       "      <td>tt0365907</td>\n",
       "      <td>A Walk Among the Tombstones</td>\n",
       "      <td>2014</td>\n",
       "      <td>114.00</td>\n",
       "      <td>['Action', 'Crime', 'Drama']</td>\n",
       "      <td>{'amount': 28000000, 'currency': 'USD'}</td>\n",
       "      <td>58,834,384.00</td>\n",
       "      <td>R</td>\n",
       "      <td>9.00</td>\n",
       "    </tr>\n",
       "    <tr>\n",
       "      <th>5</th>\n",
       "      <td>tt0369610</td>\n",
       "      <td>Jurassic World</td>\n",
       "      <td>2015</td>\n",
       "      <td>124.00</td>\n",
       "      <td>['Action', 'Adventure', 'Sci-Fi']</td>\n",
       "      <td>{'amount': 150000000, 'currency': 'USD'}</td>\n",
       "      <td>1,670,516,444.00</td>\n",
       "      <td>PG-13</td>\n",
       "      <td>6.00</td>\n",
       "    </tr>\n",
       "  </tbody>\n",
       "</table>\n",
       "</div>"
      ],
      "text/plain": [
       "      tconst                   original_title  start_year  runtime_minutes  \\\n",
       "0  tt0249516                       Foodfight!        2012            91.00   \n",
       "1  tt0326965                      In My Sleep        2010           104.00   \n",
       "3  tt0359950  The Secret Life of Walter Mitty        2013           114.00   \n",
       "4  tt0365907      A Walk Among the Tombstones        2014           114.00   \n",
       "5  tt0369610                   Jurassic World        2015           124.00   \n",
       "\n",
       "                              genres  \\\n",
       "0  ['Action', 'Animation', 'Comedy']   \n",
       "1   ['Drama', 'Mystery', 'Thriller']   \n",
       "3   ['Adventure', 'Comedy', 'Drama']   \n",
       "4       ['Action', 'Crime', 'Drama']   \n",
       "5  ['Action', 'Adventure', 'Sci-Fi']   \n",
       "\n",
       "                                      budget          ww_gross mpaa_rating  \\\n",
       "0  {'amount': 65000000.0, 'currency': 'USD'}        120,141.00          PG   \n",
       "1   {'amount': 1000000.0, 'currency': 'USD'}         30,158.00       PG-13   \n",
       "3    {'amount': 90000000, 'currency': 'USD'}    188,133,322.00          PG   \n",
       "4    {'amount': 28000000, 'currency': 'USD'}     58,834,384.00           R   \n",
       "5   {'amount': 150000000, 'currency': 'USD'}  1,670,516,444.00       PG-13   \n",
       "\n",
       "   month  \n",
       "0   2.00  \n",
       "1   4.00  \n",
       "3  12.00  \n",
       "4   9.00  \n",
       "5   6.00  "
      ]
     },
     "execution_count": 118,
     "metadata": {},
     "output_type": "execute_result"
    }
   ],
   "source": [
    "movies[movies['budget'].apply(lambda x: type(x))==str].head()\n"
   ]
  },
  {
   "cell_type": "code",
   "execution_count": 119,
   "metadata": {},
   "outputs": [],
   "source": [
    "def find_dicts(data):\n",
    "    if type(data)==str:\n",
    "        if '{' in data:\n",
    "            return True\n",
    "        else:\n",
    "            return False\n",
    "    else:\n",
    "        return False\n",
    "\n",
    "type_bool=movies['budget'].apply(find_dicts)"
   ]
  },
  {
   "cell_type": "code",
   "execution_count": 120,
   "metadata": {},
   "outputs": [
    {
     "data": {
      "text/plain": [
       "0     65,000,000.00\n",
       "1      1,000,000.00\n",
       "2               NaN\n",
       "3     90,000,000.00\n",
       "4     28,000,000.00\n",
       "5    150,000,000.00\n",
       "6      5,000,000.00\n",
       "7     45,000,000.00\n",
       "8     30,000,000.00\n",
       "9    260,000,000.00\n",
       "Name: budget, dtype: object"
      ]
     },
     "execution_count": 120,
     "metadata": {},
     "output_type": "execute_result"
    }
   ],
   "source": [
    "def fix_budget(x):\n",
    "    data=eval(x)\n",
    "    return data['amount']\n",
    "\n",
    "movies.loc[type_bool,'budget']=movies.loc[type_bool,\n",
    "                                          'budget'].apply(fix_budget)\n",
    "movies['budget'].head(10)"
   ]
  },
  {
   "cell_type": "code",
   "execution_count": 121,
   "metadata": {},
   "outputs": [],
   "source": [
    "movies['budget']=movies['budget'].astype(float)"
   ]
  },
  {
   "cell_type": "code",
   "execution_count": 122,
   "metadata": {
    "scrolled": true
   },
   "outputs": [
    {
     "data": {
      "text/plain": [
       "count          2,025.00\n",
       "mean      32,090,687.79\n",
       "std       49,186,123.98\n",
       "min                0.00\n",
       "25%        2,000,000.00\n",
       "50%       12,000,000.00\n",
       "75%       36,000,000.00\n",
       "max      356,000,000.00\n",
       "Name: budget, dtype: float64"
      ]
     },
     "execution_count": 122,
     "metadata": {},
     "output_type": "execute_result"
    }
   ],
   "source": [
    "movies['budget'].describe()"
   ]
  },
  {
   "cell_type": "code",
   "execution_count": 123,
   "metadata": {
    "scrolled": true
   },
   "outputs": [
    {
     "name": "stdout",
     "output_type": "stream",
     "text": [
      "<class 'pandas.core.frame.DataFrame'>\n",
      "RangeIndex: 4064 entries, 0 to 4063\n",
      "Data columns (total 9 columns):\n",
      " #   Column           Non-Null Count  Dtype  \n",
      "---  ------           --------------  -----  \n",
      " 0   tconst           4064 non-null   object \n",
      " 1   original_title   4064 non-null   object \n",
      " 2   start_year       4064 non-null   int64  \n",
      " 3   runtime_minutes  4064 non-null   float64\n",
      " 4   genres           4062 non-null   object \n",
      " 5   budget           2025 non-null   float64\n",
      " 6   ww_gross         4064 non-null   float64\n",
      " 7   mpaa_rating      3699 non-null   object \n",
      " 8   month            4031 non-null   float64\n",
      "dtypes: float64(4), int64(1), object(4)\n",
      "memory usage: 285.9+ KB\n"
     ]
    }
   ],
   "source": [
    "movies.info()"
   ]
  },
  {
   "cell_type": "code",
   "execution_count": 124,
   "metadata": {},
   "outputs": [],
   "source": [
    "#movies.to_csv('30SEP_movies.csv',index=False)"
   ]
  },
  {
   "cell_type": "code",
   "execution_count": 125,
   "metadata": {},
   "outputs": [],
   "source": [
    "movies=pd.read_csv('student_data/30SEP_movies.csv')"
   ]
  },
  {
   "cell_type": "markdown",
   "metadata": {},
   "source": [
    "### Investigate missing data ###\n",
    "For genres, mpaa_rating, month, verify whether there are movies with missing data that we want included in the analysis. Check what the highest values for ww_gross for the movies missing these values."
   ]
  },
  {
   "cell_type": "code",
   "execution_count": 126,
   "metadata": {},
   "outputs": [
    {
     "data": {
      "text/html": [
       "<div>\n",
       "<style scoped>\n",
       "    .dataframe tbody tr th:only-of-type {\n",
       "        vertical-align: middle;\n",
       "    }\n",
       "\n",
       "    .dataframe tbody tr th {\n",
       "        vertical-align: top;\n",
       "    }\n",
       "\n",
       "    .dataframe thead th {\n",
       "        text-align: right;\n",
       "    }\n",
       "</style>\n",
       "<table border=\"1\" class=\"dataframe\">\n",
       "  <thead>\n",
       "    <tr style=\"text-align: right;\">\n",
       "      <th></th>\n",
       "      <th>tconst</th>\n",
       "      <th>original_title</th>\n",
       "      <th>start_year</th>\n",
       "      <th>runtime_minutes</th>\n",
       "      <th>genres</th>\n",
       "      <th>budget</th>\n",
       "      <th>ww_gross</th>\n",
       "      <th>mpaa_rating</th>\n",
       "      <th>month</th>\n",
       "    </tr>\n",
       "  </thead>\n",
       "  <tbody>\n",
       "    <tr>\n",
       "      <th>2105</th>\n",
       "      <td>tt2504610</td>\n",
       "      <td>The Oscar Nominated Short Films 2010: Live Action</td>\n",
       "      <td>2010</td>\n",
       "      <td>97.00</td>\n",
       "      <td>NaN</td>\n",
       "      <td>nan</td>\n",
       "      <td>1,018,169.00</td>\n",
       "      <td>NaN</td>\n",
       "      <td>3.00</td>\n",
       "    </tr>\n",
       "    <tr>\n",
       "      <th>1082</th>\n",
       "      <td>tt1701997</td>\n",
       "      <td>I'm Still Here</td>\n",
       "      <td>2010</td>\n",
       "      <td>60.00</td>\n",
       "      <td>NaN</td>\n",
       "      <td>nan</td>\n",
       "      <td>569,000.00</td>\n",
       "      <td>NaN</td>\n",
       "      <td>nan</td>\n",
       "    </tr>\n",
       "  </tbody>\n",
       "</table>\n",
       "</div>"
      ],
      "text/plain": [
       "         tconst                                     original_title  \\\n",
       "2105  tt2504610  The Oscar Nominated Short Films 2010: Live Action   \n",
       "1082  tt1701997                                     I'm Still Here   \n",
       "\n",
       "      start_year  runtime_minutes genres  budget      ww_gross mpaa_rating  \\\n",
       "2105        2010            97.00    NaN     nan  1,018,169.00         NaN   \n",
       "1082        2010            60.00    NaN     nan    569,000.00         NaN   \n",
       "\n",
       "      month  \n",
       "2105   3.00  \n",
       "1082    nan  "
      ]
     },
     "execution_count": 126,
     "metadata": {},
     "output_type": "execute_result"
    }
   ],
   "source": [
    "#genres\n",
    "movies[movies['genres'].isnull()].sort_values('ww_gross',ascending=False)"
   ]
  },
  {
   "cell_type": "code",
   "execution_count": 127,
   "metadata": {
    "scrolled": true
   },
   "outputs": [],
   "source": [
    "#mpaa_rating\n",
    "missing_rating=movies[movies['mpaa_rating'].isnull()].sort_values('ww_gross',\n",
    "                                                   ascending=False)"
   ]
  },
  {
   "cell_type": "code",
   "execution_count": 128,
   "metadata": {
    "scrolled": true
   },
   "outputs": [
    {
     "data": {
      "text/html": [
       "<div>\n",
       "<style scoped>\n",
       "    .dataframe tbody tr th:only-of-type {\n",
       "        vertical-align: middle;\n",
       "    }\n",
       "\n",
       "    .dataframe tbody tr th {\n",
       "        vertical-align: top;\n",
       "    }\n",
       "\n",
       "    .dataframe thead th {\n",
       "        text-align: right;\n",
       "    }\n",
       "</style>\n",
       "<table border=\"1\" class=\"dataframe\">\n",
       "  <thead>\n",
       "    <tr style=\"text-align: right;\">\n",
       "      <th></th>\n",
       "      <th>tconst</th>\n",
       "      <th>original_title</th>\n",
       "      <th>start_year</th>\n",
       "      <th>runtime_minutes</th>\n",
       "      <th>genres</th>\n",
       "      <th>budget</th>\n",
       "      <th>ww_gross</th>\n",
       "      <th>mpaa_rating</th>\n",
       "      <th>month</th>\n",
       "    </tr>\n",
       "  </thead>\n",
       "  <tbody>\n",
       "    <tr>\n",
       "      <th>1623</th>\n",
       "      <td>tt2071483</td>\n",
       "      <td>Inside Out</td>\n",
       "      <td>2011</td>\n",
       "      <td>59.00</td>\n",
       "      <td>['Family']</td>\n",
       "      <td>500,000.00</td>\n",
       "      <td>857,600,000.00</td>\n",
       "      <td>NaN</td>\n",
       "      <td>12.00</td>\n",
       "    </tr>\n",
       "    <tr>\n",
       "      <th>2847</th>\n",
       "      <td>tt4028068</td>\n",
       "      <td>Wonder Woman</td>\n",
       "      <td>2014</td>\n",
       "      <td>60.00</td>\n",
       "      <td>['Sci-Fi']</td>\n",
       "      <td>15,000.00</td>\n",
       "      <td>821,900,000.00</td>\n",
       "      <td>NaN</td>\n",
       "      <td>12.00</td>\n",
       "    </tr>\n",
       "    <tr>\n",
       "      <th>2526</th>\n",
       "      <td>tt3300078</td>\n",
       "      <td>The Revenant</td>\n",
       "      <td>2012</td>\n",
       "      <td>80.00</td>\n",
       "      <td>['Horror']</td>\n",
       "      <td>2,000.00</td>\n",
       "      <td>532,900,000.00</td>\n",
       "      <td>NaN</td>\n",
       "      <td>2.00</td>\n",
       "    </tr>\n",
       "    <tr>\n",
       "      <th>3456</th>\n",
       "      <td>tt5734820</td>\n",
       "      <td>Rio</td>\n",
       "      <td>2017</td>\n",
       "      <td>87.00</td>\n",
       "      <td>['Drama']</td>\n",
       "      <td>nan</td>\n",
       "      <td>484,600,000.00</td>\n",
       "      <td>NaN</td>\n",
       "      <td>nan</td>\n",
       "    </tr>\n",
       "    <tr>\n",
       "      <th>2185</th>\n",
       "      <td>tt2614250</td>\n",
       "      <td>Rio</td>\n",
       "      <td>2012</td>\n",
       "      <td>90.00</td>\n",
       "      <td>['Documentary']</td>\n",
       "      <td>250,000.00</td>\n",
       "      <td>484,600,000.00</td>\n",
       "      <td>NaN</td>\n",
       "      <td>nan</td>\n",
       "    </tr>\n",
       "  </tbody>\n",
       "</table>\n",
       "</div>"
      ],
      "text/plain": [
       "         tconst original_title  start_year  runtime_minutes           genres  \\\n",
       "1623  tt2071483     Inside Out        2011            59.00       ['Family']   \n",
       "2847  tt4028068   Wonder Woman        2014            60.00       ['Sci-Fi']   \n",
       "2526  tt3300078   The Revenant        2012            80.00       ['Horror']   \n",
       "3456  tt5734820            Rio        2017            87.00        ['Drama']   \n",
       "2185  tt2614250            Rio        2012            90.00  ['Documentary']   \n",
       "\n",
       "          budget        ww_gross mpaa_rating  month  \n",
       "1623  500,000.00  857,600,000.00         NaN  12.00  \n",
       "2847   15,000.00  821,900,000.00         NaN  12.00  \n",
       "2526    2,000.00  532,900,000.00         NaN   2.00  \n",
       "3456         nan  484,600,000.00         NaN    nan  \n",
       "2185  250,000.00  484,600,000.00         NaN    nan  "
      ]
     },
     "execution_count": 128,
     "metadata": {},
     "output_type": "execute_result"
    }
   ],
   "source": [
    "missing_rating.head()"
   ]
  },
  {
   "cell_type": "code",
   "execution_count": 129,
   "metadata": {},
   "outputs": [
    {
     "data": {
      "text/html": [
       "<div>\n",
       "<style scoped>\n",
       "    .dataframe tbody tr th:only-of-type {\n",
       "        vertical-align: middle;\n",
       "    }\n",
       "\n",
       "    .dataframe tbody tr th {\n",
       "        vertical-align: top;\n",
       "    }\n",
       "\n",
       "    .dataframe thead th {\n",
       "        text-align: right;\n",
       "    }\n",
       "</style>\n",
       "<table border=\"1\" class=\"dataframe\">\n",
       "  <thead>\n",
       "    <tr style=\"text-align: right;\">\n",
       "      <th></th>\n",
       "      <th>tconst</th>\n",
       "      <th>original_title</th>\n",
       "      <th>start_year</th>\n",
       "      <th>runtime_minutes</th>\n",
       "      <th>genres</th>\n",
       "      <th>budget</th>\n",
       "      <th>ww_gross</th>\n",
       "      <th>mpaa_rating</th>\n",
       "      <th>month</th>\n",
       "    </tr>\n",
       "  </thead>\n",
       "  <tbody>\n",
       "    <tr>\n",
       "      <th>404</th>\n",
       "      <td>tt1287468</td>\n",
       "      <td>Cats &amp; Dogs: The Revenge of Kitty Galore</td>\n",
       "      <td>2010</td>\n",
       "      <td>82.00</td>\n",
       "      <td>['Action', 'Comedy', 'Family']</td>\n",
       "      <td>85,000,000.00</td>\n",
       "      <td>112,483,764.00</td>\n",
       "      <td>PG</td>\n",
       "      <td>7.00</td>\n",
       "    </tr>\n",
       "    <tr>\n",
       "      <th>467</th>\n",
       "      <td>tt1322362</td>\n",
       "      <td>Revenge of the Mekons</td>\n",
       "      <td>2013</td>\n",
       "      <td>95.00</td>\n",
       "      <td>['Documentary']</td>\n",
       "      <td>300,000.00</td>\n",
       "      <td>11,861.00</td>\n",
       "      <td>Unrated</td>\n",
       "      <td>11.00</td>\n",
       "    </tr>\n",
       "    <tr>\n",
       "      <th>584</th>\n",
       "      <td>tt1413496</td>\n",
       "      <td>Revenge of the Electric Car</td>\n",
       "      <td>2011</td>\n",
       "      <td>90.00</td>\n",
       "      <td>['Documentary']</td>\n",
       "      <td>nan</td>\n",
       "      <td>151,272.00</td>\n",
       "      <td>PG-13</td>\n",
       "      <td>4.00</td>\n",
       "    </tr>\n",
       "    <tr>\n",
       "      <th>1015</th>\n",
       "      <td>tt1663202</td>\n",
       "      <td>The Revenant</td>\n",
       "      <td>2015</td>\n",
       "      <td>156.00</td>\n",
       "      <td>['Action', 'Adventure', 'Biography']</td>\n",
       "      <td>135,000,000.00</td>\n",
       "      <td>532,950,503.00</td>\n",
       "      <td>R</td>\n",
       "      <td>1.00</td>\n",
       "    </tr>\n",
       "    <tr>\n",
       "      <th>2526</th>\n",
       "      <td>tt3300078</td>\n",
       "      <td>The Revenant</td>\n",
       "      <td>2012</td>\n",
       "      <td>80.00</td>\n",
       "      <td>['Horror']</td>\n",
       "      <td>2,000.00</td>\n",
       "      <td>532,900,000.00</td>\n",
       "      <td>NaN</td>\n",
       "      <td>2.00</td>\n",
       "    </tr>\n",
       "  </tbody>\n",
       "</table>\n",
       "</div>"
      ],
      "text/plain": [
       "         tconst                            original_title  start_year  \\\n",
       "404   tt1287468  Cats & Dogs: The Revenge of Kitty Galore        2010   \n",
       "467   tt1322362                     Revenge of the Mekons        2013   \n",
       "584   tt1413496               Revenge of the Electric Car        2011   \n",
       "1015  tt1663202                              The Revenant        2015   \n",
       "2526  tt3300078                              The Revenant        2012   \n",
       "\n",
       "      runtime_minutes                                genres          budget  \\\n",
       "404             82.00        ['Action', 'Comedy', 'Family']   85,000,000.00   \n",
       "467             95.00                       ['Documentary']      300,000.00   \n",
       "584             90.00                       ['Documentary']             nan   \n",
       "1015           156.00  ['Action', 'Adventure', 'Biography']  135,000,000.00   \n",
       "2526            80.00                            ['Horror']        2,000.00   \n",
       "\n",
       "            ww_gross mpaa_rating  month  \n",
       "404   112,483,764.00          PG   7.00  \n",
       "467        11,861.00     Unrated  11.00  \n",
       "584       151,272.00       PG-13   4.00  \n",
       "1015  532,950,503.00           R   1.00  \n",
       "2526  532,900,000.00         NaN   2.00  "
      ]
     },
     "execution_count": 129,
     "metadata": {},
     "output_type": "execute_result"
    }
   ],
   "source": [
    "movies[movies['original_title'].str.contains('Reven')]"
   ]
  },
  {
   "cell_type": "code",
   "execution_count": 130,
   "metadata": {
    "scrolled": true
   },
   "outputs": [
    {
     "data": {
      "text/html": [
       "<div>\n",
       "<style scoped>\n",
       "    .dataframe tbody tr th:only-of-type {\n",
       "        vertical-align: middle;\n",
       "    }\n",
       "\n",
       "    .dataframe tbody tr th {\n",
       "        vertical-align: top;\n",
       "    }\n",
       "\n",
       "    .dataframe thead th {\n",
       "        text-align: right;\n",
       "    }\n",
       "</style>\n",
       "<table border=\"1\" class=\"dataframe\">\n",
       "  <thead>\n",
       "    <tr style=\"text-align: right;\">\n",
       "      <th></th>\n",
       "      <th>tconst</th>\n",
       "      <th>original_title</th>\n",
       "      <th>start_year</th>\n",
       "      <th>runtime_minutes</th>\n",
       "      <th>genres</th>\n",
       "      <th>budget</th>\n",
       "      <th>ww_gross</th>\n",
       "      <th>mpaa_rating</th>\n",
       "      <th>month</th>\n",
       "    </tr>\n",
       "  </thead>\n",
       "  <tbody>\n",
       "    <tr>\n",
       "      <th>962</th>\n",
       "      <td>tt1640486</td>\n",
       "      <td>Inside Out</td>\n",
       "      <td>2011</td>\n",
       "      <td>93.00</td>\n",
       "      <td>['Crime', 'Drama']</td>\n",
       "      <td>2,000,000.00</td>\n",
       "      <td>857,600,000.00</td>\n",
       "      <td>PG-13</td>\n",
       "      <td>9.00</td>\n",
       "    </tr>\n",
       "    <tr>\n",
       "      <th>1623</th>\n",
       "      <td>tt2071483</td>\n",
       "      <td>Inside Out</td>\n",
       "      <td>2011</td>\n",
       "      <td>59.00</td>\n",
       "      <td>['Family']</td>\n",
       "      <td>500,000.00</td>\n",
       "      <td>857,600,000.00</td>\n",
       "      <td>NaN</td>\n",
       "      <td>12.00</td>\n",
       "    </tr>\n",
       "    <tr>\n",
       "      <th>1666</th>\n",
       "      <td>tt2096673</td>\n",
       "      <td>Inside Out</td>\n",
       "      <td>2015</td>\n",
       "      <td>95.00</td>\n",
       "      <td>['Adventure', 'Animation', 'Comedy']</td>\n",
       "      <td>175,000,000.00</td>\n",
       "      <td>858,848,019.00</td>\n",
       "      <td>PG</td>\n",
       "      <td>6.00</td>\n",
       "    </tr>\n",
       "  </tbody>\n",
       "</table>\n",
       "</div>"
      ],
      "text/plain": [
       "         tconst original_title  start_year  runtime_minutes  \\\n",
       "962   tt1640486     Inside Out        2011            93.00   \n",
       "1623  tt2071483     Inside Out        2011            59.00   \n",
       "1666  tt2096673     Inside Out        2015            95.00   \n",
       "\n",
       "                                    genres          budget        ww_gross  \\\n",
       "962                     ['Crime', 'Drama']    2,000,000.00  857,600,000.00   \n",
       "1623                            ['Family']      500,000.00  857,600,000.00   \n",
       "1666  ['Adventure', 'Animation', 'Comedy']  175,000,000.00  858,848,019.00   \n",
       "\n",
       "     mpaa_rating  month  \n",
       "962        PG-13   9.00  \n",
       "1623         NaN  12.00  \n",
       "1666          PG   6.00  "
      ]
     },
     "execution_count": 130,
     "metadata": {},
     "output_type": "execute_result"
    }
   ],
   "source": [
    "movies[movies['original_title'].str.contains('Inside Out')]"
   ]
  },
  {
   "cell_type": "markdown",
   "metadata": {},
   "source": [
    "It appears that the high-grossing movies without MPAA ratings are actually duplicates with other data errors. It seems like missing ratings could actually be an indicator that the row could have erroneous data.  We will drop rows without MPAA rating."
   ]
  },
  {
   "cell_type": "code",
   "execution_count": 131,
   "metadata": {},
   "outputs": [
    {
     "data": {
      "text/html": [
       "<div>\n",
       "<style scoped>\n",
       "    .dataframe tbody tr th:only-of-type {\n",
       "        vertical-align: middle;\n",
       "    }\n",
       "\n",
       "    .dataframe tbody tr th {\n",
       "        vertical-align: top;\n",
       "    }\n",
       "\n",
       "    .dataframe thead th {\n",
       "        text-align: right;\n",
       "    }\n",
       "</style>\n",
       "<table border=\"1\" class=\"dataframe\">\n",
       "  <thead>\n",
       "    <tr style=\"text-align: right;\">\n",
       "      <th></th>\n",
       "      <th>tconst</th>\n",
       "      <th>original_title</th>\n",
       "      <th>start_year</th>\n",
       "      <th>runtime_minutes</th>\n",
       "      <th>genres</th>\n",
       "      <th>budget</th>\n",
       "      <th>ww_gross</th>\n",
       "      <th>mpaa_rating</th>\n",
       "      <th>month</th>\n",
       "    </tr>\n",
       "  </thead>\n",
       "  <tbody>\n",
       "    <tr>\n",
       "      <th>3456</th>\n",
       "      <td>tt5734820</td>\n",
       "      <td>Rio</td>\n",
       "      <td>2017</td>\n",
       "      <td>87.00</td>\n",
       "      <td>['Drama']</td>\n",
       "      <td>nan</td>\n",
       "      <td>484,600,000.00</td>\n",
       "      <td>NaN</td>\n",
       "      <td>nan</td>\n",
       "    </tr>\n",
       "    <tr>\n",
       "      <th>2185</th>\n",
       "      <td>tt2614250</td>\n",
       "      <td>Rio</td>\n",
       "      <td>2012</td>\n",
       "      <td>90.00</td>\n",
       "      <td>['Documentary']</td>\n",
       "      <td>250,000.00</td>\n",
       "      <td>484,600,000.00</td>\n",
       "      <td>NaN</td>\n",
       "      <td>nan</td>\n",
       "    </tr>\n",
       "    <tr>\n",
       "      <th>1683</th>\n",
       "      <td>tt2109176</td>\n",
       "      <td>Noah</td>\n",
       "      <td>2011</td>\n",
       "      <td>105.00</td>\n",
       "      <td>['Drama', 'Thriller']</td>\n",
       "      <td>nan</td>\n",
       "      <td>362,599,999.00</td>\n",
       "      <td>NaN</td>\n",
       "      <td>nan</td>\n",
       "    </tr>\n",
       "    <tr>\n",
       "      <th>1793</th>\n",
       "      <td>tt2221640</td>\n",
       "      <td>Now You See Me</td>\n",
       "      <td>2012</td>\n",
       "      <td>98.00</td>\n",
       "      <td>['Drama', 'Horror', 'Thriller']</td>\n",
       "      <td>nan</td>\n",
       "      <td>351,700,000.00</td>\n",
       "      <td>NaN</td>\n",
       "      <td>nan</td>\n",
       "    </tr>\n",
       "    <tr>\n",
       "      <th>3713</th>\n",
       "      <td>tt6598256</td>\n",
       "      <td>No Strings Attached</td>\n",
       "      <td>2017</td>\n",
       "      <td>73.00</td>\n",
       "      <td>['Comedy', 'Drama', 'Romance']</td>\n",
       "      <td>nan</td>\n",
       "      <td>149,300,000.00</td>\n",
       "      <td>NaN</td>\n",
       "      <td>nan</td>\n",
       "    </tr>\n",
       "    <tr>\n",
       "      <th>2022</th>\n",
       "      <td>tt2402731</td>\n",
       "      <td>Unknown</td>\n",
       "      <td>2012</td>\n",
       "      <td>96.00</td>\n",
       "      <td>['Drama']</td>\n",
       "      <td>nan</td>\n",
       "      <td>130,799,999.00</td>\n",
       "      <td>NaN</td>\n",
       "      <td>nan</td>\n",
       "    </tr>\n",
       "    <tr>\n",
       "      <th>1388</th>\n",
       "      <td>tt1901018</td>\n",
       "      <td>The Visit</td>\n",
       "      <td>2010</td>\n",
       "      <td>50.00</td>\n",
       "      <td>['Thriller']</td>\n",
       "      <td>1,000.00</td>\n",
       "      <td>98,400,000.00</td>\n",
       "      <td>NaN</td>\n",
       "      <td>nan</td>\n",
       "    </tr>\n",
       "    <tr>\n",
       "      <th>3326</th>\n",
       "      <td>tt5324464</td>\n",
       "      <td>Nerve</td>\n",
       "      <td>2015</td>\n",
       "      <td>62.00</td>\n",
       "      <td>['Documentary', 'History']</td>\n",
       "      <td>nan</td>\n",
       "      <td>85,300,000.00</td>\n",
       "      <td>NaN</td>\n",
       "      <td>nan</td>\n",
       "    </tr>\n",
       "    <tr>\n",
       "      <th>2056</th>\n",
       "      <td>tt2447982</td>\n",
       "      <td>Abduction</td>\n",
       "      <td>2011</td>\n",
       "      <td>84.00</td>\n",
       "      <td>['Horror', 'Thriller']</td>\n",
       "      <td>nan</td>\n",
       "      <td>82,100,000.00</td>\n",
       "      <td>NaN</td>\n",
       "      <td>nan</td>\n",
       "    </tr>\n",
       "    <tr>\n",
       "      <th>3175</th>\n",
       "      <td>tt4907156</td>\n",
       "      <td>Widows</td>\n",
       "      <td>2015</td>\n",
       "      <td>79.00</td>\n",
       "      <td>['Comedy']</td>\n",
       "      <td>nan</td>\n",
       "      <td>76,000,000.00</td>\n",
       "      <td>NaN</td>\n",
       "      <td>nan</td>\n",
       "    </tr>\n",
       "  </tbody>\n",
       "</table>\n",
       "</div>"
      ],
      "text/plain": [
       "         tconst       original_title  start_year  runtime_minutes  \\\n",
       "3456  tt5734820                  Rio        2017            87.00   \n",
       "2185  tt2614250                  Rio        2012            90.00   \n",
       "1683  tt2109176                 Noah        2011           105.00   \n",
       "1793  tt2221640       Now You See Me        2012            98.00   \n",
       "3713  tt6598256  No Strings Attached        2017            73.00   \n",
       "2022  tt2402731              Unknown        2012            96.00   \n",
       "1388  tt1901018            The Visit        2010            50.00   \n",
       "3326  tt5324464                Nerve        2015            62.00   \n",
       "2056  tt2447982            Abduction        2011            84.00   \n",
       "3175  tt4907156               Widows        2015            79.00   \n",
       "\n",
       "                               genres      budget        ww_gross mpaa_rating  \\\n",
       "3456                        ['Drama']         nan  484,600,000.00         NaN   \n",
       "2185                  ['Documentary']  250,000.00  484,600,000.00         NaN   \n",
       "1683            ['Drama', 'Thriller']         nan  362,599,999.00         NaN   \n",
       "1793  ['Drama', 'Horror', 'Thriller']         nan  351,700,000.00         NaN   \n",
       "3713   ['Comedy', 'Drama', 'Romance']         nan  149,300,000.00         NaN   \n",
       "2022                        ['Drama']         nan  130,799,999.00         NaN   \n",
       "1388                     ['Thriller']    1,000.00   98,400,000.00         NaN   \n",
       "3326       ['Documentary', 'History']         nan   85,300,000.00         NaN   \n",
       "2056           ['Horror', 'Thriller']         nan   82,100,000.00         NaN   \n",
       "3175                       ['Comedy']         nan   76,000,000.00         NaN   \n",
       "\n",
       "      month  \n",
       "3456    nan  \n",
       "2185    nan  \n",
       "1683    nan  \n",
       "1793    nan  \n",
       "3713    nan  \n",
       "2022    nan  \n",
       "1388    nan  \n",
       "3326    nan  \n",
       "2056    nan  \n",
       "3175    nan  "
      ]
     },
     "execution_count": 131,
     "metadata": {},
     "output_type": "execute_result"
    }
   ],
   "source": [
    "movies[movies['month'].isnull()].sort_values('ww_gross',\n",
    "                                             ascending=False).head(10)"
   ]
  },
  {
   "cell_type": "markdown",
   "metadata": {},
   "source": [
    "Missing months also seem to indicate multiple missing values and correspond with the movies missing ratings.  We'll drop all the rows missing any of these three values."
   ]
  },
  {
   "cell_type": "code",
   "execution_count": 132,
   "metadata": {
    "scrolled": true
   },
   "outputs": [
    {
     "name": "stdout",
     "output_type": "stream",
     "text": [
      "<class 'pandas.core.frame.DataFrame'>\n",
      "Int64Index: 3696 entries, 0 to 4063\n",
      "Data columns (total 9 columns):\n",
      " #   Column           Non-Null Count  Dtype  \n",
      "---  ------           --------------  -----  \n",
      " 0   tconst           3696 non-null   object \n",
      " 1   original_title   3696 non-null   object \n",
      " 2   start_year       3696 non-null   int64  \n",
      " 3   runtime_minutes  3696 non-null   float64\n",
      " 4   genres           3696 non-null   object \n",
      " 5   budget           1945 non-null   float64\n",
      " 6   ww_gross         3696 non-null   float64\n",
      " 7   mpaa_rating      3696 non-null   object \n",
      " 8   month            3696 non-null   float64\n",
      "dtypes: float64(4), int64(1), object(4)\n",
      "memory usage: 288.8+ KB\n"
     ]
    }
   ],
   "source": [
    "movies=movies[movies['mpaa_rating'].notnull()]\n",
    "movies=movies[movies['month'].notnull()]\n",
    "movies.info()"
   ]
  },
  {
   "cell_type": "code",
   "execution_count": 133,
   "metadata": {},
   "outputs": [],
   "source": [
    "#movies.to_csv('30SEP_movies_cleaned.csv',index=False)"
   ]
  },
  {
   "cell_type": "markdown",
   "metadata": {},
   "source": [
    "# Data Analysis\n",
    "\n",
    "***\n",
    "Initially, I examined how worldwide gross related to all the variables, but did not feel like that told the whole story of which movies were most successful, since a company cares about total return on their investment. Next, I tried looking at ROI but I realized that budgets range so much across different films that smaller budget films with huge ROIs were throwing off the results. Even if a film had a relatively small worldwide gross, its ROI could be immense if the budget was extremely small. A company like Microsoft would not be interested in these films that did not gross a large amount since there is so much overhead in operating a studio. Finally, I decided to remove rows without budget data and just focus on profit, since this would be the most valuable variable to analyze for Microsoft's purposes. \n",
    "***\n",
    "\n",
    "    1. First we will look at budget vs. profit to see in what way they are correlated.\n",
    "\n",
    "    2. Then, we will examine which genres have the highest mean/median profits. We'll examine the distribution of profit among the top genres to see how many observations there are and in what way they are distributed.\n",
    "\n",
    "    3. Third, we'll look at MPAA rating and Profit and delve into how MPAA rating is related to profit for individual genres.\n",
    "\n",
    "    4. Next, we'll examine how profit varies by release month for the overall dataset and by genre.\n",
    "\n",
    "    5. Last, we'll try to see if there is any value in looking at genre, rating, and release month together be finding median profit for each grouping of the three variables and by running a linear regression with statsmodels."
   ]
  },
  {
   "cell_type": "markdown",
   "metadata": {},
   "source": [
    "## Profit ##\n"
   ]
  },
  {
   "cell_type": "code",
   "execution_count": 134,
   "metadata": {
    "scrolled": true
   },
   "outputs": [
    {
     "name": "stdout",
     "output_type": "stream",
     "text": [
      "<class 'pandas.core.frame.DataFrame'>\n",
      "Int64Index: 1945 entries, 0 to 4053\n",
      "Data columns (total 9 columns):\n",
      " #   Column           Non-Null Count  Dtype  \n",
      "---  ------           --------------  -----  \n",
      " 0   tconst           1945 non-null   object \n",
      " 1   original_title   1945 non-null   object \n",
      " 2   start_year       1945 non-null   int64  \n",
      " 3   runtime_minutes  1945 non-null   float64\n",
      " 4   genres           1945 non-null   object \n",
      " 5   budget           1945 non-null   float64\n",
      " 6   ww_gross         1945 non-null   float64\n",
      " 7   mpaa_rating      1945 non-null   object \n",
      " 8   month            1945 non-null   float64\n",
      "dtypes: float64(4), int64(1), object(4)\n",
      "memory usage: 152.0+ KB\n"
     ]
    }
   ],
   "source": [
    "#pull out movies with non-null budget\n",
    "prof_df=movies.copy()\n",
    "prof_df=prof_df[prof_df['budget'].notnull()]\n",
    "prof_df.info()"
   ]
  },
  {
   "cell_type": "code",
   "execution_count": 135,
   "metadata": {},
   "outputs": [
    {
     "data": {
      "image/png": "[encoded data removed]",
      "text/plain": [
       "<Figure size 1080x288 with 1 Axes>"
      ]
     },
     "metadata": {
      "needs_background": "light"
     },
     "output_type": "display_data"
    }
   ],
   "source": [
    "#Examine distribution of budgets using histogram\n",
    "plt.figure(figsize=(15,4))\n",
    "sns.set_style('whitegrid')\n",
    "b=sns.histplot(data=prof_df,x='budget')\n",
    "ticks=b.get_xticks().tolist()\n",
    "b.xaxis.set_ticks(ticks[1:])\n",
    "xlabels=['$'+'{:,.0f}'.format(x) for x in ticks[1:]]\n",
    "b.set_xticklabels(xlabels);"
   ]
  },
  {
   "cell_type": "markdown",
   "metadata": {},
   "source": [
    "Budgets are right skewed with the mode less than $10 million. Large studios under companies like Microsoft tend to make larger budget films, so there appears to be a large number of smaller budget independent films in the dataset."
   ]
  },
  {
   "cell_type": "code",
   "execution_count": 136,
   "metadata": {},
   "outputs": [
    {
     "name": "stdout",
     "output_type": "stream",
     "text": [
      "count            1,945.00\n",
      "mean        74,510,158.96\n",
      "std        183,761,204.79\n",
      "min       -197,367,417.00\n",
      "25%         -2,078,248.00\n",
      "50%          4,042,068.00\n",
      "75%         69,594,140.00\n",
      "max      2,441,501,328.00\n",
      "Name: profit, dtype: float64\n"
     ]
    }
   ],
   "source": [
    "#Make a profit column (ww_gross - budget)\n",
    "prof_df['profit']=prof_df['ww_gross']-prof_df['budget']\n",
    "print(prof_df['profit'].describe())"
   ]
  },
  {
   "cell_type": "code",
   "execution_count": 137,
   "metadata": {},
   "outputs": [
    {
     "data": {
      "image/png": "[encoded data removed]",
      "text/plain": [
       "<Figure size 1080x288 with 1 Axes>"
      ]
     },
     "metadata": {},
     "output_type": "display_data"
    }
   ],
   "source": [
    "#Show distribution of profit with histogram\n",
    "plt.figure(figsize=(15,4))\n",
    "sns.set_style('whitegrid')\n",
    "b=sns.histplot(data=prof_df,x='profit')\n",
    "ticks=b.get_xticks().tolist()\n",
    "b.xaxis.set_ticks(ticks[1:-3])\n",
    "xlabels=['$'+'{:,.0f}'.format(x) for x in ticks[1:-3]]\n",
    "b.set_xticklabels(xlabels)\n",
    "b.set_xlim(-250000000,1500000000);"
   ]
  },
  {
   "cell_type": "markdown",
   "metadata": {},
   "source": [
    "Profit is also right skewed with the majority of movies falling below 250 million USD. There are a few outliers above 1.5 billion USD but the axis was limited to see the majority of movies more clearly."
   ]
  },
  {
   "cell_type": "markdown",
   "metadata": {},
   "source": [
    "## Is Budget Correlated with Profit? ##\n",
    "Examine if there is a correlation between a movie's budget and its overall profit. Examine for low and high budget films."
   ]
  },
  {
   "cell_type": "code",
   "execution_count": 138,
   "metadata": {},
   "outputs": [
    {
     "data": {
      "image/png": "[encoded data removed]",
      "text/plain": [
       "<Figure size 864x288 with 1 Axes>"
      ]
     },
     "metadata": {},
     "output_type": "display_data"
    }
   ],
   "source": [
    "plt.figure(figsize=(12,4))\n",
    "pb=sns.regplot(data=prof_df,x='budget',y='profit')\n",
    "ticks=pb.get_xticks().tolist()\n",
    "pb.xaxis.set_ticks(ticks)\n",
    "xlabels=['$'+'{:,.0f}'.format(x) for x in ticks]\n",
    "pb.set_xticklabels(xlabels);"
   ]
  },
  {
   "cell_type": "markdown",
   "metadata": {},
   "source": [
    "Profit and budget are positively correlated, although it is clear that not all high budget films make a large profit. Since Microsoft is a large company that will have the capital to invest in high budget films that will have a better chance of making a large profit, we will make a column in prof_df that identifies 'high-budget' films so that these can be analyzed separately."
   ]
  },
  {
   "cell_type": "code",
   "execution_count": 139,
   "metadata": {},
   "outputs": [
    {
     "data": {
      "text/plain": [
       "count          1,945.00\n",
       "mean      33,378,318.68\n",
       "std       49,766,651.08\n",
       "min                0.00\n",
       "25%        3,000,000.00\n",
       "50%       13,000,000.00\n",
       "75%       40,000,000.00\n",
       "max      356,000,000.00\n",
       "Name: budget, dtype: float64"
      ]
     },
     "execution_count": 139,
     "metadata": {},
     "output_type": "execute_result"
    }
   ],
   "source": [
    "#Examine what to call high budget\n",
    "prof_df['budget'].describe()"
   ]
  },
  {
   "cell_type": "markdown",
   "metadata": {},
   "source": [
    "If all films with budgets over 40 million are marked 'high-budget' this will include the most expensive 1/4 of movies.  We will use this as the threshold."
   ]
  },
  {
   "cell_type": "code",
   "execution_count": 140,
   "metadata": {},
   "outputs": [
    {
     "data": {
      "text/plain": [
       "438"
      ]
     },
     "execution_count": 140,
     "metadata": {},
     "output_type": "execute_result"
    }
   ],
   "source": [
    "#create column to identify high budget films, budgets greater than 40,000,000\n",
    "#top 1/4 of all budgets \n",
    "\n",
    "prof_df['high_budg']=prof_df['budget'].apply(lambda x: \n",
    "                                             True if x>40000000 else False)\n",
    "prof_df['high_budg'].sum()"
   ]
  },
  {
   "cell_type": "code",
   "execution_count": 141,
   "metadata": {},
   "outputs": [
    {
     "data": {
      "text/plain": [
       "<Figure size 576x288 with 0 Axes>"
      ]
     },
     "metadata": {},
     "output_type": "display_data"
    },
    {
     "data": {
      "image/png": "[encoded data removed]",
      "text/plain": [
       "<Figure size 420.625x360 with 1 Axes>"
      ]
     },
     "metadata": {},
     "output_type": "display_data"
    }
   ],
   "source": [
    "#show relplot of budget and profit with distinction of high vs low budget\n",
    "plt.figure(figsize=(8,4))\n",
    "sns.lmplot(data=prof_df,x='budget',y='profit',hue='high_budg');"
   ]
  },
  {
   "cell_type": "code",
   "execution_count": 142,
   "metadata": {},
   "outputs": [],
   "source": [
    "#Separate high and low budget films\n",
    "high_df=prof_df.query(\"high_budg==True\")\n",
    "low_df=prof_df.query(\"high_budg==False\")"
   ]
  },
  {
   "cell_type": "code",
   "execution_count": 143,
   "metadata": {},
   "outputs": [
    {
     "data": {
      "image/png": "[encoded data removed]",
      "text/plain": [
       "<Figure size 864x360 with 2 Axes>"
      ]
     },
     "metadata": {},
     "output_type": "display_data"
    }
   ],
   "source": [
    "#Plot low budget and high budget separately to see in more detail\n",
    "fig, ax = plt.subplots(1,2,figsize=(12,5))\n",
    "sns.scatterplot(data=high_df,x='budget',y='profit',ax=ax[0])\n",
    "ax[0].set_title('High Budget Films')\n",
    "sns.scatterplot(data=low_df,x='budget',y='profit',ax=ax[1])\n",
    "ax[1].set_title('Low Budget Films');\n",
    "\n"
   ]
  },
  {
   "cell_type": "code",
   "execution_count": 144,
   "metadata": {},
   "outputs": [
    {
     "name": "stdout",
     "output_type": "stream",
     "text": [
      "high budget/profit correlation:v 0.5766409472402435\n",
      "low budget/profit correlation: 0.3181716986049638\n"
     ]
    }
   ],
   "source": [
    "#compute correlations between budget and profit\n",
    "high_corr=high_df['budget'].corr(high_df['profit'])\n",
    "low_corr=low_df['budget'].corr(low_df['profit'])\n",
    "print('high budget/profit correlation:v '+str(high_corr))\n",
    "print('low budget/profit correlation: '+str(low_corr))"
   ]
  },
  {
   "cell_type": "code",
   "execution_count": 145,
   "metadata": {},
   "outputs": [],
   "source": [
    "import statsmodels.api as sm"
   ]
  },
  {
   "cell_type": "code",
   "execution_count": 146,
   "metadata": {},
   "outputs": [
    {
     "name": "stdout",
     "output_type": "stream",
     "text": [
      "                        Results: Ordinary least squares\n",
      "================================================================================\n",
      "Model:                   OLS                  Adj. R-squared:         0.331     \n",
      "Dependent Variable:      y                    AIC:                    18195.3733\n",
      "Date:                    2021-10-13 19:48     BIC:                    18203.5377\n",
      "No. Observations:        438                  Log-Likelihood:         -9095.7   \n",
      "Df Model:                1                    F-statistic:            217.2     \n",
      "Df Residuals:            436                  Prob (F-statistic):     3.53e-40  \n",
      "R-squared:               0.333                Scale:                  6.4119e+16\n",
      "--------------------------------------------------------------------------------\n",
      "          Coef.         Std.Err.      t    P>|t|       [0.025         0.975]    \n",
      "--------------------------------------------------------------------------------\n",
      "const -83333642.0258 25941423.2496 -3.2124 0.0014 -134319430.2758 -32347853.7758\n",
      "x1            3.1208        0.2118 14.7376 0.0000          2.7046         3.5370\n",
      "--------------------------------------------------------------------------------\n",
      "Omnibus:                 140.621           Durbin-Watson:              1.663    \n",
      "Prob(Omnibus):           0.000             Jarque-Bera (JB):           574.443  \n",
      "Skew:                    1.378             Prob(JB):                   0.000    \n",
      "Kurtosis:                7.887             Condition No.:              262662114\n",
      "================================================================================\n",
      "* The condition number is large (3e+08). This might indicate             strong\n",
      "multicollinearity or other numerical problems.\n"
     ]
    }
   ],
   "source": [
    "#high budget linear regression\n",
    "x=high_df['budget'].to_list()\n",
    "x=sm.add_constant(x)\n",
    "y=high_df['profit'].to_list()\n",
    "results=sm.OLS(y,x).fit()\n",
    "print(results.summary2())"
   ]
  },
  {
   "cell_type": "code",
   "execution_count": 147,
   "metadata": {},
   "outputs": [
    {
     "name": "stdout",
     "output_type": "stream",
     "text": [
      "                    Results: Ordinary least squares\n",
      "========================================================================\n",
      "Model:                 OLS               Adj. R-squared:      0.101     \n",
      "Dependent Variable:    y                 AIC:                 58086.8737\n",
      "Date:                  2021-10-13 19:48  BIC:                 58097.5095\n",
      "No. Observations:      1507              Log-Likelihood:      -29041.   \n",
      "Df Model:              1                 F-statistic:         169.5     \n",
      "Df Residuals:          1505              Prob (F-statistic):  8.46e-37  \n",
      "R-squared:             0.101             Scale:               3.2115e+15\n",
      "------------------------------------------------------------------------\n",
      "         Coef.       Std.Err.      t    P>|t|     [0.025       0.975]   \n",
      "------------------------------------------------------------------------\n",
      "const 3265661.3233 2054880.8248  1.5892 0.1122 -765072.6743 7296395.3209\n",
      "x1          1.6255       0.1248 13.0199 0.0000       1.3806       1.8704\n",
      "------------------------------------------------------------------------\n",
      "Omnibus:               1643.862       Durbin-Watson:          1.973     \n",
      "Prob(Omnibus):         0.000          Jarque-Bera (JB):       169301.676\n",
      "Skew:                  5.249          Prob(JB):               0.000     \n",
      "Kurtosis:              53.853         Condition No.:          23168314  \n",
      "========================================================================\n",
      "* The condition number is large (2e+07). This might indicate\n",
      "strong multicollinearity or other numerical problems.\n"
     ]
    }
   ],
   "source": [
    "#low budget linear regression\n",
    "x=low_df['budget'].to_list()\n",
    "x=sm.add_constant(x)\n",
    "y=low_df['profit'].to_list()\n",
    "results=sm.OLS(y,x).fit()\n",
    "print(results.summary2())"
   ]
  },
  {
   "cell_type": "code",
   "execution_count": 148,
   "metadata": {},
   "outputs": [
    {
     "data": {
      "image/png": "[encoded data removed]",
      "text/plain": [
       "<Figure size 1584x576 with 2 Axes>"
      ]
     },
     "metadata": {},
     "output_type": "display_data"
    }
   ],
   "source": [
    "#plot scatterplots with correlation line\n",
    "fig, ax = plt.subplots(1,2,figsize=(22,8))\n",
    "sns.scatterplot(data=high_df,x='budget',y='profit',ax=ax[0])\n",
    "#create points for correlation line\n",
    "x=[0,350000000]\n",
    "y=[-83330000,((350000000)*3.1208-83330000)]\n",
    "sns.lineplot(x=x,y=y,ax=ax[0],color='red')\n",
    "\n",
    "#format x axis into millions of dolalrs\n",
    "ticks=ax[0].get_xticks().tolist()\n",
    "ax[0].xaxis.set_ticks(ticks)\n",
    "xlabels=['$'+'{:.0f}'.format(x)[:-6] for x in ticks]\n",
    "ax[0].set_xticklabels(xlabels,size=15)\n",
    "ax[0].set_xlim(0,370000000)\n",
    "ax[0].set_xlabel('budget',size=18)\n",
    "\n",
    "#format numbers on y axis into millions of dollars\n",
    "ticks=ax[0].get_yticks().tolist()\n",
    "ax[0].yaxis.set_ticks(ticks[1:])\n",
    "ylabels=['$'+'{:.0f}'.format(y)[:-6] for y in ticks[1:]]\n",
    "ax[0].set_yticklabels(ylabels,size=15)\n",
    "ax[0].set_ylim(-250000000,2500000000)\n",
    "ax[0].set_title('High Budget Films (millions of USD)',fontsize=20,\n",
    "               fontweight='bold')\n",
    "ax[0].set_ylabel('profit',size=18)\n",
    "\n",
    "sns.scatterplot(data=low_df,x='budget',y='profit',ax=ax[1])\n",
    "x1=[0,40000000]\n",
    "y1=[3266000,(40000000*1.6255)+3266000]\n",
    "sns.lineplot(x=x1,y=y1,ax=ax[1],color='red')\n",
    "ax[1].set_title('Low Budget Films (millions of USD)',fontsize=20,\n",
    "               fontweight='bold')\n",
    "\n",
    "#format x axis into millions of dolalrs\n",
    "ticks=ax[1].get_xticks().tolist()\n",
    "ax[1].xaxis.set_ticks(ticks)\n",
    "xlabels=['$'+'{:.0f}'.format(x)[:-6] for x in ticks]\n",
    "ax[1].set_xticklabels(xlabels,size=15)\n",
    "ax[1].set_xlim(0,40000000)\n",
    "ax[1].set_xlabel('budget',size=18)\n",
    "\n",
    "#format numbers on y axis into millions of dollars\n",
    "ticks=ax[1].get_yticks().tolist()\n",
    "ax[1].yaxis.set_ticks(ticks[1:])\n",
    "ylabels=['$'+'{:.0f}'.format(y)[:-6] for y in ticks[1:]]\n",
    "ax[1].set_yticklabels(ylabels,size=15)\n",
    "ax[1].set_ylim(-100000000,900000000)\n",
    "ax[1].set_ylabel('profit',size=18)\n",
    "\n",
    "plt.savefig('images/high_low_profit.png',facecolor='w')"
   ]
  },
  {
   "cell_type": "markdown",
   "metadata": {},
   "source": [
    "High budget films (over $40 million) are more positively correlated with higher profits than movies with low budgets (coefficient of 3.12 vs. 1.62). The R-Squared value of this correlation is ~.33, which means it is not an incredibly strong fit. While there is a greater opportunity to make higher profit with a higher budget, it is not guaranteed.  We'll examine which genres tend to make higher profits so that we can refine our recommendations to Microsoft."
   ]
  },
  {
   "cell_type": "markdown",
   "metadata": {},
   "source": [
    "## Which genres perform best? ##\n",
    "\n",
    "Examine which genres tend to make the most profit among high budget films."
   ]
  },
  {
   "cell_type": "markdown",
   "metadata": {},
   "source": [
    "### Profit across all genres ###"
   ]
  },
  {
   "cell_type": "code",
   "execution_count": 149,
   "metadata": {},
   "outputs": [],
   "source": [
    "high=high_df.copy()\n",
    "high['genres']=high['genres'].str.strip('[]').str.split(',')\n",
    "high['genres']=high['genres'].apply(lambda x: [s.strip() for s in x])"
   ]
  },
  {
   "cell_type": "code",
   "execution_count": 150,
   "metadata": {},
   "outputs": [
    {
     "data": {
      "text/html": [
       "<div>\n",
       "<style scoped>\n",
       "    .dataframe tbody tr th:only-of-type {\n",
       "        vertical-align: middle;\n",
       "    }\n",
       "\n",
       "    .dataframe tbody tr th {\n",
       "        vertical-align: top;\n",
       "    }\n",
       "\n",
       "    .dataframe thead th {\n",
       "        text-align: right;\n",
       "    }\n",
       "</style>\n",
       "<table border=\"1\" class=\"dataframe\">\n",
       "  <thead>\n",
       "    <tr style=\"text-align: right;\">\n",
       "      <th></th>\n",
       "      <th>tconst</th>\n",
       "      <th>original_title</th>\n",
       "      <th>start_year</th>\n",
       "      <th>runtime_minutes</th>\n",
       "      <th>genres</th>\n",
       "      <th>budget</th>\n",
       "      <th>ww_gross</th>\n",
       "      <th>mpaa_rating</th>\n",
       "      <th>month</th>\n",
       "      <th>profit</th>\n",
       "      <th>high_budg</th>\n",
       "    </tr>\n",
       "  </thead>\n",
       "  <tbody>\n",
       "    <tr>\n",
       "      <th>0</th>\n",
       "      <td>tt0249516</td>\n",
       "      <td>Foodfight!</td>\n",
       "      <td>2012</td>\n",
       "      <td>91.00</td>\n",
       "      <td>Action</td>\n",
       "      <td>65,000,000.00</td>\n",
       "      <td>120,141.00</td>\n",
       "      <td>PG</td>\n",
       "      <td>2.00</td>\n",
       "      <td>-64,879,859.00</td>\n",
       "      <td>True</td>\n",
       "    </tr>\n",
       "    <tr>\n",
       "      <th>0</th>\n",
       "      <td>tt0249516</td>\n",
       "      <td>Foodfight!</td>\n",
       "      <td>2012</td>\n",
       "      <td>91.00</td>\n",
       "      <td>Animation</td>\n",
       "      <td>65,000,000.00</td>\n",
       "      <td>120,141.00</td>\n",
       "      <td>PG</td>\n",
       "      <td>2.00</td>\n",
       "      <td>-64,879,859.00</td>\n",
       "      <td>True</td>\n",
       "    </tr>\n",
       "    <tr>\n",
       "      <th>0</th>\n",
       "      <td>tt0249516</td>\n",
       "      <td>Foodfight!</td>\n",
       "      <td>2012</td>\n",
       "      <td>91.00</td>\n",
       "      <td>Comedy</td>\n",
       "      <td>65,000,000.00</td>\n",
       "      <td>120,141.00</td>\n",
       "      <td>PG</td>\n",
       "      <td>2.00</td>\n",
       "      <td>-64,879,859.00</td>\n",
       "      <td>True</td>\n",
       "    </tr>\n",
       "    <tr>\n",
       "      <th>3</th>\n",
       "      <td>tt0359950</td>\n",
       "      <td>The Secret Life of Walter Mitty</td>\n",
       "      <td>2013</td>\n",
       "      <td>114.00</td>\n",
       "      <td>Adventure</td>\n",
       "      <td>90,000,000.00</td>\n",
       "      <td>188,133,322.00</td>\n",
       "      <td>PG</td>\n",
       "      <td>12.00</td>\n",
       "      <td>98,133,322.00</td>\n",
       "      <td>True</td>\n",
       "    </tr>\n",
       "    <tr>\n",
       "      <th>3</th>\n",
       "      <td>tt0359950</td>\n",
       "      <td>The Secret Life of Walter Mitty</td>\n",
       "      <td>2013</td>\n",
       "      <td>114.00</td>\n",
       "      <td>Comedy</td>\n",
       "      <td>90,000,000.00</td>\n",
       "      <td>188,133,322.00</td>\n",
       "      <td>PG</td>\n",
       "      <td>12.00</td>\n",
       "      <td>98,133,322.00</td>\n",
       "      <td>True</td>\n",
       "    </tr>\n",
       "  </tbody>\n",
       "</table>\n",
       "</div>"
      ],
      "text/plain": [
       "      tconst                   original_title  start_year  runtime_minutes  \\\n",
       "0  tt0249516                       Foodfight!        2012            91.00   \n",
       "0  tt0249516                       Foodfight!        2012            91.00   \n",
       "0  tt0249516                       Foodfight!        2012            91.00   \n",
       "3  tt0359950  The Secret Life of Walter Mitty        2013           114.00   \n",
       "3  tt0359950  The Secret Life of Walter Mitty        2013           114.00   \n",
       "\n",
       "      genres         budget        ww_gross mpaa_rating  month         profit  \\\n",
       "0     Action  65,000,000.00      120,141.00          PG   2.00 -64,879,859.00   \n",
       "0  Animation  65,000,000.00      120,141.00          PG   2.00 -64,879,859.00   \n",
       "0     Comedy  65,000,000.00      120,141.00          PG   2.00 -64,879,859.00   \n",
       "3  Adventure  90,000,000.00  188,133,322.00          PG  12.00  98,133,322.00   \n",
       "3     Comedy  90,000,000.00  188,133,322.00          PG  12.00  98,133,322.00   \n",
       "\n",
       "   high_budg  \n",
       "0       True  \n",
       "0       True  \n",
       "0       True  \n",
       "3       True  \n",
       "3       True  "
      ]
     },
     "execution_count": 150,
     "metadata": {},
     "output_type": "execute_result"
    }
   ],
   "source": [
    "high['genres']=high['genres'].apply(lambda x: [s.strip(\"''\") for s in x])\n",
    "high_exp=high.explode('genres')\n",
    "high_exp.head()"
   ]
  },
  {
   "cell_type": "code",
   "execution_count": 151,
   "metadata": {},
   "outputs": [
    {
     "data": {
      "text/plain": [
       "Adventure    251\n",
       "Action       247\n",
       "Comedy       167\n",
       "Drama        101\n",
       "Animation     84\n",
       "Fantasy       77\n",
       "Sci-Fi        73\n",
       "Thriller      52\n",
       "Crime         51\n",
       "Family        37\n",
       "Mystery       22\n",
       "Romance       21\n",
       "Biography     18\n",
       "Horror        15\n",
       "History        9\n",
       "Sport          4\n",
       "Western        4\n",
       "Musical        4\n",
       "Music          3\n",
       "War            3\n",
       "Name: genres, dtype: int64"
      ]
     },
     "execution_count": 151,
     "metadata": {},
     "output_type": "execute_result"
    }
   ],
   "source": [
    "high_exp['genres'].value_counts()"
   ]
  },
  {
   "cell_type": "code",
   "execution_count": 152,
   "metadata": {},
   "outputs": [],
   "source": [
    "#groupby genres and calculate mean profit, then sort to get descending order\n",
    "g_mean_prof=high_exp.groupby('genres'\n",
    "                        ).mean()['profit'].sort_values(ascending=False)\n",
    "g_mean_order=g_mean_prof.index"
   ]
  },
  {
   "cell_type": "code",
   "execution_count": 153,
   "metadata": {},
   "outputs": [
    {
     "data": {
      "image/png": "[encoded data removed]",
      "text/plain": [
       "<Figure size 576x864 with 1 Axes>"
      ]
     },
     "metadata": {},
     "output_type": "display_data"
    }
   ],
   "source": [
    "#plot the mean profit for each genre\n",
    "plt.figure(figsize=(8,12))\n",
    "gm=sns.barplot(data=high_exp,x='profit',y='genres',ci=68,order=g_mean_order)\n",
    "#format x axis into millions of dolalrs\n",
    "ticks=gm.get_xticks().tolist()\n",
    "gm.xaxis.set_ticks(ticks)\n",
    "xlabels=['$'+'{:.0f}'.format(x)[:-6] for x in ticks]\n",
    "gm.set_xticklabels(xlabels)\n",
    "gm.set_xlim(0,700000000)\n",
    "gm.set_title('High Budget Film Mean Profit by Genre (millions of USD)',fontsize=20,\n",
    "            fontweight='bold');"
   ]
  },
  {
   "cell_type": "code",
   "execution_count": 154,
   "metadata": {},
   "outputs": [],
   "source": [
    "#groupby genres and calculate mean profit, then sort to get descending order\n",
    "g_med_prof=high_exp.groupby('genres'\n",
    "                        ).median()['profit'].sort_values(ascending=False)\n",
    "g_med_order=g_med_prof.index"
   ]
  },
  {
   "cell_type": "code",
   "execution_count": 155,
   "metadata": {},
   "outputs": [
    {
     "data": {
      "image/png": "[encoded data removed]",
      "text/plain": [
       "<Figure size 576x864 with 1 Axes>"
      ]
     },
     "metadata": {},
     "output_type": "display_data"
    }
   ],
   "source": [
    "#plot the mean profit for each genre\n",
    "plt.figure(figsize=(8,12))\n",
    "gm=sns.barplot(data=high_exp,x='profit',y='genres',ci=68,estimator=np.median,\n",
    "               order=g_med_order)\n",
    "#format x axis into millions of dolalrs\n",
    "ticks=gm.get_xticks().tolist()\n",
    "gm.xaxis.set_ticks(ticks)\n",
    "xlabels=['$'+'{:.0f}'.format(x)[:-6] for x in ticks]\n",
    "gm.set_xticklabels(xlabels)\n",
    "#gm.set_xlim(0,700000000)\n",
    "gm.set_title('High Budget Film Median Profit by Genre (millions of USD)',fontsize=20,\n",
    "            fontweight='bold')\n",
    "\n",
    "plt.savefig('images/high_med_prof_genre.png',facecolor='w')"
   ]
  },
  {
   "cell_type": "markdown",
   "metadata": {},
   "source": [
    "The same five genres have both the five highest means and medians. Movies that can be classified as Animation, Sci-Fi, Adventure, Action, and Musical tend to have the highest profit.  Of note, the confidence interval for Musicals is very large, so that may be a riskier recommendation.  We'll examine the distributions of these five genres in more detail and look at which ratings and release months tend to work best with each genre."
   ]
  },
  {
   "cell_type": "markdown",
   "metadata": {},
   "source": [
    "### Top Four Genres by Profit ###"
   ]
  },
  {
   "cell_type": "code",
   "execution_count": 156,
   "metadata": {},
   "outputs": [
    {
     "data": {
      "text/html": [
       "<div>\n",
       "<style scoped>\n",
       "    .dataframe tbody tr th:only-of-type {\n",
       "        vertical-align: middle;\n",
       "    }\n",
       "\n",
       "    .dataframe tbody tr th {\n",
       "        vertical-align: top;\n",
       "    }\n",
       "\n",
       "    .dataframe thead th {\n",
       "        text-align: right;\n",
       "    }\n",
       "</style>\n",
       "<table border=\"1\" class=\"dataframe\">\n",
       "  <thead>\n",
       "    <tr style=\"text-align: right;\">\n",
       "      <th></th>\n",
       "      <th>tconst</th>\n",
       "      <th>original_title</th>\n",
       "      <th>start_year</th>\n",
       "      <th>runtime_minutes</th>\n",
       "      <th>genres</th>\n",
       "      <th>budget</th>\n",
       "      <th>ww_gross</th>\n",
       "      <th>mpaa_rating</th>\n",
       "      <th>month</th>\n",
       "      <th>profit</th>\n",
       "      <th>high_budg</th>\n",
       "    </tr>\n",
       "  </thead>\n",
       "  <tbody>\n",
       "    <tr>\n",
       "      <th>0</th>\n",
       "      <td>tt0249516</td>\n",
       "      <td>Foodfight!</td>\n",
       "      <td>2012</td>\n",
       "      <td>91.00</td>\n",
       "      <td>Action</td>\n",
       "      <td>65,000,000.00</td>\n",
       "      <td>120,141.00</td>\n",
       "      <td>PG</td>\n",
       "      <td>2.00</td>\n",
       "      <td>-64,879,859.00</td>\n",
       "      <td>True</td>\n",
       "    </tr>\n",
       "    <tr>\n",
       "      <th>0</th>\n",
       "      <td>tt0249516</td>\n",
       "      <td>Foodfight!</td>\n",
       "      <td>2012</td>\n",
       "      <td>91.00</td>\n",
       "      <td>Animation</td>\n",
       "      <td>65,000,000.00</td>\n",
       "      <td>120,141.00</td>\n",
       "      <td>PG</td>\n",
       "      <td>2.00</td>\n",
       "      <td>-64,879,859.00</td>\n",
       "      <td>True</td>\n",
       "    </tr>\n",
       "    <tr>\n",
       "      <th>3</th>\n",
       "      <td>tt0359950</td>\n",
       "      <td>The Secret Life of Walter Mitty</td>\n",
       "      <td>2013</td>\n",
       "      <td>114.00</td>\n",
       "      <td>Adventure</td>\n",
       "      <td>90,000,000.00</td>\n",
       "      <td>188,133,322.00</td>\n",
       "      <td>PG</td>\n",
       "      <td>12.00</td>\n",
       "      <td>98,133,322.00</td>\n",
       "      <td>True</td>\n",
       "    </tr>\n",
       "    <tr>\n",
       "      <th>5</th>\n",
       "      <td>tt0369610</td>\n",
       "      <td>Jurassic World</td>\n",
       "      <td>2015</td>\n",
       "      <td>124.00</td>\n",
       "      <td>Action</td>\n",
       "      <td>150,000,000.00</td>\n",
       "      <td>1,670,516,444.00</td>\n",
       "      <td>PG-13</td>\n",
       "      <td>6.00</td>\n",
       "      <td>1,520,516,444.00</td>\n",
       "      <td>True</td>\n",
       "    </tr>\n",
       "    <tr>\n",
       "      <th>5</th>\n",
       "      <td>tt0369610</td>\n",
       "      <td>Jurassic World</td>\n",
       "      <td>2015</td>\n",
       "      <td>124.00</td>\n",
       "      <td>Adventure</td>\n",
       "      <td>150,000,000.00</td>\n",
       "      <td>1,670,516,444.00</td>\n",
       "      <td>PG-13</td>\n",
       "      <td>6.00</td>\n",
       "      <td>1,520,516,444.00</td>\n",
       "      <td>True</td>\n",
       "    </tr>\n",
       "  </tbody>\n",
       "</table>\n",
       "</div>"
      ],
      "text/plain": [
       "      tconst                   original_title  start_year  runtime_minutes  \\\n",
       "0  tt0249516                       Foodfight!        2012            91.00   \n",
       "0  tt0249516                       Foodfight!        2012            91.00   \n",
       "3  tt0359950  The Secret Life of Walter Mitty        2013           114.00   \n",
       "5  tt0369610                   Jurassic World        2015           124.00   \n",
       "5  tt0369610                   Jurassic World        2015           124.00   \n",
       "\n",
       "      genres          budget          ww_gross mpaa_rating  month  \\\n",
       "0     Action   65,000,000.00        120,141.00          PG   2.00   \n",
       "0  Animation   65,000,000.00        120,141.00          PG   2.00   \n",
       "3  Adventure   90,000,000.00    188,133,322.00          PG  12.00   \n",
       "5     Action  150,000,000.00  1,670,516,444.00       PG-13   6.00   \n",
       "5  Adventure  150,000,000.00  1,670,516,444.00       PG-13   6.00   \n",
       "\n",
       "             profit  high_budg  \n",
       "0    -64,879,859.00       True  \n",
       "0    -64,879,859.00       True  \n",
       "3     98,133,322.00       True  \n",
       "5  1,520,516,444.00       True  \n",
       "5  1,520,516,444.00       True  "
      ]
     },
     "execution_count": 156,
     "metadata": {},
     "output_type": "execute_result"
    }
   ],
   "source": [
    "q=\"(genres=='Animation') | (genres=='Action') | (genres=='Sci-Fi') | \\\n",
    "(genres=='Musical') | (genres=='Adventure')\"\n",
    "h=high_exp.copy()\n",
    "top_5=h.query(q)\n",
    "top_5.head()"
   ]
  },
  {
   "cell_type": "code",
   "execution_count": 157,
   "metadata": {},
   "outputs": [
    {
     "data": {
      "image/png": "[encoded data removed]",
      "text/plain": [
       "<Figure size 576x576 with 1 Axes>"
      ]
     },
     "metadata": {},
     "output_type": "display_data"
    }
   ],
   "source": [
    "#plot profit distributions of top 5 genres\n",
    "plt.figure(figsize=(8,8))\n",
    "p=sns.swarmplot(data=top_5,x='genres',y='profit',size=4)\n",
    "sns.boxplot(data=top_5,x='genres',y='profit',showbox=False,\n",
    "      showcaps=False,whiskerprops={'visible':False})\n",
    "\n",
    "#format numbers on y axis into millions of dollars\n",
    "ticks=p.get_yticks().tolist()\n",
    "p.yaxis.set_ticks(ticks)\n",
    "ylabels=['$'+'{:.0f}'.format(y)[:-6] for y in ticks]\n",
    "p.set_yticklabels(ylabels)\n",
    "p.set_ylim(-500000000,2500000000)\n",
    "p.set_title('Profit Distribution by Genre (millions of USD)',fontsize=20,\n",
    "           fontweight='bold')\n",
    "\n",
    "plt.savefig('images/prof_dist_genre.png',facecolor='w')"
   ]
  },
  {
   "cell_type": "markdown",
   "metadata": {},
   "source": [
    "This plot shows that Action and Animation have the largest number of observations. All genres but Musical have right skews, with the majority of films under $500 million profit and a many that have profit close to zero.  This does not mean that they are not good choices for genre, it just reflects the risk in making any film. Profit is more likely with these genres, but not guaranteed.  We can also see the outliers that make the mean so much higher than the medians.  The genre Musical only has 4 observations, which are not enough to make a solid recommendation to Microsoft. We will not include this genre in the analysis of rating and release month."
   ]
  },
  {
   "cell_type": "markdown",
   "metadata": {},
   "source": [
    "## Which MPAA Ratings perform best? ##\n",
    "\n",
    "Examine which MPAA ratings within the top 4 genres tend to have the highest profit."
   ]
  },
  {
   "cell_type": "markdown",
   "metadata": {},
   "source": [
    "### Profit across MPAA Ratings for all genres ###"
   ]
  },
  {
   "cell_type": "code",
   "execution_count": 158,
   "metadata": {},
   "outputs": [
    {
     "data": {
      "image/png": "[encoded data removed]",
      "text/plain": [
       "<Figure size 864x432 with 1 Axes>"
      ]
     },
     "metadata": {},
     "output_type": "display_data"
    }
   ],
   "source": [
    "#First examine distribution of profit across ratings including all genres\n",
    "plt.figure(figsize=(12,6))\n",
    "r=sns.boxplot(data=high_df,x='mpaa_rating',y='profit',showbox=False,\n",
    "      showcaps=False,whiskerprops={'visible':False},\n",
    "             order=['G','PG','PG-13','R','Unrated'])\n",
    "sns.swarmplot(data=high_df,x='mpaa_rating',y='profit',\n",
    "              order=['G','PG','PG-13','R','Unrated'],size=4)\n",
    "\n",
    "#format numbers on y axis into millions of dollars\n",
    "ticks=r.get_yticks().tolist()\n",
    "r.yaxis.set_ticks(ticks)\n",
    "ylabels=['$'+'{:.0f}'.format(y)[:-6] for y in ticks]\n",
    "r.set_yticklabels(ylabels)\n",
    "r.set_ylim(-500000000,2500000000)\n",
    "r.set_title('Profit Distribution by Rating (millions of USD)',fontsize=20,\n",
    "           fontweight='bold');"
   ]
  },
  {
   "cell_type": "markdown",
   "metadata": {},
   "source": [
    "G movies have the highest median, but the sample size for high budget movies is low. PG has the next highest followed by PG-13 and then R.  Since there are only two movies that are unrated, we'll remove them for the genre analysis to make the plots simpler.  \n",
    "\n",
    "All of the top three ratings are right skewed distributions with PG-13 having the highest number of observations and the most high-profit outliers."
   ]
  },
  {
   "cell_type": "markdown",
   "metadata": {},
   "source": [
    "### Profit across MPAA Ratings in top 4 genres ###"
   ]
  },
  {
   "cell_type": "code",
   "execution_count": 159,
   "metadata": {},
   "outputs": [
    {
     "data": {
      "text/html": [
       "<div>\n",
       "<style scoped>\n",
       "    .dataframe tbody tr th:only-of-type {\n",
       "        vertical-align: middle;\n",
       "    }\n",
       "\n",
       "    .dataframe tbody tr th {\n",
       "        vertical-align: top;\n",
       "    }\n",
       "\n",
       "    .dataframe thead th {\n",
       "        text-align: right;\n",
       "    }\n",
       "</style>\n",
       "<table border=\"1\" class=\"dataframe\">\n",
       "  <thead>\n",
       "    <tr style=\"text-align: right;\">\n",
       "      <th></th>\n",
       "      <th>tconst</th>\n",
       "      <th>original_title</th>\n",
       "      <th>start_year</th>\n",
       "      <th>runtime_minutes</th>\n",
       "      <th>genres</th>\n",
       "      <th>budget</th>\n",
       "      <th>ww_gross</th>\n",
       "      <th>mpaa_rating</th>\n",
       "      <th>month</th>\n",
       "      <th>profit</th>\n",
       "      <th>high_budg</th>\n",
       "    </tr>\n",
       "  </thead>\n",
       "  <tbody>\n",
       "    <tr>\n",
       "      <th>0</th>\n",
       "      <td>tt0249516</td>\n",
       "      <td>Foodfight!</td>\n",
       "      <td>2012</td>\n",
       "      <td>91.00</td>\n",
       "      <td>Action</td>\n",
       "      <td>65,000,000.00</td>\n",
       "      <td>120,141.00</td>\n",
       "      <td>PG</td>\n",
       "      <td>2.00</td>\n",
       "      <td>-64,879,859.00</td>\n",
       "      <td>True</td>\n",
       "    </tr>\n",
       "    <tr>\n",
       "      <th>0</th>\n",
       "      <td>tt0249516</td>\n",
       "      <td>Foodfight!</td>\n",
       "      <td>2012</td>\n",
       "      <td>91.00</td>\n",
       "      <td>Animation</td>\n",
       "      <td>65,000,000.00</td>\n",
       "      <td>120,141.00</td>\n",
       "      <td>PG</td>\n",
       "      <td>2.00</td>\n",
       "      <td>-64,879,859.00</td>\n",
       "      <td>True</td>\n",
       "    </tr>\n",
       "    <tr>\n",
       "      <th>3</th>\n",
       "      <td>tt0359950</td>\n",
       "      <td>The Secret Life of Walter Mitty</td>\n",
       "      <td>2013</td>\n",
       "      <td>114.00</td>\n",
       "      <td>Adventure</td>\n",
       "      <td>90,000,000.00</td>\n",
       "      <td>188,133,322.00</td>\n",
       "      <td>PG</td>\n",
       "      <td>12.00</td>\n",
       "      <td>98,133,322.00</td>\n",
       "      <td>True</td>\n",
       "    </tr>\n",
       "    <tr>\n",
       "      <th>5</th>\n",
       "      <td>tt0369610</td>\n",
       "      <td>Jurassic World</td>\n",
       "      <td>2015</td>\n",
       "      <td>124.00</td>\n",
       "      <td>Action</td>\n",
       "      <td>150,000,000.00</td>\n",
       "      <td>1,670,516,444.00</td>\n",
       "      <td>PG-13</td>\n",
       "      <td>6.00</td>\n",
       "      <td>1,520,516,444.00</td>\n",
       "      <td>True</td>\n",
       "    </tr>\n",
       "    <tr>\n",
       "      <th>5</th>\n",
       "      <td>tt0369610</td>\n",
       "      <td>Jurassic World</td>\n",
       "      <td>2015</td>\n",
       "      <td>124.00</td>\n",
       "      <td>Adventure</td>\n",
       "      <td>150,000,000.00</td>\n",
       "      <td>1,670,516,444.00</td>\n",
       "      <td>PG-13</td>\n",
       "      <td>6.00</td>\n",
       "      <td>1,520,516,444.00</td>\n",
       "      <td>True</td>\n",
       "    </tr>\n",
       "  </tbody>\n",
       "</table>\n",
       "</div>"
      ],
      "text/plain": [
       "      tconst                   original_title  start_year  runtime_minutes  \\\n",
       "0  tt0249516                       Foodfight!        2012            91.00   \n",
       "0  tt0249516                       Foodfight!        2012            91.00   \n",
       "3  tt0359950  The Secret Life of Walter Mitty        2013           114.00   \n",
       "5  tt0369610                   Jurassic World        2015           124.00   \n",
       "5  tt0369610                   Jurassic World        2015           124.00   \n",
       "\n",
       "      genres          budget          ww_gross mpaa_rating  month  \\\n",
       "0     Action   65,000,000.00        120,141.00          PG   2.00   \n",
       "0  Animation   65,000,000.00        120,141.00          PG   2.00   \n",
       "3  Adventure   90,000,000.00    188,133,322.00          PG  12.00   \n",
       "5     Action  150,000,000.00  1,670,516,444.00       PG-13   6.00   \n",
       "5  Adventure  150,000,000.00  1,670,516,444.00       PG-13   6.00   \n",
       "\n",
       "             profit  high_budg  \n",
       "0    -64,879,859.00       True  \n",
       "0    -64,879,859.00       True  \n",
       "3     98,133,322.00       True  \n",
       "5  1,520,516,444.00       True  \n",
       "5  1,520,516,444.00       True  "
      ]
     },
     "execution_count": 159,
     "metadata": {},
     "output_type": "execute_result"
    }
   ],
   "source": [
    "#filter top_5 to remove musicals\n",
    "q1=\"(genres=='Animation') | (genres=='Action') | (genres=='Sci-Fi') | \\\n",
    "(genres=='Adventure')\"\n",
    "top_4=top_5.copy().query(q1)\n",
    "top_4=top_4[top_4['genres']!='Unrated']\n",
    "top_4.head()"
   ]
  },
  {
   "cell_type": "code",
   "execution_count": 160,
   "metadata": {},
   "outputs": [
    {
     "data": {
      "text/plain": [
       "<Figure size 432x864 with 0 Axes>"
      ]
     },
     "metadata": {},
     "output_type": "display_data"
    },
    {
     "data": {
      "image/png": "[encoded data removed]",
      "text/plain": [
       "<Figure size 648x864 with 4 Axes>"
      ]
     },
     "metadata": {},
     "output_type": "display_data"
    }
   ],
   "source": [
    "plt.figure(figsize=(6,12))\n",
    "\n",
    "rg=sns.FacetGrid(top_4,row='genres',aspect=3)\n",
    "rg.map(sns.boxplot, 'mpaa_rating','profit', \n",
    "       order=['G','PG','PG-13','R'],palette='muted',showbox=False,\n",
    "      showcaps=False,whiskerprops={'visible':False})\n",
    "rg.map(sns.swarmplot,'mpaa_rating','profit',\n",
    "              order=['G','PG','PG-13','R'],size=3,palette='muted')\n",
    "\n",
    "#fix y-axis to display millions of USD\n",
    "for ax in rg.axes.flat:\n",
    "    ticks=ax.get_yticks().tolist()\n",
    "    ax.yaxis.set_ticks(ticks)\n",
    "    ylabels=['$'+'{:.0f}'.format(y)[:-6] for y in ticks]\n",
    "    ax.set_yticklabels(ylabels)\n",
    "    ax.set_ylim(-500000000,1500000000)\n",
    "    \n",
    "\n",
    "rg.fig.suptitle('High-Budget Films: Profit  Across Ratings (millions of USD)',\n",
    "                fontsize=18,fontweight='bold',va='top',ha='center')\n",
    "plt.tight_layout()\n",
    "\n",
    "plt.savefig('images/prof_genre_ratings.png',facecolor='w')"
   ]
  },
  {
   "cell_type": "markdown",
   "metadata": {},
   "source": [
    "Action: The majority of Action movies have a PG-13 rating. The median for PG Action movies is slightly higher, but the sample is smaller. Both PG and PG-13 tend to have higher profit than R. Best recommendation would be to make a PG-13 Action movie.\n",
    "\n",
    "Animation: Almost all of these movies are rated PG. G Animation films can still perform well and have a slightly higher mean, but PG is the best recommendation for this genre.\n",
    "\n",
    "Adventure: PG and PG-13 films perform well, but PG-13 has a slightly higher median and more high-profit outliers. G has too few observations to make a solid recommendation. PG-13 is the recommended rating level for Adventure.\n",
    "\n",
    "Sci-Fi: All movies in this genre are either PG-13 or R. PG-13 has a higher median and more observations. The best recommendation for Sci-Fi is PG-13."
   ]
  },
  {
   "cell_type": "markdown",
   "metadata": {},
   "source": [
    "## Which release months have the highest profit? ##\n",
    "\n",
    "Examine which release months have led to the highest profits for the top 4 genres."
   ]
  },
  {
   "cell_type": "markdown",
   "metadata": {},
   "source": [
    "### Profit across release months for all genres ###"
   ]
  },
  {
   "cell_type": "code",
   "execution_count": 161,
   "metadata": {},
   "outputs": [
    {
     "data": {
      "text/html": [
       "<div>\n",
       "<style scoped>\n",
       "    .dataframe tbody tr th:only-of-type {\n",
       "        vertical-align: middle;\n",
       "    }\n",
       "\n",
       "    .dataframe tbody tr th {\n",
       "        vertical-align: top;\n",
       "    }\n",
       "\n",
       "    .dataframe thead th {\n",
       "        text-align: right;\n",
       "    }\n",
       "</style>\n",
       "<table border=\"1\" class=\"dataframe\">\n",
       "  <thead>\n",
       "    <tr style=\"text-align: right;\">\n",
       "      <th></th>\n",
       "      <th>tconst</th>\n",
       "      <th>original_title</th>\n",
       "      <th>start_year</th>\n",
       "      <th>runtime_minutes</th>\n",
       "      <th>genres</th>\n",
       "      <th>budget</th>\n",
       "      <th>ww_gross</th>\n",
       "      <th>mpaa_rating</th>\n",
       "      <th>month</th>\n",
       "      <th>profit</th>\n",
       "      <th>high_budg</th>\n",
       "    </tr>\n",
       "  </thead>\n",
       "  <tbody>\n",
       "    <tr>\n",
       "      <th>0</th>\n",
       "      <td>tt0249516</td>\n",
       "      <td>Foodfight!</td>\n",
       "      <td>2012</td>\n",
       "      <td>91.00</td>\n",
       "      <td>['Action', 'Animation', 'Comedy']</td>\n",
       "      <td>65,000,000.00</td>\n",
       "      <td>120,141.00</td>\n",
       "      <td>PG</td>\n",
       "      <td>2.00</td>\n",
       "      <td>-64,879,859.00</td>\n",
       "      <td>True</td>\n",
       "    </tr>\n",
       "    <tr>\n",
       "      <th>3</th>\n",
       "      <td>tt0359950</td>\n",
       "      <td>The Secret Life of Walter Mitty</td>\n",
       "      <td>2013</td>\n",
       "      <td>114.00</td>\n",
       "      <td>['Adventure', 'Comedy', 'Drama']</td>\n",
       "      <td>90,000,000.00</td>\n",
       "      <td>188,133,322.00</td>\n",
       "      <td>PG</td>\n",
       "      <td>12.00</td>\n",
       "      <td>98,133,322.00</td>\n",
       "      <td>True</td>\n",
       "    </tr>\n",
       "    <tr>\n",
       "      <th>5</th>\n",
       "      <td>tt0369610</td>\n",
       "      <td>Jurassic World</td>\n",
       "      <td>2015</td>\n",
       "      <td>124.00</td>\n",
       "      <td>['Action', 'Adventure', 'Sci-Fi']</td>\n",
       "      <td>150,000,000.00</td>\n",
       "      <td>1,670,516,444.00</td>\n",
       "      <td>PG-13</td>\n",
       "      <td>6.00</td>\n",
       "      <td>1,520,516,444.00</td>\n",
       "      <td>True</td>\n",
       "    </tr>\n",
       "    <tr>\n",
       "      <th>7</th>\n",
       "      <td>tt0376136</td>\n",
       "      <td>The Rum Diary</td>\n",
       "      <td>2011</td>\n",
       "      <td>119.00</td>\n",
       "      <td>['Comedy', 'Drama']</td>\n",
       "      <td>45,000,000.00</td>\n",
       "      <td>30,134,958.00</td>\n",
       "      <td>R</td>\n",
       "      <td>10.00</td>\n",
       "      <td>-14,865,042.00</td>\n",
       "      <td>True</td>\n",
       "    </tr>\n",
       "    <tr>\n",
       "      <th>9</th>\n",
       "      <td>tt0398286</td>\n",
       "      <td>Tangled</td>\n",
       "      <td>2010</td>\n",
       "      <td>100.00</td>\n",
       "      <td>['Adventure', 'Animation', 'Comedy']</td>\n",
       "      <td>260,000,000.00</td>\n",
       "      <td>592,462,816.00</td>\n",
       "      <td>PG</td>\n",
       "      <td>11.00</td>\n",
       "      <td>332,462,816.00</td>\n",
       "      <td>True</td>\n",
       "    </tr>\n",
       "  </tbody>\n",
       "</table>\n",
       "</div>"
      ],
      "text/plain": [
       "      tconst                   original_title  start_year  runtime_minutes  \\\n",
       "0  tt0249516                       Foodfight!        2012            91.00   \n",
       "3  tt0359950  The Secret Life of Walter Mitty        2013           114.00   \n",
       "5  tt0369610                   Jurassic World        2015           124.00   \n",
       "7  tt0376136                    The Rum Diary        2011           119.00   \n",
       "9  tt0398286                          Tangled        2010           100.00   \n",
       "\n",
       "                                 genres          budget          ww_gross  \\\n",
       "0     ['Action', 'Animation', 'Comedy']   65,000,000.00        120,141.00   \n",
       "3      ['Adventure', 'Comedy', 'Drama']   90,000,000.00    188,133,322.00   \n",
       "5     ['Action', 'Adventure', 'Sci-Fi']  150,000,000.00  1,670,516,444.00   \n",
       "7                   ['Comedy', 'Drama']   45,000,000.00     30,134,958.00   \n",
       "9  ['Adventure', 'Animation', 'Comedy']  260,000,000.00    592,462,816.00   \n",
       "\n",
       "  mpaa_rating  month            profit  high_budg  \n",
       "0          PG   2.00    -64,879,859.00       True  \n",
       "3          PG  12.00     98,133,322.00       True  \n",
       "5       PG-13   6.00  1,520,516,444.00       True  \n",
       "7           R  10.00    -14,865,042.00       True  \n",
       "9          PG  11.00    332,462,816.00       True  "
      ]
     },
     "execution_count": 161,
     "metadata": {},
     "output_type": "execute_result"
    }
   ],
   "source": [
    "high_df.head()"
   ]
  },
  {
   "cell_type": "code",
   "execution_count": 162,
   "metadata": {},
   "outputs": [],
   "source": [
    "#turn release months into strings\n",
    "high['month']=high['month'].apply(lambda x: str(int(x)))\n",
    "top_4['month']=top_4['month'].apply(lambda x: str(int(x)))\n",
    "m_order=[str(x) for x in list(range(1,13))]"
   ]
  },
  {
   "cell_type": "code",
   "execution_count": 163,
   "metadata": {},
   "outputs": [
    {
     "data": {
      "image/png": "[encoded data removed]",
      "text/plain": [
       "<Figure size 864x432 with 1 Axes>"
      ]
     },
     "metadata": {},
     "output_type": "display_data"
    }
   ],
   "source": [
    "#First examine distribution of profit across ratings including all genres\n",
    "plt.figure(figsize=(12,6))\n",
    "r=sns.boxplot(data=high,x='month',y='profit',showbox=False,\n",
    "      showcaps=False,whiskerprops={'visible':False},\n",
    "             order=m_order)\n",
    "sns.swarmplot(data=high,x='month',y='profit',\n",
    "              order=m_order,size=4)\n",
    "\n",
    "#format numbers on y axis into millions of dollars\n",
    "ticks=r.get_yticks().tolist()\n",
    "r.yaxis.set_ticks(ticks)\n",
    "ylabels=['$'+'{:.0f}'.format(y)[:-6] for y in ticks]\n",
    "r.set_yticklabels(ylabels)\n",
    "r.set_ylim(-500000000,1500000000)\n",
    "r.set_title('High Budget Films: Profit by Release Month (millions of USD)',fontsize=20,\n",
    "           fontweight='bold')\n",
    "\n",
    "plt.savefig('images/prof_month.png',facecolor='w')"
   ]
  },
  {
   "cell_type": "markdown",
   "metadata": {},
   "source": [
    "Median profit peaks in late Spring/Early Summer and in November.  The lowest months are January and August.\n",
    "\n",
    "May has the highest median profit followed by April, when relatively fewer high-budget movies have been released, and then June and July when a higher number of high-budget movies are released. November's median is similar to July's."
   ]
  },
  {
   "cell_type": "markdown",
   "metadata": {},
   "source": [
    "### Profit across release months for top 4 genres ###"
   ]
  },
  {
   "cell_type": "code",
   "execution_count": 164,
   "metadata": {},
   "outputs": [
    {
     "data": {
      "text/plain": [
       "<Figure size 432x1080 with 0 Axes>"
      ]
     },
     "metadata": {},
     "output_type": "display_data"
    },
    {
     "data": {
      "image/png": "[encoded data removed]",
      "text/plain": [
       "<Figure size 648x864 with 4 Axes>"
      ]
     },
     "metadata": {},
     "output_type": "display_data"
    }
   ],
   "source": [
    "#Plot profit by release month across the top 4 genres\n",
    "\n",
    "plt.figure(figsize=(6,15))\n",
    "\n",
    "rg=sns.FacetGrid(top_4,row='genres',aspect=3)\n",
    "rg.map(sns.boxplot, 'month','profit',palette='muted',showbox=False,\n",
    "      showcaps=False,order=m_order,whiskerprops={'visible':False})\n",
    "rg.map(sns.swarmplot,'month','profit',size=3,palette='muted',\n",
    "      order=m_order)\n",
    "\n",
    "#fix y-axis to display millions of USD\n",
    "for ax in rg.axes.flat:\n",
    "    ticks=ax.get_yticks().tolist()\n",
    "    ax.yaxis.set_ticks(ticks)\n",
    "    ylabels=['$'+'{:.0f}'.format(y)[:-6] for y in ticks]\n",
    "    ax.set_yticklabels(ylabels)\n",
    "    ax.set_ylim(-500000000,1500000000)\n",
    "    \n",
    "\n",
    "rg.fig.suptitle('Profit Across Release Months by Genre (millions of USD)',\n",
    "                fontsize=18,fontweight='bold',va='top',ha='center')\n",
    "plt.tight_layout();"
   ]
  },
  {
   "cell_type": "markdown",
   "metadata": {},
   "source": [
    "Broken down by genre, profit still peaks at similar months to the overall grouping of high budget films in May/June and November.\n",
    "\n",
    "Animation peaks more in June and not as much in November, so summer releases are a better recommendation for that genre.\n",
    "\n",
    "Sci-Fi peaks highest in April (few observations) and then in November, although it till has a high median in May.\n",
    "\n",
    "Adventure also does almost as well in November as it does in May/June.\n",
    "\n",
    "Action is highest in May and higher in April than June/July. It has a moderate increase in profit in November as well."
   ]
  },
  {
   "cell_type": "markdown",
   "metadata": {},
   "source": [
    "## Profit for genre/rating/month groupings ##\n",
    "\n",
    "Examine which groupings of genre, rating, and month have the highest median profit."
   ]
  },
  {
   "cell_type": "code",
   "execution_count": 165,
   "metadata": {},
   "outputs": [
    {
     "data": {
      "text/html": [
       "<div>\n",
       "<style scoped>\n",
       "    .dataframe tbody tr th:only-of-type {\n",
       "        vertical-align: middle;\n",
       "    }\n",
       "\n",
       "    .dataframe tbody tr th {\n",
       "        vertical-align: top;\n",
       "    }\n",
       "\n",
       "    .dataframe thead tr th {\n",
       "        text-align: left;\n",
       "    }\n",
       "\n",
       "    .dataframe thead tr:last-of-type th {\n",
       "        text-align: right;\n",
       "    }\n",
       "</style>\n",
       "<table border=\"1\" class=\"dataframe\">\n",
       "  <thead>\n",
       "    <tr>\n",
       "      <th></th>\n",
       "      <th></th>\n",
       "      <th></th>\n",
       "      <th colspan=\"2\" halign=\"left\">profit</th>\n",
       "    </tr>\n",
       "    <tr>\n",
       "      <th></th>\n",
       "      <th></th>\n",
       "      <th></th>\n",
       "      <th>count</th>\n",
       "      <th>median</th>\n",
       "    </tr>\n",
       "    <tr>\n",
       "      <th>genres</th>\n",
       "      <th>mpaa_rating</th>\n",
       "      <th>month</th>\n",
       "      <th></th>\n",
       "      <th></th>\n",
       "    </tr>\n",
       "  </thead>\n",
       "  <tbody>\n",
       "    <tr>\n",
       "      <th>Musical</th>\n",
       "      <th>PG</th>\n",
       "      <th>3.00</th>\n",
       "      <td>1</td>\n",
       "      <td>1,104,434,525.00</td>\n",
       "    </tr>\n",
       "    <tr>\n",
       "      <th>Fantasy</th>\n",
       "      <th>PG-13</th>\n",
       "      <th>12.00</th>\n",
       "      <td>4</td>\n",
       "      <td>1,002,092,358.00</td>\n",
       "    </tr>\n",
       "    <tr>\n",
       "      <th>Thriller</th>\n",
       "      <th>PG-13</th>\n",
       "      <th>4.00</th>\n",
       "      <td>2</td>\n",
       "      <td>913,239,537.00</td>\n",
       "    </tr>\n",
       "    <tr>\n",
       "      <th>Action</th>\n",
       "      <th>PG</th>\n",
       "      <th>6.00</th>\n",
       "      <td>2</td>\n",
       "      <td>760,588,523.00</td>\n",
       "    </tr>\n",
       "    <tr>\n",
       "      <th>Adventure</th>\n",
       "      <th>R</th>\n",
       "      <th>2.00</th>\n",
       "      <td>1</td>\n",
       "      <td>724,836,791.00</td>\n",
       "    </tr>\n",
       "    <tr>\n",
       "      <th>Animation</th>\n",
       "      <th>PG</th>\n",
       "      <th>6.00</th>\n",
       "      <td>8</td>\n",
       "      <td>642,884,646.50</td>\n",
       "    </tr>\n",
       "    <tr>\n",
       "      <th>Adventure</th>\n",
       "      <th>PG</th>\n",
       "      <th>6.00</th>\n",
       "      <td>8</td>\n",
       "      <td>642,884,646.50</td>\n",
       "    </tr>\n",
       "    <tr>\n",
       "      <th>Sci-Fi</th>\n",
       "      <th>PG-13</th>\n",
       "      <th>4.00</th>\n",
       "      <td>5</td>\n",
       "      <td>544,421,503.00</td>\n",
       "    </tr>\n",
       "    <tr>\n",
       "      <th>Comedy</th>\n",
       "      <th>G</th>\n",
       "      <th>6.00</th>\n",
       "      <td>5</td>\n",
       "      <td>543,559,645.00</td>\n",
       "    </tr>\n",
       "    <tr>\n",
       "      <th>Adventure</th>\n",
       "      <th>G</th>\n",
       "      <th>6.00</th>\n",
       "      <td>5</td>\n",
       "      <td>543,559,645.00</td>\n",
       "    </tr>\n",
       "    <tr>\n",
       "      <th>Animation</th>\n",
       "      <th>G</th>\n",
       "      <th>6.00</th>\n",
       "      <td>5</td>\n",
       "      <td>543,559,645.00</td>\n",
       "    </tr>\n",
       "    <tr>\n",
       "      <th>Sci-Fi</th>\n",
       "      <th>R</th>\n",
       "      <th>3.00</th>\n",
       "      <td>1</td>\n",
       "      <td>522,179,950.00</td>\n",
       "    </tr>\n",
       "    <tr>\n",
       "      <th>Adventure</th>\n",
       "      <th>PG-13</th>\n",
       "      <th>11.00</th>\n",
       "      <td>11</td>\n",
       "      <td>512,796,076.00</td>\n",
       "    </tr>\n",
       "    <tr>\n",
       "      <th>Sci-Fi</th>\n",
       "      <th>PG-13</th>\n",
       "      <th>5.00</th>\n",
       "      <td>11</td>\n",
       "      <td>508,982,323.00</td>\n",
       "    </tr>\n",
       "    <tr>\n",
       "      <th>Mystery</th>\n",
       "      <th>R</th>\n",
       "      <th>5.00</th>\n",
       "      <td>1</td>\n",
       "      <td>506,764,305.00</td>\n",
       "    </tr>\n",
       "    <tr>\n",
       "      <th>Crime</th>\n",
       "      <th>PG-13</th>\n",
       "      <th>4.00</th>\n",
       "      <td>3</td>\n",
       "      <td>501,137,675.00</td>\n",
       "    </tr>\n",
       "    <tr>\n",
       "      <th>Sci-Fi</th>\n",
       "      <th>PG-13</th>\n",
       "      <th>11.00</th>\n",
       "      <td>5</td>\n",
       "      <td>498,344,137.00</td>\n",
       "    </tr>\n",
       "    <tr>\n",
       "      <th>Fantasy</th>\n",
       "      <th>PG-13</th>\n",
       "      <th>11.00</th>\n",
       "      <td>6</td>\n",
       "      <td>493,789,608.00</td>\n",
       "    </tr>\n",
       "    <tr>\n",
       "      <th>Drama</th>\n",
       "      <th>PG</th>\n",
       "      <th>11.00</th>\n",
       "      <td>1</td>\n",
       "      <td>489,016,565.00</td>\n",
       "    </tr>\n",
       "    <tr>\n",
       "      <th>Comedy</th>\n",
       "      <th>PG</th>\n",
       "      <th>6.00</th>\n",
       "      <td>8</td>\n",
       "      <td>477,952,240.50</td>\n",
       "    </tr>\n",
       "  </tbody>\n",
       "</table>\n",
       "</div>"
      ],
      "text/plain": [
       "                            profit                  \n",
       "                             count            median\n",
       "genres    mpaa_rating month                         \n",
       "Musical   PG          3.00       1  1,104,434,525.00\n",
       "Fantasy   PG-13       12.00      4  1,002,092,358.00\n",
       "Thriller  PG-13       4.00       2    913,239,537.00\n",
       "Action    PG          6.00       2    760,588,523.00\n",
       "Adventure R           2.00       1    724,836,791.00\n",
       "Animation PG          6.00       8    642,884,646.50\n",
       "Adventure PG          6.00       8    642,884,646.50\n",
       "Sci-Fi    PG-13       4.00       5    544,421,503.00\n",
       "Comedy    G           6.00       5    543,559,645.00\n",
       "Adventure G           6.00       5    543,559,645.00\n",
       "Animation G           6.00       5    543,559,645.00\n",
       "Sci-Fi    R           3.00       1    522,179,950.00\n",
       "Adventure PG-13       11.00     11    512,796,076.00\n",
       "Sci-Fi    PG-13       5.00      11    508,982,323.00\n",
       "Mystery   R           5.00       1    506,764,305.00\n",
       "Crime     PG-13       4.00       3    501,137,675.00\n",
       "Sci-Fi    PG-13       11.00      5    498,344,137.00\n",
       "Fantasy   PG-13       11.00      6    493,789,608.00\n",
       "Drama     PG          11.00      1    489,016,565.00\n",
       "Comedy    PG          6.00       8    477,952,240.50"
      ]
     },
     "execution_count": 165,
     "metadata": {},
     "output_type": "execute_result"
    }
   ],
   "source": [
    "#groupby genres, mpaa rating, and month and calculate median profit \n",
    "#and count movies in category\n",
    "all_3_med=high_exp.groupby(['genres','mpaa_rating',\n",
    "                    'month']).agg({'profit': ['count',\n",
    "                    'median']}).sort_values(('profit','median'),ascending=False)\n",
    "all_3_med.head(20)"
   ]
  },
  {
   "cell_type": "markdown",
   "metadata": {},
   "source": [
    "One has to be careful when examining these results, since some of the groups only have 1 or 2 movies, which means the median says more about the success of an individual movie than a group of movies with the same characteristics.  We can see in the top 20 there are quite a few groups with June releases.  "
   ]
  },
  {
   "cell_type": "markdown",
   "metadata": {},
   "source": [
    "## Multiple Regression of genre, MPAA rating, and release month with Profit ##"
   ]
  },
  {
   "cell_type": "code",
   "execution_count": 166,
   "metadata": {},
   "outputs": [
    {
     "data": {
      "text/html": [
       "<div>\n",
       "<style scoped>\n",
       "    .dataframe tbody tr th:only-of-type {\n",
       "        vertical-align: middle;\n",
       "    }\n",
       "\n",
       "    .dataframe tbody tr th {\n",
       "        vertical-align: top;\n",
       "    }\n",
       "\n",
       "    .dataframe thead th {\n",
       "        text-align: right;\n",
       "    }\n",
       "</style>\n",
       "<table border=\"1\" class=\"dataframe\">\n",
       "  <thead>\n",
       "    <tr style=\"text-align: right;\">\n",
       "      <th></th>\n",
       "      <th>Adventure</th>\n",
       "      <th>Animation</th>\n",
       "      <th>Biography</th>\n",
       "      <th>Comedy</th>\n",
       "      <th>Crime</th>\n",
       "      <th>Drama</th>\n",
       "      <th>Family</th>\n",
       "      <th>Fantasy</th>\n",
       "      <th>History</th>\n",
       "      <th>Horror</th>\n",
       "      <th>...</th>\n",
       "      <th>3.0</th>\n",
       "      <th>4.0</th>\n",
       "      <th>5.0</th>\n",
       "      <th>6.0</th>\n",
       "      <th>7.0</th>\n",
       "      <th>8.0</th>\n",
       "      <th>9.0</th>\n",
       "      <th>10.0</th>\n",
       "      <th>11.0</th>\n",
       "      <th>12.0</th>\n",
       "    </tr>\n",
       "  </thead>\n",
       "  <tbody>\n",
       "    <tr>\n",
       "      <th>0</th>\n",
       "      <td>0</td>\n",
       "      <td>0</td>\n",
       "      <td>0</td>\n",
       "      <td>0</td>\n",
       "      <td>0</td>\n",
       "      <td>0</td>\n",
       "      <td>0</td>\n",
       "      <td>0</td>\n",
       "      <td>0</td>\n",
       "      <td>0</td>\n",
       "      <td>...</td>\n",
       "      <td>0</td>\n",
       "      <td>0</td>\n",
       "      <td>0</td>\n",
       "      <td>0</td>\n",
       "      <td>0</td>\n",
       "      <td>0</td>\n",
       "      <td>0</td>\n",
       "      <td>0</td>\n",
       "      <td>0</td>\n",
       "      <td>0</td>\n",
       "    </tr>\n",
       "    <tr>\n",
       "      <th>0</th>\n",
       "      <td>0</td>\n",
       "      <td>1</td>\n",
       "      <td>0</td>\n",
       "      <td>0</td>\n",
       "      <td>0</td>\n",
       "      <td>0</td>\n",
       "      <td>0</td>\n",
       "      <td>0</td>\n",
       "      <td>0</td>\n",
       "      <td>0</td>\n",
       "      <td>...</td>\n",
       "      <td>0</td>\n",
       "      <td>0</td>\n",
       "      <td>0</td>\n",
       "      <td>0</td>\n",
       "      <td>0</td>\n",
       "      <td>0</td>\n",
       "      <td>0</td>\n",
       "      <td>0</td>\n",
       "      <td>0</td>\n",
       "      <td>0</td>\n",
       "    </tr>\n",
       "    <tr>\n",
       "      <th>0</th>\n",
       "      <td>0</td>\n",
       "      <td>0</td>\n",
       "      <td>0</td>\n",
       "      <td>1</td>\n",
       "      <td>0</td>\n",
       "      <td>0</td>\n",
       "      <td>0</td>\n",
       "      <td>0</td>\n",
       "      <td>0</td>\n",
       "      <td>0</td>\n",
       "      <td>...</td>\n",
       "      <td>0</td>\n",
       "      <td>0</td>\n",
       "      <td>0</td>\n",
       "      <td>0</td>\n",
       "      <td>0</td>\n",
       "      <td>0</td>\n",
       "      <td>0</td>\n",
       "      <td>0</td>\n",
       "      <td>0</td>\n",
       "      <td>0</td>\n",
       "    </tr>\n",
       "    <tr>\n",
       "      <th>3</th>\n",
       "      <td>1</td>\n",
       "      <td>0</td>\n",
       "      <td>0</td>\n",
       "      <td>0</td>\n",
       "      <td>0</td>\n",
       "      <td>0</td>\n",
       "      <td>0</td>\n",
       "      <td>0</td>\n",
       "      <td>0</td>\n",
       "      <td>0</td>\n",
       "      <td>...</td>\n",
       "      <td>0</td>\n",
       "      <td>0</td>\n",
       "      <td>0</td>\n",
       "      <td>0</td>\n",
       "      <td>0</td>\n",
       "      <td>0</td>\n",
       "      <td>0</td>\n",
       "      <td>0</td>\n",
       "      <td>0</td>\n",
       "      <td>1</td>\n",
       "    </tr>\n",
       "    <tr>\n",
       "      <th>3</th>\n",
       "      <td>0</td>\n",
       "      <td>0</td>\n",
       "      <td>0</td>\n",
       "      <td>1</td>\n",
       "      <td>0</td>\n",
       "      <td>0</td>\n",
       "      <td>0</td>\n",
       "      <td>0</td>\n",
       "      <td>0</td>\n",
       "      <td>0</td>\n",
       "      <td>...</td>\n",
       "      <td>0</td>\n",
       "      <td>0</td>\n",
       "      <td>0</td>\n",
       "      <td>0</td>\n",
       "      <td>0</td>\n",
       "      <td>0</td>\n",
       "      <td>0</td>\n",
       "      <td>0</td>\n",
       "      <td>0</td>\n",
       "      <td>1</td>\n",
       "    </tr>\n",
       "  </tbody>\n",
       "</table>\n",
       "<p>5 rows × 34 columns</p>\n",
       "</div>"
      ],
      "text/plain": [
       "   Adventure  Animation  Biography  Comedy  Crime  Drama  Family  Fantasy  \\\n",
       "0          0          0          0       0      0      0       0        0   \n",
       "0          0          1          0       0      0      0       0        0   \n",
       "0          0          0          0       1      0      0       0        0   \n",
       "3          1          0          0       0      0      0       0        0   \n",
       "3          0          0          0       1      0      0       0        0   \n",
       "\n",
       "   History  Horror  ...  3.0  4.0  5.0  6.0  7.0  8.0  9.0  10.0  11.0  12.0  \n",
       "0        0       0  ...    0    0    0    0    0    0    0     0     0     0  \n",
       "0        0       0  ...    0    0    0    0    0    0    0     0     0     0  \n",
       "0        0       0  ...    0    0    0    0    0    0    0     0     0     0  \n",
       "3        0       0  ...    0    0    0    0    0    0    0     0     0     1  \n",
       "3        0       0  ...    0    0    0    0    0    0    0     0     0     1  \n",
       "\n",
       "[5 rows x 34 columns]"
      ]
     },
     "execution_count": 166,
     "metadata": {},
     "output_type": "execute_result"
    }
   ],
   "source": [
    "g_dum=pd.get_dummies(high_exp['genres'],drop_first=True)\n",
    "mp_dum=pd.get_dummies(high_exp['mpaa_rating'],drop_first=True)\n",
    "m_dum=pd.get_dummies(high_exp['month'],drop_first=True)\n",
    "x=pd.concat([g_dum,mp_dum,m_dum],axis=1)\n",
    "x.head()"
   ]
  },
  {
   "cell_type": "code",
   "execution_count": 167,
   "metadata": {},
   "outputs": [],
   "source": [
    "x=sm.add_constant(x)\n",
    "y=high_exp['profit']"
   ]
  },
  {
   "cell_type": "code",
   "execution_count": 168,
   "metadata": {},
   "outputs": [
    {
     "data": {
      "text/html": [
       "<table class=\"simpletable\">\n",
       "<caption>OLS Regression Results</caption>\n",
       "<tr>\n",
       "  <th>Dep. Variable:</th>         <td>profit</td>      <th>  R-squared:         </th> <td>   0.180</td> \n",
       "</tr>\n",
       "<tr>\n",
       "  <th>Model:</th>                   <td>OLS</td>       <th>  Adj. R-squared:    </th> <td>   0.157</td> \n",
       "</tr>\n",
       "<tr>\n",
       "  <th>Method:</th>             <td>Least Squares</td>  <th>  F-statistic:       </th> <td>   7.825</td> \n",
       "</tr>\n",
       "<tr>\n",
       "  <th>Date:</th>             <td>Wed, 13 Oct 2021</td> <th>  Prob (F-statistic):</th> <td>1.65e-33</td> \n",
       "</tr>\n",
       "<tr>\n",
       "  <th>Time:</th>                 <td>19:48:34</td>     <th>  Log-Likelihood:    </th> <td> -25962.</td> \n",
       "</tr>\n",
       "<tr>\n",
       "  <th>No. Observations:</th>      <td>  1243</td>      <th>  AIC:               </th> <td>5.199e+04</td>\n",
       "</tr>\n",
       "<tr>\n",
       "  <th>Df Residuals:</th>          <td>  1208</td>      <th>  BIC:               </th> <td>5.217e+04</td>\n",
       "</tr>\n",
       "<tr>\n",
       "  <th>Df Model:</th>              <td>    34</td>      <th>                     </th>     <td> </td>    \n",
       "</tr>\n",
       "<tr>\n",
       "  <th>Covariance Type:</th>      <td>nonrobust</td>    <th>                     </th>     <td> </td>    \n",
       "</tr>\n",
       "</table>\n",
       "<table class=\"simpletable\">\n",
       "<tr>\n",
       "      <td></td>         <th>coef</th>     <th>std err</th>      <th>t</th>      <th>P>|t|</th>  <th>[0.025</th>    <th>0.975]</th>  \n",
       "</tr>\n",
       "<tr>\n",
       "  <th>const</th>     <td> 2.524e+08</td> <td> 7.48e+07</td> <td>    3.373</td> <td> 0.001</td> <td> 1.06e+08</td> <td> 3.99e+08</td>\n",
       "</tr>\n",
       "<tr>\n",
       "  <th>Adventure</th> <td> 2.383e+07</td> <td> 2.69e+07</td> <td>    0.886</td> <td> 0.376</td> <td>-2.89e+07</td> <td> 7.66e+07</td>\n",
       "</tr>\n",
       "<tr>\n",
       "  <th>Animation</th> <td> 2.066e+07</td> <td> 4.19e+07</td> <td>    0.493</td> <td> 0.622</td> <td>-6.15e+07</td> <td> 1.03e+08</td>\n",
       "</tr>\n",
       "<tr>\n",
       "  <th>Biography</th> <td>-4.495e+07</td> <td> 7.21e+07</td> <td>   -0.624</td> <td> 0.533</td> <td>-1.86e+08</td> <td> 9.64e+07</td>\n",
       "</tr>\n",
       "<tr>\n",
       "  <th>Comedy</th>    <td>-7.563e+07</td> <td> 3.07e+07</td> <td>   -2.465</td> <td> 0.014</td> <td>-1.36e+08</td> <td>-1.54e+07</td>\n",
       "</tr>\n",
       "<tr>\n",
       "  <th>Crime</th>     <td>-8.726e+07</td> <td> 4.56e+07</td> <td>   -1.914</td> <td> 0.056</td> <td>-1.77e+08</td> <td> 2.19e+06</td>\n",
       "</tr>\n",
       "<tr>\n",
       "  <th>Drama</th>     <td>-8.739e+07</td> <td> 3.49e+07</td> <td>   -2.502</td> <td> 0.012</td> <td>-1.56e+08</td> <td>-1.89e+07</td>\n",
       "</tr>\n",
       "<tr>\n",
       "  <th>Family</th>    <td>-1.104e+08</td> <td> 5.45e+07</td> <td>   -2.024</td> <td> 0.043</td> <td>-2.17e+08</td> <td> -3.4e+06</td>\n",
       "</tr>\n",
       "<tr>\n",
       "  <th>Fantasy</th>   <td> -3.37e+07</td> <td> 3.79e+07</td> <td>   -0.888</td> <td> 0.375</td> <td>-1.08e+08</td> <td> 4.07e+07</td>\n",
       "</tr>\n",
       "<tr>\n",
       "  <th>History</th>   <td>-1.335e+08</td> <td> 9.94e+07</td> <td>   -1.344</td> <td> 0.179</td> <td>-3.28e+08</td> <td> 6.14e+07</td>\n",
       "</tr>\n",
       "<tr>\n",
       "  <th>Horror</th>    <td>-9.733e+07</td> <td> 7.77e+07</td> <td>   -1.253</td> <td> 0.210</td> <td> -2.5e+08</td> <td>  5.5e+07</td>\n",
       "</tr>\n",
       "<tr>\n",
       "  <th>Music</th>     <td>-2.054e+08</td> <td> 1.69e+08</td> <td>   -1.218</td> <td> 0.223</td> <td>-5.36e+08</td> <td> 1.25e+08</td>\n",
       "</tr>\n",
       "<tr>\n",
       "  <th>Musical</th>   <td> 2.979e+07</td> <td> 1.46e+08</td> <td>    0.204</td> <td> 0.839</td> <td>-2.57e+08</td> <td> 3.17e+08</td>\n",
       "</tr>\n",
       "<tr>\n",
       "  <th>Mystery</th>   <td>-8.937e+07</td> <td> 6.52e+07</td> <td>   -1.370</td> <td> 0.171</td> <td>-2.17e+08</td> <td> 3.86e+07</td>\n",
       "</tr>\n",
       "<tr>\n",
       "  <th>Romance</th>   <td>-1.573e+08</td> <td> 6.63e+07</td> <td>   -2.372</td> <td> 0.018</td> <td>-2.87e+08</td> <td>-2.72e+07</td>\n",
       "</tr>\n",
       "<tr>\n",
       "  <th>Sci-Fi</th>    <td> 1.109e+08</td> <td> 3.89e+07</td> <td>    2.850</td> <td> 0.004</td> <td> 3.45e+07</td> <td> 1.87e+08</td>\n",
       "</tr>\n",
       "<tr>\n",
       "  <th>Sport</th>     <td>-1.684e+08</td> <td> 1.47e+08</td> <td>   -1.149</td> <td> 0.251</td> <td>-4.56e+08</td> <td> 1.19e+08</td>\n",
       "</tr>\n",
       "<tr>\n",
       "  <th>Thriller</th>  <td>-5.135e+07</td> <td> 4.46e+07</td> <td>   -1.151</td> <td> 0.250</td> <td>-1.39e+08</td> <td> 3.62e+07</td>\n",
       "</tr>\n",
       "<tr>\n",
       "  <th>War</th>       <td>-3.884e+07</td> <td> 1.69e+08</td> <td>   -0.230</td> <td> 0.818</td> <td> -3.7e+08</td> <td> 2.93e+08</td>\n",
       "</tr>\n",
       "<tr>\n",
       "  <th>Western</th>   <td>-1.263e+08</td> <td> 1.47e+08</td> <td>   -0.861</td> <td> 0.390</td> <td>-4.14e+08</td> <td> 1.62e+08</td>\n",
       "</tr>\n",
       "<tr>\n",
       "  <th>PG</th>        <td>-6.141e+07</td> <td> 6.33e+07</td> <td>   -0.970</td> <td> 0.332</td> <td>-1.86e+08</td> <td> 6.29e+07</td>\n",
       "</tr>\n",
       "<tr>\n",
       "  <th>PG-13</th>     <td>-7.467e+07</td> <td> 6.41e+07</td> <td>   -1.165</td> <td> 0.244</td> <td>   -2e+08</td> <td> 5.11e+07</td>\n",
       "</tr>\n",
       "<tr>\n",
       "  <th>R</th>         <td>-1.745e+08</td> <td> 6.67e+07</td> <td>   -2.617</td> <td> 0.009</td> <td>-3.05e+08</td> <td>-4.37e+07</td>\n",
       "</tr>\n",
       "<tr>\n",
       "  <th>Unrated</th>   <td>-4.052e+08</td> <td> 1.36e+08</td> <td>   -2.981</td> <td> 0.003</td> <td>-6.72e+08</td> <td>-1.39e+08</td>\n",
       "</tr>\n",
       "<tr>\n",
       "  <th>2.0</th>       <td> 6.729e+07</td> <td> 4.67e+07</td> <td>    1.440</td> <td> 0.150</td> <td>-2.44e+07</td> <td> 1.59e+08</td>\n",
       "</tr>\n",
       "<tr>\n",
       "  <th>3.0</th>       <td> 1.106e+08</td> <td> 4.41e+07</td> <td>    2.508</td> <td> 0.012</td> <td> 2.41e+07</td> <td> 1.97e+08</td>\n",
       "</tr>\n",
       "<tr>\n",
       "  <th>4.0</th>       <td> 3.239e+08</td> <td>  5.3e+07</td> <td>    6.109</td> <td> 0.000</td> <td>  2.2e+08</td> <td> 4.28e+08</td>\n",
       "</tr>\n",
       "<tr>\n",
       "  <th>5.0</th>       <td> 2.169e+08</td> <td> 4.42e+07</td> <td>    4.905</td> <td> 0.000</td> <td>  1.3e+08</td> <td> 3.04e+08</td>\n",
       "</tr>\n",
       "<tr>\n",
       "  <th>6.0</th>       <td> 2.236e+08</td> <td> 4.34e+07</td> <td>    5.157</td> <td> 0.000</td> <td> 1.39e+08</td> <td> 3.09e+08</td>\n",
       "</tr>\n",
       "<tr>\n",
       "  <th>7.0</th>       <td> 1.421e+08</td> <td> 4.38e+07</td> <td>    3.241</td> <td> 0.001</td> <td> 5.61e+07</td> <td> 2.28e+08</td>\n",
       "</tr>\n",
       "<tr>\n",
       "  <th>8.0</th>       <td> 1.392e+07</td> <td> 4.63e+07</td> <td>    0.301</td> <td> 0.764</td> <td>-7.69e+07</td> <td> 1.05e+08</td>\n",
       "</tr>\n",
       "<tr>\n",
       "  <th>9.0</th>       <td>-4.512e+06</td> <td>  5.1e+07</td> <td>   -0.089</td> <td> 0.929</td> <td>-1.04e+08</td> <td> 9.55e+07</td>\n",
       "</tr>\n",
       "<tr>\n",
       "  <th>10.0</th>      <td> 2.058e+07</td> <td> 4.81e+07</td> <td>    0.428</td> <td> 0.669</td> <td>-7.37e+07</td> <td> 1.15e+08</td>\n",
       "</tr>\n",
       "<tr>\n",
       "  <th>11.0</th>      <td> 1.504e+08</td> <td> 4.53e+07</td> <td>    3.322</td> <td> 0.001</td> <td> 6.16e+07</td> <td> 2.39e+08</td>\n",
       "</tr>\n",
       "<tr>\n",
       "  <th>12.0</th>      <td> 1.348e+08</td> <td> 4.32e+07</td> <td>    3.119</td> <td> 0.002</td> <td>    5e+07</td> <td>  2.2e+08</td>\n",
       "</tr>\n",
       "</table>\n",
       "<table class=\"simpletable\">\n",
       "<tr>\n",
       "  <th>Omnibus:</th>       <td>566.797</td> <th>  Durbin-Watson:     </th> <td>   0.645</td>\n",
       "</tr>\n",
       "<tr>\n",
       "  <th>Prob(Omnibus):</th> <td> 0.000</td>  <th>  Jarque-Bera (JB):  </th> <td>3646.067</td>\n",
       "</tr>\n",
       "<tr>\n",
       "  <th>Skew:</th>          <td> 2.018</td>  <th>  Prob(JB):          </th> <td>    0.00</td>\n",
       "</tr>\n",
       "<tr>\n",
       "  <th>Kurtosis:</th>      <td>10.356</td>  <th>  Cond. No.          </th> <td>    26.1</td>\n",
       "</tr>\n",
       "</table><br/><br/>Notes:<br/>[1] Standard Errors assume that the covariance matrix of the errors is correctly specified."
      ],
      "text/plain": [
       "<class 'statsmodels.iolib.summary.Summary'>\n",
       "\"\"\"\n",
       "                            OLS Regression Results                            \n",
       "==============================================================================\n",
       "Dep. Variable:                 profit   R-squared:                       0.180\n",
       "Model:                            OLS   Adj. R-squared:                  0.157\n",
       "Method:                 Least Squares   F-statistic:                     7.825\n",
       "Date:                Wed, 13 Oct 2021   Prob (F-statistic):           1.65e-33\n",
       "Time:                        19:48:34   Log-Likelihood:                -25962.\n",
       "No. Observations:                1243   AIC:                         5.199e+04\n",
       "Df Residuals:                    1208   BIC:                         5.217e+04\n",
       "Df Model:                          34                                         \n",
       "Covariance Type:            nonrobust                                         \n",
       "==============================================================================\n",
       "                 coef    std err          t      P>|t|      [0.025      0.975]\n",
       "------------------------------------------------------------------------------\n",
       "const       2.524e+08   7.48e+07      3.373      0.001    1.06e+08    3.99e+08\n",
       "Adventure   2.383e+07   2.69e+07      0.886      0.376   -2.89e+07    7.66e+07\n",
       "Animation   2.066e+07   4.19e+07      0.493      0.622   -6.15e+07    1.03e+08\n",
       "Biography  -4.495e+07   7.21e+07     -0.624      0.533   -1.86e+08    9.64e+07\n",
       "Comedy     -7.563e+07   3.07e+07     -2.465      0.014   -1.36e+08   -1.54e+07\n",
       "Crime      -8.726e+07   4.56e+07     -1.914      0.056   -1.77e+08    2.19e+06\n",
       "Drama      -8.739e+07   3.49e+07     -2.502      0.012   -1.56e+08   -1.89e+07\n",
       "Family     -1.104e+08   5.45e+07     -2.024      0.043   -2.17e+08    -3.4e+06\n",
       "Fantasy     -3.37e+07   3.79e+07     -0.888      0.375   -1.08e+08    4.07e+07\n",
       "History    -1.335e+08   9.94e+07     -1.344      0.179   -3.28e+08    6.14e+07\n",
       "Horror     -9.733e+07   7.77e+07     -1.253      0.210    -2.5e+08     5.5e+07\n",
       "Music      -2.054e+08   1.69e+08     -1.218      0.223   -5.36e+08    1.25e+08\n",
       "Musical     2.979e+07   1.46e+08      0.204      0.839   -2.57e+08    3.17e+08\n",
       "Mystery    -8.937e+07   6.52e+07     -1.370      0.171   -2.17e+08    3.86e+07\n",
       "Romance    -1.573e+08   6.63e+07     -2.372      0.018   -2.87e+08   -2.72e+07\n",
       "Sci-Fi      1.109e+08   3.89e+07      2.850      0.004    3.45e+07    1.87e+08\n",
       "Sport      -1.684e+08   1.47e+08     -1.149      0.251   -4.56e+08    1.19e+08\n",
       "Thriller   -5.135e+07   4.46e+07     -1.151      0.250   -1.39e+08    3.62e+07\n",
       "War        -3.884e+07   1.69e+08     -0.230      0.818    -3.7e+08    2.93e+08\n",
       "Western    -1.263e+08   1.47e+08     -0.861      0.390   -4.14e+08    1.62e+08\n",
       "PG         -6.141e+07   6.33e+07     -0.970      0.332   -1.86e+08    6.29e+07\n",
       "PG-13      -7.467e+07   6.41e+07     -1.165      0.244      -2e+08    5.11e+07\n",
       "R          -1.745e+08   6.67e+07     -2.617      0.009   -3.05e+08   -4.37e+07\n",
       "Unrated    -4.052e+08   1.36e+08     -2.981      0.003   -6.72e+08   -1.39e+08\n",
       "2.0         6.729e+07   4.67e+07      1.440      0.150   -2.44e+07    1.59e+08\n",
       "3.0         1.106e+08   4.41e+07      2.508      0.012    2.41e+07    1.97e+08\n",
       "4.0         3.239e+08    5.3e+07      6.109      0.000     2.2e+08    4.28e+08\n",
       "5.0         2.169e+08   4.42e+07      4.905      0.000     1.3e+08    3.04e+08\n",
       "6.0         2.236e+08   4.34e+07      5.157      0.000    1.39e+08    3.09e+08\n",
       "7.0         1.421e+08   4.38e+07      3.241      0.001    5.61e+07    2.28e+08\n",
       "8.0         1.392e+07   4.63e+07      0.301      0.764   -7.69e+07    1.05e+08\n",
       "9.0        -4.512e+06    5.1e+07     -0.089      0.929   -1.04e+08    9.55e+07\n",
       "10.0        2.058e+07   4.81e+07      0.428      0.669   -7.37e+07    1.15e+08\n",
       "11.0        1.504e+08   4.53e+07      3.322      0.001    6.16e+07    2.39e+08\n",
       "12.0        1.348e+08   4.32e+07      3.119      0.002       5e+07     2.2e+08\n",
       "==============================================================================\n",
       "Omnibus:                      566.797   Durbin-Watson:                   0.645\n",
       "Prob(Omnibus):                  0.000   Jarque-Bera (JB):             3646.067\n",
       "Skew:                           2.018   Prob(JB):                         0.00\n",
       "Kurtosis:                      10.356   Cond. No.                         26.1\n",
       "==============================================================================\n",
       "\n",
       "Notes:\n",
       "[1] Standard Errors assume that the covariance matrix of the errors is correctly specified.\n",
       "\"\"\""
      ]
     },
     "execution_count": 168,
     "metadata": {},
     "output_type": "execute_result"
    }
   ],
   "source": [
    "results=sm.OLS(y,x).fit()\n",
    "results.summary()"
   ]
  },
  {
   "cell_type": "markdown",
   "metadata": {},
   "source": [
    "The R squared for this model is only .18 - for the purposes of this analysis for Microsoft, we already have a good idea of what recommendations we will make. I won't explore performing multiple linear regression on this dataset any further."
   ]
  },
  {
   "cell_type": "markdown",
   "metadata": {},
   "source": [
    "# Evaluation\n",
    "\n",
    "While this data was not a comprehensive list of all movies made in the US in the last 10 years, it did include most of the large studio movies that would be comparable to what Microsoft would make.  Many of the films that were filtered out due to missing data had smaller or unknown budgets and would not have been a part of the high budget group.  Therefore, I am reasonably confident that this dataset provided sound information about film performance for Microsoft's purposes.\n",
    "\n",
    "It is important to note that this was a descriptive analysis based on correlation of certain characteristics with profit. It did not establish clear causation between those characteristics and increased profit. Many films with the recommended characteristics still perform poorly and the quality of the film produced is still important. However, making high-budget films in these categories can give the studio a better chance at success.\n",
    "\n",
    "There are also other characteristics that can predict performance that are not included in this analysis. Combinations of genres could be examined as well as leading actors, director, script content, and type of storyline."
   ]
  },
  {
   "cell_type": "markdown",
   "metadata": {},
   "source": [
    "# Conclusions\n",
    "\n",
    "This analysis led to four recommendations for determining what type of films to produce.\n",
    "\n",
    "1) High budget films (defined as over $40 million in this project) are more positively correlated with profit than low budget films. Since Microsoft is a large company with ample capital, they should invest in higher budget productions.\n",
    "\n",
    "2) Among high budget films, those which can be classified as Animation, Action, Adventure, or Sci-Fi have higher profits on average. Microsoft should consider making films that fall into one or more of these genres.\n",
    "\n",
    "3) High-performing MPAA Ratings vary by genre, although overall R-Rated movies tend to have lower profits. Below is a breakdown of recommended MPAA rating for the top four genres:<br>\n",
    ">-Animation: PG<br>\n",
    ">-Action: PG-13<br>\n",
    ">-Adventure: PG-13<br>\n",
    ">-Sci-Fi: PG-13\n",
    "    \n",
    "4) For high-budget films, profits tend to be higher in late Spring and early Summer (April-July) and in the holiday months (November and December). The month with the highest median profit is May, although this varies slightly by genre. Release dates in either of these peak seasons could give a high-budget film a better chance for success.\n"
   ]
  },
  {
   "cell_type": "markdown",
   "metadata": {},
   "source": [
    "### Next Steps ###\n",
    "\n",
    "More advanced methods could be utilized to create a predictive model for profit. Work has been done on machine learning models that can predict box office income based on characteristics of the film. There are also models that can predict outcomes from a script by using natural language processing to evaluate the storyline, genre, and type of language used. This could allow Microsoft to narrow down profitable films to produce within the overarching categories recommended by this project."
   ]
  }
 ],
 "metadata": {
  "kernelspec": {
   "display_name": "Python 3",
   "language": "python",
   "name": "python3"
  },
  "language_info": {
   "codemirror_mode": {
    "name": "ipython",
    "version": 3
   },
   "file_extension": ".py",
   "mimetype": "text/x-python",
   "name": "python",
   "nbconvert_exporter": "python",
   "pygments_lexer": "ipython3",
   "version": "3.8.5"
  },
  "toc": {
   "base_numbering": 1,
   "nav_menu": {},
   "number_sections": true,
   "sideBar": true,
   "skip_h1_title": false,
   "title_cell": "Table of Contents",
   "title_sidebar": "Contents",
   "toc_cell": false,
   "toc_position": {
    "height": "calc(100% - 180px)",
    "left": "10px",
    "top": "150px",
    "width": "355.594px"
   },
   "toc_section_display": true,
   "toc_window_display": false
  }
 },
 "nbformat": 4,
 "nbformat_minor": 4
}
